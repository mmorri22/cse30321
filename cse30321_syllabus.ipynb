{
 "cells": [
  {
   "cell_type": "markdown",
   "id": "24608994",
   "metadata": {},
   "source": [
    "# <center>Welcome to CSE 30321 - Computer Architecture</center>\n",
    "\n",
    "<center><img src = \"https://raw.githubusercontent.com/mmorri22/cse30321/main/syllabus.jpg\" length=750 width=500></center>"
   ]
  },
  {
   "cell_type": "markdown",
   "id": "1a97cec7",
   "metadata": {},
   "source": [
    "### Professor:\n",
    "\n",
    "|Name|Email|Office Location|Office Hours|\n",
    "|:---|:---|:---|:---|\n",
    "|Prof. Matthew Morrison|matt.morrison@nd.edu|178 Fitzpatrick Hall|M-W 1-2pm, Th 1-3pm|\n",
    "\n",
    "### Teaching Assistants:\n",
    "\n",
    "The office hours for the TAs may be found on the <a href = \"https://canvas.nd.edu/courses/82217/pages/office-hours-calendar\">Google Calendar on the Canvas page</a>.\n",
    "\n",
    "TA Office Hours start the second week of the semester.\n",
    "\n",
    "|Name|Email|Office Location|Office Hours|\n",
    "|:---|:---|:---|:---|\n",
    "|Brigid Burns|bburns4@nd.edu|XXX|XXX|\n",
    "|Luka Cvetko|lcvetko@nd.edu|XXX|XXX|\n",
    "|Joe Duggan|jduggan5@nd.edu|XXX|XXX|\n",
    "|Will Truluck|wtruluck@nd.edu|XXX|XXX|\n",
    "\n",
    "### Class Time and Location\n",
    "\n",
    "|Meeting Days|Time|Class Location|\n",
    "|:---|:---|:---|\n",
    "|Tu Th|11:00am - 12:15pm|DeBartolo Hall 116|\n",
    "\n",
    "### Additional Links\n",
    "\n",
    "<b>Course Slack</b>: https://app.slack.com/client/T0HJVP8MS/C05NW4NKEV7\n",
    "\n",
    "<b>Prof Morrison's LinkedIn Page</b>: https://www.linkedin.com/in/gregariousmatt/\n",
    "<ul><li>I regularly post job and internship opportunities for my students on LinkedIn</li></ul>"
   ]
  },
  {
   "cell_type": "markdown",
   "id": "3a0703d0",
   "metadata": {},
   "source": [
    "### Course Catalog Description\n",
    "\n",
    "This course introduces students to <b>computational thinking</b>, and develops their ability to <b>solve engineering problems</b> in software. Students will learn structured programming, algorithm analysis and development, C syntax and semantics, logical and syntactical debugging, and <b>software engineering fundamentals</b>. Students will engage in practical, hands-on programming exercises both inside and outside of class."
   ]
  },
  {
   "cell_type": "markdown",
   "id": "79b53a4a",
   "metadata": {},
   "source": [
    "### Course Goals\n",
    "\n",
    "The goal of CSE 20133/20232 is to teach the fundamentals behind the \"magic\" of computer systems from the hardware level to the global internet. We'll cover the ideas, principles and abstractions that unify computer design – from how your laptop runs multiple programs at the same time, to how companies like Instagram, Airbnb, and Google operate large websites, to how easy it is to exploit security vulnerabilities on badly designed systems. This class is designed for engineers who are interested in learning what programming is, how computer systems work, and why these systems are so critical to modern technology."
   ]
  },
  {
   "cell_type": "markdown",
   "id": "7c1689af",
   "metadata": {},
   "source": [
    "### Lecture Notes and Course Schedule\n",
    "\n",
    "The Lecture Notes and Course Schedule for the Fall 2023 semester may be found on the Canvas page at https://canvas.nd.edu/courses/74671/pages/lecture-notes-and-schedule. This schedule includes all the reading assignments, in-class coding opportunities, and assignment descriptions and due dates.\n",
    "\n",
    "> <b>Note</b>: All slides and solutions to in-class coding opportunities will be posted <i>after</i> the lecture."
   ]
  },
  {
   "cell_type": "markdown",
   "id": "541d4fa9",
   "metadata": {},
   "source": [
    "### Time Outside of Class Expectations\n",
    "\n",
    "According to Federal Law, a \"Credit Hour\" is <a href=\"https://fsapartners.ed.gov/sites/default/files/attachments/dpcletters/GEN1106.pdf\">legally defined as follows</a>:\n",
    "\n",
    "> A credit hour is now formally defined, for Title IV aid purposes, as an amount of work that reasonably approximates <i>not less than</i>:<p></p>\n",
    "> One hour of classroom or direct faculty instruction and a <i>minimum</i> of two hours of out of class student work each week for approximately fifteen weeks for a semester or trimester hour, or ten to twelve weeks for one quarter hour of credit (or the equivalent amount of work over a different amount of time)\n",
    "\n",
    "This course is a <i>required</i> engineering course for Electrical Engineers that is 3 credit hours, meaning that the <u>average</u> student must undertake <i>not less than</i> six hours of work each week outside the classroom. In order to promote efficient instruction and learning, my aim is that the average student spends an efficient 2-3 hours per credit hour outside of classroom instruction on this course. The course is designed for the average student to require <b>7.5 hours per week</b> outside the classroom.\n",
    "\n",
    "$$ { {CreditHours*(hours_{min} + hours_{max})} \\over 2 } = { {3*(2+3)} \\over 2 } = { {6+9} \\over 2 } = 7.5 $$\n",
    "\n",
    "The approximate breakdown of work expectation in this course per week is as follows (will vary between students):\n",
    "<ul>\n",
    "    <li><b>1.5 hours</b> per week of <b>preview reading</b></li>\n",
    "    <li><b>1.5 hour</b> per week for <b>reviewing your in-class material</b></li>\n",
    "    <li><b>4.5 hours</b> per week for <b>Homework Assignments</b></li>\n",
    "</ul>\n",
    "\n",
    "> <b>Note</b>: On the student CIF feedback over the last three years, the average student reported their time outside of class in this course as <b>7.4 hours/week</b>. This is my aim, which means we are working towards a proper balance between <b>challenging you</b> outside of the classroom and <b>respecting your time</b> requirements for other classes, activities, and responsibilities. <b>If you are struggling, please find me or a TA as soon as possible, and we will provide assistance</b>."
   ]
  },
  {
   "cell_type": "markdown",
   "id": "4543be84",
   "metadata": {},
   "source": [
    "### Assignments\n",
    "\n",
    "There are four separate assignment categories we will use to assess your progress in the course.\n",
    "\n",
    "<b>Homework Assignments</b>: Problem sets and Coding Assignments that are designed to prepare you for exams and enhance programming proficiency. These assignments will be due by 11:59pm on Thursdays.\n",
    "\n",
    "We encourage collaboration among students (subject to the collaboration policy below), but all assignments will be graded based on individual solutions.\n",
    "\n",
    "<b>In-Class Participation</b>: Each student will be expected to present an answer to a Reading Assignment question or in-class coding opportunity <i>four times</i> this semester. Correct answers are not required for credit, simply a good-faith attempt to build and strengthen your understanding of the material.\n",
    "\n",
    "<b>Exams</b>: Two examinations will be given this semester. They are closed book, closed notes, closed laptop. Problems will be similar to in-class problems and Homework Assignments. There will not be any programming on an Exam, although you will be expected to hand-write small code segments on some Exam problems."
   ]
  },
  {
   "cell_type": "markdown",
   "id": "b1ff9de3",
   "metadata": {},
   "source": [
    "### Assignment Grade Breakdown\n",
    "\n",
    "Your letter grade will be determined by the total points out of the possible 15,000. In other words, there is no curving in this course. Your grade will depend solely on how well you do, and not on how well everyone else does. \n",
    "\n",
    "|Category|Per Assignment|Total Points|Percentage|\n",
    "|:---|:---|:---|:---|\n",
    "|9 Homework Assignments*|500/1000|8,000|53.33%|\n",
    "|1 Group Project|2,000|1,500|10%|\n",
    "|4 In-Class Participation|125|500|3.33%|\n",
    "|Midterm Exam|2,000|2,000|13.33%|\n",
    "|Final Exam|3,000|3,000|20%|\n",
    "|<b>Total</b>||<b>15,000</b>|<b>100%</b>|\n",
    "\n",
    "> <b>*</b> Homework 1 and Homework 2 are worth 500 points. All other Homework assignments will be worth 1,000 points.\n",
    "\n",
    "### Grade Percentage Breakdown\n",
    "\n",
    "The final grade \"bins\" for each letter grade:\n",
    "\n",
    "|Letter Grade|Score Range|Percentages|\n",
    "|:---|:---|:---|\n",
    "|A|15,000 - 13,950| 100% - 93% |\n",
    "|A-|13,949 - 13,500| 92.99% - 90% |\n",
    "|B+|13,499 - 13,050| 89.99% - 87% |\n",
    "|B|13,049 - 12,450| 86.99% - 83% |\n",
    "|B-|12,449 - 12,000| 82.99% - 80% |\n",
    "|C+|11,999 - 11,550| 79.99% - 77% |\n",
    "|C|11,549 - 10,950| 76.99% - 73% |\n",
    "|C-|10,949 - 10,500| 72.99% - 70% |\n",
    "|D|10,499 - 9,000| 69.99% - 60% |\n",
    "|F|8,999 - 0| 59.99% - 0% |"
   ]
  },
  {
   "cell_type": "markdown",
   "id": "fbfad410",
   "metadata": {},
   "source": [
    "## Late Policies and \"Extension Tokens\" \n",
    "\n",
    "If the class truly simulated a professional software development environment, I would probably only accept late assignments! But since this is a class and I need to give you a grade (and to mimic the realities of late software coming with a penalty), I need to ensure fairness across grading.\n",
    "\n",
    "The expected deadlines for each assignment are posted on the class website. Our assumption is that you will complete each assignment by its due date. \n",
    "\n",
    "However, we understand that life gets in the way. It is possible to submit Homework Assignments late by using an \"extension token\" for the assignment. Every student will start with a total of 3 days (72 hours) worth of slip time that can be used. If you have remaining time, the tokens are automatically granted.\n",
    "\n",
    "> <b>Note</b>: Examinations are not eligible for Extension Token use.\n",
    "\n",
    "Any request for an extension token will be automatically granted as long as: \n",
    "<ul>\n",
    "    <li>You have not used up your slip time.</li>\n",
    "    <li>The assignment in question is eligible.</li>\n",
    "</ul>\n",
    "\n",
    "For example, consider a student who has:\n",
    "<ul>\n",
    "<li>Submitted Homework 2 three hours late. ( 0.125 slip days, 3 hours )</li>\n",
    "<li>Submitted Homework 5 thirty-five hours late ( 1.46 slip days, 35 hours )</li>\n",
    "<li>Submitted Homework 8 sixteen hours late ( 0.67 slip days, 16 hours )</li>\n",
    "<li>Realizes one day after the deadline that they forgot to submit Homework 10.</li>\n",
    "</ul>\n",
    "    \n",
    "This student has used 2.29 of their slip days ( 54 hours out of 72 ). They have 0.75 days ( 18 hours remaining ). Therefore, we will need to decline the extension request and assign a grade of 0 because the lateness of the submission ( 24 hours ) exceeds their remaining tokens ( 18 hours ).     "
   ]
  },
  {
   "cell_type": "markdown",
   "id": "eaab0219",
   "metadata": {},
   "source": [
    "### Academic Integrity and Collaboration Policy\n",
    "\n",
    "CSE 20133/20232 requires every student to turn in a separate code repository that contains their own code. Learning benefits from discussion, so you are welcome to discuss approaches and solution ideas with your classmates, but <i>you must write your own solution code and answers to conceptual questions</i>.\n",
    "\n",
    "Collaboration is an important part of both CSE 20133/20232 and real-world engineering. Talking through your code with other students leads to less stress and loneliness and to easier debugging.\n",
    "\n",
    "But collaboration can hurt your learning, too. We want every student to have worked on every project, and to have encountered the intellectual challenges it poses. Simply asking your classmates to show you their solution and copying it hurts your learning, and constitutes academically dishonest behavior (i.e., plagiarism).\n",
    "\n",
    "We seek a middle ground in which you don't feel isolated and form productive collaborations with your classmates, but still reason through your own code. You may discuss this code with classmates and help your friends debug, but every piece of code you submit must be written by you and you must not submit wholly identical solutions. A good way to ensure this is for you to type in your solutions individually, even if you are discussing your approach with your friends and you help each other debug.\n",
    "\n",
    "Furthermore, you may not utilize AI powered tools such as ChatGPT, Co-Pilot, or Tabnine for any of your programming assignments.\n",
    "\n",
    "The following table summarizes how you may work with other students and use print/online sources:\n",
    "\n",
    "| |Resources|Solutions|AI Tools|\n",
    "|:---|:---|:---|:---|\n",
    "|<b>Consulting</b>|<font color=gold style=\"background-color:green\">Allowed</font>|<font color=white style=\"background-color:red\">Not Allowed</font>|<font color=white style=\"background-color:red\">Not Allowed</font>|\n",
    "|<b>Copying</b>|<font style=\"background-color:yellow\">Cite|<font color=white style=\"background-color:red\">Not Allowed</font>|<font color=white style=\"background-color:red\">Not Allowed</font>|\n",
    "    \n",
    "If an instructor sees behavior that is, in their judgment, academically dishonest, they are required to file either an Honor Code Violation Report or a formal report to the College of Engineering Honesty Committee."
   ]
  },
  {
   "cell_type": "markdown",
   "id": "e3914dbd",
   "metadata": {},
   "source": [
    "### Testing Accommodations\n",
    "\n",
    "Testing accommodations are modifications to the way you take a test. They do not lower the standards of the test but simply allow you to better demonstrate your understanding of the course material without the interference of a disability. Examples of testing accommodations include extended time, room with less distractions, a reader, or use of a computer. To receive testing accommodations, you must:\n",
    "<ul>\n",
    "<li>Obtain a Request for Testing Accommodation (RTA) form from the Sara Bea Disability Services office. You will need one for each class for which you are requesting testing accommodations. RTA forms only apply to your current classes, so you will need to request new forms each semester.</li>\n",
    "<li>Take your RTA forms to your instructors. If they agree that your accommodations are reasonable, then you each need to complete your portion of the RTA form.</li>\n",
    "<li>Return the completed RTA form to Sara Bea Disability Services two (2) business days before the first test for which you have requested accommodations</li>\n",
    "</ul>"
   ]
  },
  {
   "cell_type": "markdown",
   "id": "e8f6dd76",
   "metadata": {},
   "source": [
    "### Support for Student Mental Health\n",
    "\n",
    "<b>University Statement</b> - \"Care and Wellness Consultants provide support and resources to students who are experiencing stressful or difficult situations that may be interfering with academic progress. Through Care and Wellness Consultants, students can be referred to The University Counseling Center (for cost-free and confidential psychological and psychiatric services from licensed professionals), University Health Services (which provides primary care, psychiatric services, case management, and a pharmacy), and The McDonald Center for Student Well Being (for problems with sleep, stress, and substance use). Visit care.nd.edu.\"\n",
    "\n",
    "<b>My Statement</b> - I encourage all my students to understand that your mental and physical health are paramount, even beyond the impact it may have on your class performance. Factors outside of the classroom contribute to a student's well-being, and I am compassionate and understanding of these issues. In my class room, we will not stigmatize mental health issues nor shame people who are struggling with them, and I pledge to work with each student to facilitate any necessary mental care."
   ]
  },
  {
   "cell_type": "markdown",
   "id": "5b81ff9d",
   "metadata": {},
   "source": [
    "### Diversity, Equity, and Inclusion\n",
    "\n",
    "<b>University Statement</b> - The University of Notre Dame is committed to social justice and diversity. I share that commitment and strive to maintain a positive learning environment based on open communication, mutual respect, and non-discrimination. In this class, we will not discriminate on the basis of race, sex, age, economic class, disability, veteran status, religion, sexual orientation, color or national origin. Any suggestions as to how to further such a positive and open environment will be appreciated and given serious consideration.\n",
    "\n",
    "<b>My Additional Statement</b> -  One of my instructing standards is that two students who perform the same amount of work and achieve the same results should receive the same grade. Many of my previously stated policies are designed to help meet this objective. I recognize there are several real-world challenges to achieving this objective, and I will work with all of my students to help break down barriers that force certain students to put in extraneous work in order to achieve the same grade."
   ]
  }
 ],
 "metadata": {
  "kernelspec": {
   "display_name": "Python 3 (ipykernel)",
   "language": "python",
   "name": "python3"
  },
  "language_info": {
   "codemirror_mode": {
    "name": "ipython",
    "version": 3
   },
   "file_extension": ".py",
   "mimetype": "text/x-python",
   "name": "python",
   "nbconvert_exporter": "python",
   "pygments_lexer": "ipython3",
   "version": "3.9.13"
  }
 },
 "nbformat": 4,
 "nbformat_minor": 5
}
