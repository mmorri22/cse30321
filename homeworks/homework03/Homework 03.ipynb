{
 "cells": [
  {
   "cell_type": "markdown",
   "id": "95fbc046",
   "metadata": {},
   "source": [
    "# Homework 03 - Stored Program Concept and RISC-V Introduction\n",
    "\n",
    "### Assigned for Spring 2024 Semester: 2/1/2024\n",
    "### Due for Spring 2024 Semester: 2/8/2024 at 11:59pm on Gradescope\n",
    "\n",
    "> <b>Note:</b> Review the <a href = \"https://github.com/mmorri22/cse30321/blob/main/cse30321-syllabus.md\">Course Syllabus</a> for policies regarding late submissions for Homework Assignments, as well as homework collaboration. You are welcome to study together, but the final submission must be your own good-faith attempt."
   ]
  },
  {
   "cell_type": "markdown",
   "id": "c4b86103",
   "metadata": {},
   "source": [
    "## Homework Format Instructions\n",
    "\n",
    "Compile all your solutions into a single PDF and upload your solutions through the Gradescope submission link. Review the detailed steps for submission at the bottom on this page"
   ]
  },
  {
   "cell_type": "markdown",
   "id": "99fa30b4",
   "metadata": {},
   "source": [
    "## Part 1 - Reading and Lecture Review\n",
    "\n",
    "<b>Problem 1</b> - 50 points - In the Hardware/Software Interface section of the reading, how do compilers improve coding time in high-level programming languages?\n",
    "\n",
    "<b>Problem 2</b> - 50 points - Draw the formats of the R, I, S, and SB-Type instructions. \n",
    "\n",
    "<b>Problem 3</b> - 75 points - In your own words, describe the justification for the reordering of the immediate bits in the SB-Type instruction as the RISC-V architecture specification changed. A full credit answer will include a drawing of the original 2011 SB-Type instruction (referred to as B-Type), a description of why it changed in the 2017 version, and why the bit-shift is only 1 instead of 2 bits.\n",
    "\n",
    "<b>Problem 4</b> - 75 points - Define the Principle of Locality, and differentiate between Temporal and Spatial Locality."
   ]
  },
  {
   "cell_type": "markdown",
   "id": "408a1d69",
   "metadata": {},
   "source": [
    "## Part 2 - C to RISC-V\n",
    "\n",
    "> In the last assignment, you were permitted to use the <code>lui</code> and <code>srai</code> instructions when entering values into registers to assist your understanding as you transitioned from albaCore to RISC-V. Now that you have more experience with RISC-V, you will be expected to use the <code>lui</code> and <code>addi</code> instructions optimizations to enter the values into the registers on HW 3 and the Exams (as shown in the Lecture 05 In-Class code solution). You are permitted to assume that the integers we will use on these problems fit into the immediate lengths on Homeworks and Exams.\n",
    "\n",
    "<b>Problem 5</b> - 250 points - Given that x is the base address of an array stored in x18, y is in x19, z is in x20, i is in x21, convert the C code to RISC-V assembly and then to RISC-V binary encoding. You may use x5-x7 and x28-x31 for temporary registers as necessary. You may represent the immediate values in I-type and S-type instructions in hex, but SB-type must be in binary.\n",
    "\n",
    "    int* x = 0x032c41a0;\n",
    "    int y = 64;\n",
    "    int z = 12;\n",
    "    \n",
    "    for(int i=0; i <= 5 && y >= z; ++i) {\n",
    "        x[i] = y + z;\n",
    "        y = y / 2;\n",
    "        --z;\n",
    "    }\n",
    "    \n",
    "    \n",
    "<b>Problem 6</b> - 250 points - Given that x is the base address of an array stored in x18, that y is the base address of an array stored in x19, z is in x20, i is in x21, convert the C code to RISC-V assembly and then to RISC-V binary encoding. You may use x5-x7 and x28-x31 for temporary registers as necessary. You may represent the immediate values in I-type and S-type instructions in hex, but SB-type must be in binary.\n",
    "\n",
    "Note: Both addresses already have their values stored in the Data Memory, and their lengths are both 7, so there will not be any issues with segmentation faults.\n",
    "\n",
    "\n",
    "    int* x = 0x042ff320\n",
    "    int* y = 0x511aa1a0\n",
    "    \n",
    "    // Instructions where array data are stored are omitted for this problem\n",
    "    \n",
    "    for(int i = 0; i < 7; ++i){\n",
    "        z = x[i] - 1;\n",
    "        x[i] = y[i] + 1;\n",
    "        y[i] = z;\n",
    "    }"
   ]
  },
  {
   "cell_type": "markdown",
   "id": "ba060699",
   "metadata": {},
   "source": [
    "## Part 3 - Stored Program Concept\n",
    "\n",
    "> Hint: You are welcome to reference the solutions to the in-class problems posted to the Canvas page from Lecture 03 as you complete these problems"
   ]
  },
  {
   "cell_type": "markdown",
   "id": "d78ca00b",
   "metadata": {},
   "source": [
    "<b>Problem 7</b> - 250 points - Given the following C struct compiled using <code>gcc</code> on an <code>x86</code> architecture on the Ubuntu 20.2 Operating System with a base address in data memory of <code>0x44bb6a0</code>\n",
    "\n",
    "<ol>\n",
    "    <li>Calculate the optimal amount of memory the struct could consume in memory</li>\n",
    "    <li>Calculate the actual amount of memory the struct consumes, and draw the layout. Show the segmentation in memory.</li>\n",
    "    <li>Re-design the struct to improve the memory consumed</li>\n",
    "    <li>Calculate the actual amount of memory the new struct consumes, and draw the layout. Show any remaining segmentation in memory</li>\n",
    "</ol>\n",
    "\n",
    "    typedef struct first_struct{\n",
    "        char first_char;\n",
    "        char second_char;\n",
    "        double first_double;\n",
    "        float first_float;\n",
    "        double second_double;\n",
    "        char third_char;\n",
    "        int first_int;\n",
    "        float second_float;\n",
    "        float third_float;\n",
    "    }first_struct;"
   ]
  },
  {
   "cell_type": "markdown",
   "id": "c8eb445a",
   "metadata": {},
   "source": [
    "## Part 4 - Submission on Gradescope\n",
    "\n",
    "Upload a single PDF to Gradescope using the following link by the due date on the Canvas <a href = \"https://canvas.nd.edu/courses/82217/pages/lecture-notes-and-schedule\">Lecture Notes and Schedule page</a>\n",
    "\n",
    "### <a href = \"https://canvas.nd.edu/courses/82217/assignments/254401\">Homework 03 Gradescope Submission Link</a>\n",
    "\n",
    "You are required to link the Problems with the page where the solution may be found. This requirement is to ensure that that TAs may easily find your answers, so that grades are returned promptly and that errors in grading are prevented."
   ]
  }
 ],
 "metadata": {
  "kernelspec": {
   "display_name": "Python 3 (ipykernel)",
   "language": "python",
   "name": "python3"
  },
  "language_info": {
   "codemirror_mode": {
    "name": "ipython",
    "version": 3
   },
   "file_extension": ".py",
   "mimetype": "text/x-python",
   "name": "python",
   "nbconvert_exporter": "python",
   "pygments_lexer": "ipython3",
   "version": "3.9.13"
  }
 },
 "nbformat": 4,
 "nbformat_minor": 5
}
