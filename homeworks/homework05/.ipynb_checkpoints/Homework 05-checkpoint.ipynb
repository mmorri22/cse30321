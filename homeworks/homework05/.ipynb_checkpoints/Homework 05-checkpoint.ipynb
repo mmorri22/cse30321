{
 "cells": [
  {
   "cell_type": "markdown",
   "id": "95fbc046",
   "metadata": {},
   "source": [
    "# Homework 05 - Pipelining, Hazards, Branch Prediction, and Memory Hierarchy\n",
    "\n",
    "### Assigned for Spring 2024 Semester: 2/29/2024\n",
    "### Due for Spring 2024 Semester: 3/7/2024 at 11:59pm on Gradescope\n",
    "\n",
    "> <b>Note:</b> Review the <a href = \"https://github.com/mmorri22/cse30321/blob/main/cse30321-syllabus.md\">Course Syllabus</a> for policies regarding late submissions for Homework Assignments, as well as homework collaboration. You are welcome to study together, but the final submission must be your own good-faith attempt."
   ]
  },
  {
   "cell_type": "markdown",
   "id": "c4b86103",
   "metadata": {},
   "source": [
    "## Homework Format Instructions\n",
    "\n",
    "Compile all your solutions into a single PDF and upload your solutions through the Gradescope submission link. Review the detailed steps for submission at the bottom on this page"
   ]
  },
  {
   "cell_type": "markdown",
   "id": "99fa30b4",
   "metadata": {},
   "source": [
    "## Part 1 - Reading and Lecture Review\n",
    "\n",
    "The material for this assignment covers Lectures 11-13.\n",
    "\n",
    "<b>Problem 1</b> - 75 points - Define Pipeline Hazard. State and define the three types of pipeline hazards. \n",
    "\n",
    "<b>Problem 2</b> - 75 points - Briefly describe the purpose (in the context of locality), benefit, and tradeoff of SRAM. Then, in detail, describe the operation of a 6T-cell SRAM. Include descriptions of how the Bit Line, Word Line, inverters, and nMOS transistors are used to store data to an SRAM cell. \n",
    "\n",
    "<b>Problem 3</b> - 75 points - Briefly describe the purpose (in the context of locality), benefit, and tradeoff of DRAM. Then, in detail, describe the operation of a 1T-cell DRAM. Include descriptions of how the Bit Line, Word Line, capacitor, and nMOS transistors are used to store data to an DRAM cell. \n",
    "\n",
    "<b>Problem 4</b> - 75 points - Describe, in detail, the operation of the magnetic disk structure. Spefically, describe the purpose of tracks, sectors, blocks, and how we read/write from a  "
   ]
  },
  {
   "cell_type": "markdown",
   "id": "408a1d69",
   "metadata": {},
   "source": [
    "## Part 2 - Pipelining\n",
    "\n",
    "> In the last assignment, you were permitted to use the <code>lui</code> and <code>srai</code> instructions when entering values into registers to assist your understanding as you transitioned from albaCore to RISC-V. Now that you have more experience with RISC-V, you will be expected to use the <code>lui</code> and <code>addi</code> instructions optimizations to enter the values into the registers on HW 3 and the Exams (as shown in the Lecture 05 In-Class code solution). You are permitted to assume that the integers we will use on these problems fit into the immediate lengths on Homeworks and Exams.\n",
    "\n",
    "<b>Problem 5</b> - 125 points - Consider the following RISC-V code sequence \n",
    "\n",
    "    add x7, x18, x20\n",
    "    lw  x21, 20(x7)\n",
    "    add x5, x21, x22\n",
    "    sub x23, x5, x21\n",
    "    or  x23, x21, x22\n",
    "    sw  x23, 20(x5)\n",
    "\n",
    "a) Assuming no forwarding, identify all pipeline hazards between pairs of instructions\n",
    "\n",
    "b) Assuming no forwarding, insert stalls as needed to overcome these hazards. How many clock cycles are needed to finish these instructions?\n",
    "\n",
    "c) Assuming we use forwarding, insert stalls as needed to overcome these hazards. How many clock cycles are needed to finish executing these instructions?\n",
    "    \n",
    "    \n",
    "<b>Problem 6</b> - 125 points - Consider the following RISC-V code sequence \n",
    "\n",
    "    lw   x18, 40(x10)\n",
    "    add  x22, x10, x18\n",
    "    lw   x19, 44(x10)\n",
    "    or   x23, x22, x18\n",
    "    lw   x24, 48(x10)\n",
    "    addi x6, x24, -7\n",
    "\n",
    "a) Assuming we use forwarding, insert stalls as needed to overcome these hazards. How many clock cycles are needed to finish executing these instructions?\n",
    "\n",
    "b) Rearrange the instructions to minimize the need for stalls. How many clock cycles are needed to finish executing these instructions?"
   ]
  },
  {
   "cell_type": "markdown",
   "id": "ba060699",
   "metadata": {},
   "source": [
    "## Part 3 - Branch Prediction\n",
    "\n",
    "<b>Problem 7</b> - 100 points - Draw the 2-bit branch prediction FSM. Then, given the following branch addresses and branches, show the final state of a k=3 correlating prediction model\n",
    "\n",
    "|Address|T/N|\n",
    "|:--|:--|\n",
    "|10001101|T|\n",
    "|10001000|N|\n",
    "|10001101|T|\n",
    "|10001111|N|\n",
    "|10001101|N|\n",
    "|10001000|T|\n",
    "|10001000|T|\n",
    "|10001101|T|\n",
    "|10001111|T|\n",
    "\n",
    "<b>Problem 8</b> - 100 points - Assume 35% of instructions change the flow of a program:\n",
    "\n",
    "28% of instructions are branches\n",
    "<ul>\n",
    "    <li>25% of branches are taken</li>\n",
    "    <li>Mispredicted branches result in a 3 cycle stall (wait for address to be calculated)</li>\n",
    "</ul>\n",
    "\n",
    "7% of instructions are loads\n",
    "<ul>\n",
    "    <li>45% of the time, the next instruction uses the loaded value</li>\n",
    "</ul>\n",
    "\n",
    "What is the impact on performance assuming:\n",
    "<ul>\n",
    "    <li>Every load instruction takes 3 cycles</li>\n",
    "    <li>There is an additional 1 cycle stall for load hazard</li>\n",
    "    <li>Always predict branch not taken</li>\n",
    "    <li>5-stage datapath</li>\n",
    "</ul>"
   ]
  },
  {
   "cell_type": "markdown",
   "id": "157f0e74",
   "metadata": {},
   "source": [
    "## Part 4 - Memory Hierarchy\n",
    "\n",
    "<b>Problem 9</b>:\n",
    "\n",
    "Part 1 - 125 points - Consider a database for the Rare Books & Special Collections at the Hesburg Library, which contains 132,000 separate volumes. Each contains the following information stored in a C struct in an x86_64 architecture.\n",
    "\n",
    "<ul>\n",
    "    <li>Notre Dame Book ID: Unsigned integer</li>\n",
    "    <li>Dewey Decimal System Entry: double</li>\n",
    "    <li>ISBN-13: Unsigned integer</li>\n",
    "    <li>Manuscript Name:  char array – Up to 50 characters</li>\n",
    "    <li>Author's Last Name: char array - Up to 25 characters</li>\n",
    "    <li>Author's First Name: char array - Up to 18 characters</li>\n",
    "    <li>Topic Category: character</li>\n",
    "    <li>Publisher: char array - Up to 50 characters</li>\n",
    "    <li>Age Range: character</li>\n",
    "    <li>Publication Year: Unsigned integer</li>\n",
    "</ul>\n",
    "\n",
    "Determine the amount of memory consumed storing these entries on a Disk with block of 1024 bytes using both segmentation and paging. Draw the layout of the first three blocks for each.\n",
    "\n",
    "\n",
    "Part 2 - 175 points - Rearrange the C Struct to improve the amount of memory per entry. Determine the amount of memory consumed storing the same 132,000 entries on a Disk with block of 1024 bytes using both segmentation and paging with the improved C struct. Calculate the memory savings for both segmentation and paging.\n",
    "\n",
    "> Note: You may not reduce or rearrange the segmentation for the char arrays. They will be allocated in multiples of 8 in this OS/Architecture."
   ]
  },
  {
   "cell_type": "markdown",
   "id": "c8eb445a",
   "metadata": {},
   "source": [
    "## Part 5 - Submission on Gradescope\n",
    "\n",
    "Upload a single PDF to Gradescope using the following link by the due date on the Canvas <a href = \"https://canvas.nd.edu/courses/82217/pages/lecture-notes-and-schedule\">Lecture Notes and Schedule page</a>\n",
    "\n",
    "### <a href = \"\">Homework 05 Gradescope Submission Link</a>\n",
    "\n",
    "You are required to link the Problems with the page where the solution may be found. This requirement is to ensure that that TAs may easily find your answers, so that grades are returned promptly and that errors in grading are prevented."
   ]
  }
 ],
 "metadata": {
  "kernelspec": {
   "display_name": "Python 3 (ipykernel)",
   "language": "python",
   "name": "python3"
  },
  "language_info": {
   "codemirror_mode": {
    "name": "ipython",
    "version": 3
   },
   "file_extension": ".py",
   "mimetype": "text/x-python",
   "name": "python",
   "nbconvert_exporter": "python",
   "pygments_lexer": "ipython3",
   "version": "3.9.13"
  }
 },
 "nbformat": 4,
 "nbformat_minor": 5
}
