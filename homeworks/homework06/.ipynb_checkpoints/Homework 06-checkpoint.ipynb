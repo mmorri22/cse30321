{
 "cells": [
  {
   "cell_type": "markdown",
   "id": "95fbc046",
   "metadata": {},
   "source": [
    "# Homework 06 - Memory Hierarchy and Cache Associativity\n",
    "\n",
    "### Assigned for Spring 2024 Semester: 3/7/2024\n",
    "### Due for Spring 2024 Semester: 3/21/2024 at 11:59pm on Gradescope\n",
    "\n",
    "> <b>Note:</b> Review the <a href = \"https://github.com/mmorri22/cse30321/blob/main/cse30321-syllabus.md\">Course Syllabus</a> for policies regarding late submissions for Homework Assignments, as well as homework collaboration. You are welcome to study together, but the final submission must be your own good-faith attempt.\n",
    "\n",
    "# <font color = \"red\">This is a DRAFT. Do not start these problems, as there is no guarantee these problems will be on the actual assignment as of yet."
   ]
  },
  {
   "cell_type": "markdown",
   "id": "c4b86103",
   "metadata": {},
   "source": [
    "## Homework Format Instructions\n",
    "\n",
    "Compile all your solutions into a single PDF and upload your solutions through the Gradescope submission link. Review the detailed steps for submission at the bottom on this page"
   ]
  },
  {
   "cell_type": "markdown",
   "id": "99fa30b4",
   "metadata": {},
   "source": [
    "## Part 1 - Reading and Lecture Review\n",
    "\n",
    "The material for this assignment covers Lectures 11-13.\n",
    "\n",
    "<b>Problem X</b> - 75 points - Briefly describe the purpose (in the context of locality), benefit, and tradeoff of SRAM. Then, in detail, describe the operation of a 6T-cell SRAM. Include descriptions of how the Bit Line, Word Line, inverters, and nMOS transistors are used to store data to an SRAM cell. \n",
    "\n",
    "<b>Problem X</b> - 75 points - Briefly describe the purpose (in the context of locality), benefit, and tradeoff of DRAM. Then, in detail, describe the operation of a 1T-cell DRAM. Include descriptions of how the Bit Line, Word Line, capacitor, and nMOS transistors are used to store data to an DRAM cell. \n",
    "\n",
    "<b>Problem X</b> - 75 points - Describe, in detail, the operation of the magnetic disk structure. Spefically, describe the purpose of tracks, sectors, blocks, and how we perform reads/writes with a disk."
   ]
  },
  {
   "cell_type": "markdown",
   "id": "157f0e74",
   "metadata": {},
   "source": [
    "## Part 2 - Memory Hierarchy\n",
    "\n",
    "<b>Problem X</b>:\n",
    "\n",
    "Part 1 - 125 points - Consider a database for the Rare Books & Special Collections at the Hesburg Library, which contains 132,000 separate volumes. Each contains the following information stored in a C struct in an x86_64 architecture.\n",
    "\n",
    "<ul>\n",
    "    <li>Notre Dame Book ID: Unsigned integer</li>\n",
    "    <li>Dewey Decimal System Entry: double</li>\n",
    "    <li>ISBN-13: Unsigned integer</li>\n",
    "    <li>Manuscript Name:  char array – Up to 50 characters</li>\n",
    "    <li>Author's Last Name: char array - Up to 25 characters</li>\n",
    "    <li>Author's First Name: char array - Up to 18 characters</li>\n",
    "    <li>Topic Category: character</li>\n",
    "    <li>Publisher: char array - Up to 50 characters</li>\n",
    "    <li>Age Range: character</li>\n",
    "    <li>Publication Year: Unsigned integer</li>\n",
    "</ul>\n",
    "\n",
    "Determine the amount of memory consumed storing these entries on a Disk with block of 1024 bytes using both segmentation and paging. Draw the layout of the first three blocks for each.\n",
    "\n",
    "\n",
    "Part 2 - 175 points - Rearrange the C Struct to improve the amount of memory per entry. Determine the amount of memory consumed storing the same 132,000 entries on a Disk with block of 1024 bytes using both segmentation and paging with the improved C struct. Calculate the memory savings for both segmentation and paging.\n",
    "\n",
    "> Note: You may not reduce or rearrange the segmentation for the char arrays. They will be allocated in multiples of 8 in this OS/Architecture."
   ]
  },
  {
   "cell_type": "markdown",
   "id": "c8eb445a",
   "metadata": {},
   "source": [
    "## Part 5 - Submission on Gradescope\n",
    "\n",
    "Upload a single PDF to Gradescope using the following link by the due date on the Canvas <a href = \"https://canvas.nd.edu/courses/82217/pages/lecture-notes-and-schedule\">Lecture Notes and Schedule page</a>\n",
    "\n",
    "### <a href = \"\">Homework 05 Gradescope Submission Link</a>\n",
    "\n",
    "You are required to link the Problems with the page where the solution may be found. This requirement is to ensure that that TAs may easily find your answers, so that grades are returned promptly and that errors in grading are prevented."
   ]
  }
 ],
 "metadata": {
  "kernelspec": {
   "display_name": "Python 3 (ipykernel)",
   "language": "python",
   "name": "python3"
  },
  "language_info": {
   "codemirror_mode": {
    "name": "ipython",
    "version": 3
   },
   "file_extension": ".py",
   "mimetype": "text/x-python",
   "name": "python",
   "nbconvert_exporter": "python",
   "pygments_lexer": "ipython3",
   "version": "3.9.13"
  }
 },
 "nbformat": 4,
 "nbformat_minor": 5
}
