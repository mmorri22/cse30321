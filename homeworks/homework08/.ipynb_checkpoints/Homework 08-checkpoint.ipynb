{
 "cells": [
  {
   "cell_type": "markdown",
   "id": "95fbc046",
   "metadata": {},
   "source": [
    "# Homework 08 - Parallelism\n",
    "\n",
    "### Assigned for Spring 2024 Semester: 4/11/2024\n",
    "### Due for Spring 2024 Semester: 4/18/2024 at 11:59pm on Canvas\n",
    "\n",
    "> <b>Note:</b> Review the <a href = \"https://github.com/mmorri22/cse30321/blob/main/cse30321-syllabus.md\">Course Syllabus</a> for policies regarding late submissions for Homework Assignments, as well as homework collaboration. You are welcome to study together, but the final submission must be your own good-faith attempt."
   ]
  },
  {
   "cell_type": "markdown",
   "id": "c4b86103",
   "metadata": {},
   "source": [
    "## Homework Format Instructions\n",
    "\n",
    "Compile all your solutions into a single PDF and upload your solutions through the Gradescope submission link. Review the detailed steps for submission at the bottom on this page"
   ]
  },
  {
   "attachments": {},
   "cell_type": "markdown",
   "id": "99fa30b4",
   "metadata": {},
   "source": [
    "## Part 1 - Reading and Lecture Review\n",
    "\n",
    "The material for this assignment covers Lectures 18, 20 and 21.\n",
    "\n",
    "<b>Problem 1</b> - 100 points - Describe Direct Memory Access and the 5-step process of the CPU performing a DMA request.\n",
    "\n",
    "<b>Problem 2</b> - 100 points - Define Cache Coherence and state and describe the two types of Cache Coherency.\n",
    "\n",
    "<b>Problem 3</b> - 50 points - Describe and differentiate between coarse-grained, fine-grained, and simultaneously multithreading"
   ]
  },
  {
   "attachments": {},
   "cell_type": "markdown",
   "id": "36025923",
   "metadata": {},
   "source": [
    "## Part 2 - Parallelism Performance\n",
    "\n",
    "<b>Problem 3</b> - 250 points - Consider the following code segment, with the values MAX = 10<sup>4</sup> and WSIZE = 4 and the following data:\n",
    "<ul>\n",
    "    <li>Read from x takes 10 cycles (accounts for lw add)</li>\n",
    "    <li>Read from w takes 10 cycles (accounts for lw add)</li>\n",
    "    <li>Write to a register takes 1 cycle.</li>\n",
    "    <li>Multiply takes 10 cycles (accounts for writing to the register)</li>\n",
    "    <li>Each addition takes 5 cycles (accounts for writing to the register)</li>\n",
    "    <li>Write to y takes 10 cycles</li>\n",
    "    <li>Each comparison takes 5 cycles</li>\n",
    "    <li>L1 cache hits require 5 cycles</li>\n",
    "    <li>Cache miss penalty is 10 cycles</li>\n",
    "</ul>\n",
    "\n",
    "Code segment:\n",
    "\n",
    "    for( i = 0; i < MAX; ++i ){\n",
    "        t = 0;\n",
    "        for( j = 0; j < WSIZE; ++j ){\n",
    "            t += x[i+j]*w[j] + y[i];\n",
    "            y[i] = t;\n",
    "        }\n",
    "    }\n",
    "    \n",
    "A) Without any modifications, how many cycles does the code segment take?\n",
    "\n",
    "B) Discuss the opportunities for reduction of cycle times and determine the improvement in performance when implemented in SIMD with 32 processors, assuming strong scaling."
   ]
  },
  {
   "cell_type": "markdown",
   "id": "c2e4da45",
   "metadata": {},
   "source": [
    "## Part 3 - Matrix Multiplication using OpenMP\n",
    "\n",
    "In class, we learned about the <a href = \"https://www.intel.com/content/www/us/en/docs/dpcpp-cpp-compiler/developer-guide-reference/2024-1/use-the-openmp-libraries.html\">Intel OpenMP</a> parallel processing framework. In this problem, you will use the techniques you learned this semester to improve upon the performance of a Double-precision General Matrix Multiplication (DGEMM).\n",
    "\n",
    "To match performance metrics, you will run the programs on the <code>student04.cse.nd.edu</code> machines. To run these programs, perform the following commands:\n",
    "\n",
    "    mkdir cse30321\n",
    "    cd cse30321\n",
    "    wget https://raw.githubusercontent.com/mmorri22/cse30321/main/homeworks/homework08/setup.sh\n",
    "    chmod +rx setup.sh\n",
    "    ./setup.sh\n",
    "    \n",
    "This will download the <code>Makefile</code> and <code>dgemm_matrix.c</code> program required to complete this portion of the assignment."
   ]
  },
  {
   "cell_type": "markdown",
   "id": "c8eb445a",
   "metadata": {},
   "source": [
    "## Part 5 - Submission on Gradescope\n",
    "\n",
    "Upload a single PDF to Gradescope using the following link by the due date on the Canvas <a href = \"https://canvas.nd.edu/courses/82217/pages/lecture-notes-and-schedule\">Lecture Notes and Schedule page</a>\n",
    "\n",
    "### <a href = \"\">Homework 08 Gradescope Submission Link</a>\n",
    "\n",
    "You are required to link the Problems with the page where the solution may be found. This requirement is to ensure that that TAs may easily find your answers, so that grades are returned promptly and that errors in grading are prevented."
   ]
  }
 ],
 "metadata": {
  "kernelspec": {
   "display_name": "Python 3 (ipykernel)",
   "language": "python",
   "name": "python3"
  },
  "language_info": {
   "codemirror_mode": {
    "name": "ipython",
    "version": 3
   },
   "file_extension": ".py",
   "mimetype": "text/x-python",
   "name": "python",
   "nbconvert_exporter": "python",
   "pygments_lexer": "ipython3",
   "version": "3.9.13"
  }
 },
 "nbformat": 4,
 "nbformat_minor": 5
}
