{
 "cells": [
  {
   "cell_type": "markdown",
   "id": "95fbc046",
   "metadata": {},
   "source": [
    "# Homework 07 - Virtual Memory - <font color=\"red\">Assignment Draft</a>\n",
    "\n",
    "### Assigned for Spring 2024 Semester: 4/4/2024\n",
    "### Due for Spring 2024 Semester: 4/11/2024 at 11:59pm on Gradescope\n",
    "\n",
    "> <b>Note:</b> Review the <a href = \"https://github.com/mmorri22/cse30321/blob/main/cse30321-syllabus.md\">Course Syllabus</a> for policies regarding late submissions for Homework Assignments, as well as homework collaboration. You are welcome to study together, but the final submission must be your own good-faith attempt."
   ]
  },
  {
   "cell_type": "markdown",
   "id": "c4b86103",
   "metadata": {},
   "source": [
    "## Homework Format Instructions\n",
    "\n",
    "Compile all your solutions into a single PDF and upload your solutions through the Gradescope submission link. Review the detailed steps for submission at the bottom on this page"
   ]
  },
  {
   "attachments": {},
   "cell_type": "markdown",
   "id": "99fa30b4",
   "metadata": {},
   "source": [
    "## Part 1 - Reading and Lecture Review\n",
    "\n",
    "The material for this assignment covers Lectures 18, 20 and 21.\n",
    "\n",
    "<b>Problem 1</b> - 50 points - Describe the 4-step process of what the computer architecture does at \"boot\".\n",
    "\n",
    "<b>Problem 2</b> - 50 points - Describe <b>demand paging</b> and its benefits in the context of Virtual Memory.\n",
    "\n",
    "<b>Problem 3</b> - 100 points - Draw and describe the 4-step process of <b>how a program accesses memory</b> using a VM.\n",
    "\n",
    "<b>Problem 4</b> - 100 points - Draw and describe the 6-step process for how the operating system resolves a <b>Page Miss</b>.\n",
    "\n",
    "<b>Problem 5</b> - 100 points - Draw the <b>Page-Based Virtual-Memory Machine</b> stages\n",
    "\n",
    "<b>Problem 6</b> - 100 points - Describe and then draw the process and steps for <b>Direct Memory Access</b>"
   ]
  },
  {
   "attachments": {},
   "cell_type": "markdown",
   "id": "157f0e74",
   "metadata": {},
   "source": [
    "## Part 2 - Page Sizes\n",
    "\n",
    "<b>Problem 7</b> - 150 points - Given a 64-bit x86_64 Architecture where the page size is set at 4KB, the number of physical address size in memory is 2<sup>52</sup>, and the virtual memory address size is 2<sup>44</sup>, derive the number of pages in the disk and draw the representation of the Virtual-to-Physical address translation.\n",
    "\n",
    "For a single level Page Table in a 64-Bit architecture, define the size of a single Page Table size. Then, what is the smallest amount of page table data we need to keep in memory for n-64 bit applications in a two-level Hierarchical Page Table? Draw the representation of the Virtual-to-Physical address translation.\n",
    "\n",
    "Finally, how many applications can be implemented in this two-level Hierarchical Page Table in the equivalent memory space?\n",
    "\n",
    "\n",
    "<b>Problem 8</b> - 100 points - Given the following parameters for memory\n",
    "•\tL1 cache hit = 1 clock cycles, hit 95% of accesses\n",
    "•\tL2 cache hit = 6 clock cycles, hit 85% of L1 misses\n",
    "•\tL2 cache hit = 10 clock cycles, hit 60% of L1 misses\n",
    "•\tDRAM = 100 clock cycles\n",
    "•\tDisk = 10,000,000 clock cycles\n",
    "\n",
    "a) Derive the Average Memory Access Time without paging\n",
    "\n",
    "b) Derive the Average Memory Access Time with paging for a Memory Hit Rate of 99%?\n",
    "\n",
    "c) Derive the Average Memory Access Time with paging for a Memory Hit Rate of 99.9999%?"
   ]
  },
  {
   "cell_type": "markdown",
   "id": "31eb05bb",
   "metadata": {},
   "source": [
    "## Part 3 - X\n",
    "\n",
    "<b>Problem X</b> - X points - FFFF"
   ]
  },
  {
   "attachments": {},
   "cell_type": "markdown",
   "id": "499e5489",
   "metadata": {},
   "source": [
    "## Part 4 - VMSim\n",
    "\n",
    "In this problem you will use the <a href = \"\">VMSim</a> - Virtual Memory Simulator - that we used in class.\n",
    "\n",
    "<b>Problem X</b> - X points - "
   ]
  },
  {
   "cell_type": "markdown",
   "id": "8f4de586",
   "metadata": {},
   "source": [
    "## Part 5 - Virtual Memory on a Real System\n",
    "\n",
    "<b>Problem X</b> - 100 points - In this last problem, you will do a little research to investigate the virtual and physical memory characteristics of different Notre Dame servers. You will compare the results on: \n",
    "<ul>\n",
    "    <li><code>student04.cse.nd.edu</code></li>\n",
    "    <li><code>student06.cse.nd.edu</code></li>\n",
    "    <li><code>student13.cse.nd.edu</code></li> \n",
    "</ul>\n",
    "\n",
    "Answer the following questions for each of the three Notre Dame student machines and make sure for each to 1) cite any sources used for your research; 2) include screenshots showing where you found any information you gathered from the machine itself; 3) explain your reasoning.\n",
    "\n",
    "a) What is the model name for each of these systems?\n",
    "\n",
    "> Hint: Use the command <code>lscpu</code>\n",
    "\n",
    "b) How much L1, L2, and L3 cache are on each of these systems?\n",
    "\n",
    "c) Look in <code>man proc</code>: What is the <code>proc</code> filesystem? \n",
    "\n",
    "> Note: This will be the same in all the servers, so only answer one.\n",
    "\n",
    "d) How much total physical memory (RAM) exists on the systems?\n",
    "\n",
    "> Hint: look at <code>/proc/meminfo</code>\n",
    "\n",
    "e) Look in <code>man proc</code> for information on “swap”. The physical pages that are not resident in RAM will be on the hard drive (secondary storage) in a “swap file.”  How much space is set aside for the swap file, how much is currently in use, and where is the swap located?  \n",
    "\n",
    "f) How many bits are the virtual and physical addresses on each syste,?  \n",
    "\n",
    "> Hint: look at <code>/proc/cpuinfo</code>"
   ]
  },
  {
   "cell_type": "markdown",
   "id": "c8eb445a",
   "metadata": {},
   "source": [
    "## Part X - Submission on Gradescope\n",
    "\n",
    "Upload a single PDF to Gradescope using the following link by the due date on the Canvas <a href = \"https://canvas.nd.edu/courses/82217/pages/lecture-notes-and-schedule\">Lecture Notes and Schedule page</a>\n",
    "\n",
    "### <a href = \"https://canvas.nd.edu/courses/82217/assignments/265419\">Homework 07 Gradescope Submission Link</a>\n",
    "\n",
    "You are required to link the Problems with the page where the solution may be found. This requirement is to ensure that that TAs may easily find your answers, so that grades are returned promptly and that errors in grading are prevented."
   ]
  }
 ],
 "metadata": {
  "kernelspec": {
   "display_name": "Python 3 (ipykernel)",
   "language": "python",
   "name": "python3"
  },
  "language_info": {
   "codemirror_mode": {
    "name": "ipython",
    "version": 3
   },
   "file_extension": ".py",
   "mimetype": "text/x-python",
   "name": "python",
   "nbconvert_exporter": "python",
   "pygments_lexer": "ipython3",
   "version": "3.9.13"
  }
 },
 "nbformat": 4,
 "nbformat_minor": 5
}
