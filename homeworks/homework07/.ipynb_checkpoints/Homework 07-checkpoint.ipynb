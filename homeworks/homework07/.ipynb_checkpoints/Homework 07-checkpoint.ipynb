{
 "cells": [
  {
   "cell_type": "markdown",
   "id": "95fbc046",
   "metadata": {},
   "source": [
    "# Homework 07 - Virtual Memory\n",
    "\n",
    "### Assigned for Spring 2024 Semester: 4/4/2024\n",
    "### Due for Spring 2024 Semester: 4/11/2024 at 11:59pm on Gradescope\n",
    "\n",
    "> <b>Note:</b> Review the <a href = \"https://github.com/mmorri22/cse30321/blob/main/cse30321-syllabus.md\">Course Syllabus</a> for policies regarding late submissions for Homework Assignments, as well as homework collaboration. You are welcome to study together, but the final submission must be your own good-faith attempt."
   ]
  },
  {
   "cell_type": "markdown",
   "id": "c4b86103",
   "metadata": {},
   "source": [
    "## Homework Format Instructions\n",
    "\n",
    "Compile all your solutions into a single PDF and upload your solutions through the Gradescope submission link. Review the detailed steps for submission at the bottom on this page"
   ]
  },
  {
   "cell_type": "markdown",
   "id": "99fa30b4",
   "metadata": {},
   "source": [
    "## Part 1 - Reading and Lecture Review\n",
    "\n",
    "The material for this assignment covers Lectures 18, 20 and 21.\n",
    "\n",
    "<b>Problem 1</b> - 50 points - Describe the 4-step process of what the computer architecture does at \"boot\".\n",
    "\n",
    "<b>Problem 2</b> - 50 points - Describe <b>demand paging</b> and its benefits in the context of Virtual Memory.\n",
    "\n",
    "<b>Problem 3</b> - 100 points - Draw and describe the 6-step process for how the operating system resolves a <b>Page Miss</b>.\n",
    "\n",
    "<b>Problem 4</b> - 100 points - Draw the <b>Page-Based Virtual-Memory Machine</b> stages"
   ]
  },
  {
   "cell_type": "markdown",
   "id": "157f0e74",
   "metadata": {},
   "source": [
    "## Part 2 - Page Sizes\n",
    "\n",
    "<b>Problem 5</b> - 200 points - Given a 64-bit x86_64 Architecture where the page size is set at 4096, the number of physical address size in memory is 2<sup>52</sup>, and the virtual memory address size is 2<sup>44</sup>, derive the number of pages in the disk and draw the representation of the Virtual-to-Physical address translation.\n",
    "\n",
    "For a single level Page Table in a 64-Bit architecture, define the size of a single Page Table size. Then, what is the smallest amount of page table data we need to keep in memory for n-64 bit applications in a two-level Hierarchical Page Table? Draw the representation of the Virtual-to-Physical address translation.\n",
    "\n",
    "Finally, how many applications can be implemented in this two-level Hierarchical Page Table in the equivalent memory space?\n",
    "\n",
    "\n",
    "<b>Problem 6</b> - 150 points - Given the following parameters for memory for a machine with a 2GHz clock.\n",
    "<ul>\n",
    "    <li>L1 cache hit = 2 clock cycles, hit 95% of accesses</li>\n",
    "    <li>L2 cache hit = 6 clock cycles, hit 85% of L1 misses</li>\n",
    "    <li>L2 cache hit = 10 clock cycles, hit 60% of L1 misses</li>\n",
    "    <li>DRAM = 100 clock cycles</li>\n",
    "    <li>Disk = 10,000,000 clock cycles</li>\n",
    "</ul>\n",
    "    \n",
    "a) Derive the Average Memory Access Time without paging\n",
    "\n",
    "b) Derive the Average Memory Access Time with paging for a Memory Hit Rate of 98%?\n",
    "\n",
    "c) Derive the Average Memory Access Time with paging for a Memory Hit Rate of 99.9999%?"
   ]
  },
  {
   "cell_type": "markdown",
   "id": "31eb05bb",
   "metadata": {},
   "source": [
    "## Part 3 - I/O Polling\n",
    "\n",
    "<b>Problem 7</b> - 200 points\n",
    "\n",
    "a) Assuming that the I/O requests are distributed evenly in time, the average time that a device will have to wait for the processor to poll is half the time between polling attempts. What should be the polling frequency for an I/O device if the average delay between the time when the device wants to make a request and the time when it is polled, is to be at most 10 ms?\n",
    "\n",
    "b) If it takes 10,000 cycles to poll the I/O device, and the processor operates at 100MHz, what % of the CPU time is spent polling?\n",
    "\n",
    "c) What % of the CPU time is spent polling if an average delay of 1msec is added to the system?"
   ]
  },
  {
   "cell_type": "markdown",
   "id": "65492085",
   "metadata": {},
   "source": [
    "## Part 4 - Virtual Memory on a Real System\n",
    "\n",
    "<b>Problem 8</b> - 150 points - In this last problem, you will do a little research to investigate the virtual and physical memory characteristics of different Notre Dame servers. You will compare the results on: \n",
    "<ul>\n",
    "    <li><code>student04.cse.nd.edu</code></li>\n",
    "    <li><code>student06.cse.nd.edu</code></li>\n",
    "    <li><code>student13.cse.nd.edu</code></li> \n",
    "</ul>\n",
    "\n",
    "Answer the following questions for each of the three Notre Dame student machines and make sure for each to 1) cite any sources used for your research; 2) include screenshots showing where you found any information you gathered from the machine itself; 3) explain your reasoning.\n",
    "\n",
    "a) What is the model name for each of these systems?\n",
    "\n",
    "> Hint: Use the command <code>lscpu</code>\n",
    "\n",
    "b) How much L1, L2, and L3 cache are on each of these systems?\n",
    "\n",
    "c) Look in <code>man proc</code>: What is the <code>proc</code> filesystem? \n",
    "\n",
    "> Note: This will be the same in all the servers, so only answer one.\n",
    "\n",
    "d) How much total physical memory (RAM) exists on the systems?\n",
    "\n",
    "> Hint: look at <code>/proc/meminfo</code> for each\n",
    "\n",
    "e) Look in <code>man proc</code> for information on “swap”. The physical pages that are not resident in RAM will be on the hard drive (secondary storage) in a “swap file.”  How much space is set aside for the swap file, how much is currently in use, and where is the swap located?  \n",
    "\n",
    "f) How many bits are the virtual and physical addresses on each syste,?  \n",
    "\n",
    "> Hint: look at <code>/proc/cpuinfo</code> for each"
   ]
  },
  {
   "cell_type": "markdown",
   "id": "c8eb445a",
   "metadata": {},
   "source": [
    "## Part 5 - Submission on Gradescope\n",
    "\n",
    "Upload a single PDF to Gradescope using the following link by the due date on the Canvas <a href = \"https://canvas.nd.edu/courses/82217/pages/lecture-notes-and-schedule\">Lecture Notes and Schedule page</a>\n",
    "\n",
    "### <a href = \"https://canvas.nd.edu/courses/82217/assignments/265419\">Homework 07 Gradescope Submission Link</a>\n",
    "\n",
    "You are required to link the Problems with the page where the solution may be found. This requirement is to ensure that that TAs may easily find your answers, so that grades are returned promptly and that errors in grading are prevented."
   ]
  }
 ],
 "metadata": {
  "kernelspec": {
   "display_name": "Python 3 (ipykernel)",
   "language": "python",
   "name": "python3"
  },
  "language_info": {
   "codemirror_mode": {
    "name": "ipython",
    "version": 3
   },
   "file_extension": ".py",
   "mimetype": "text/x-python",
   "name": "python",
   "nbconvert_exporter": "python",
   "pygments_lexer": "ipython3",
   "version": "3.9.13"
  }
 },
 "nbformat": 4,
 "nbformat_minor": 5
}
