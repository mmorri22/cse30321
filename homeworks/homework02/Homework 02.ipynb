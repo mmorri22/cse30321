{
 "cells": [
  {
   "cell_type": "markdown",
   "id": "95fbc046",
   "metadata": {},
   "source": [
    "# Homework 02 - Computing Performance, Stored Program Concept, and RISC-V Introduction\n",
    "\n",
    "### Assigned for Spring 2024 Semester: 1/25/2024\n",
    "### Due for Spring 2024 Semester: 2/1/2024 at 11:59pm on Gradescope\n",
    "\n",
    "> <b>Note:</b> Review the <a href = \"https://github.com/mmorri22/cse30321/blob/main/cse30321-syllabus.md\">Course Syllabus</a> for policies regarding late submissions for Homework Assignments, as well as homework collaboration. You are welcome to study together, but the final submission must be your own good-faith attempt."
   ]
  },
  {
   "cell_type": "markdown",
   "id": "c4b86103",
   "metadata": {},
   "source": [
    "## Homework Format Instructions\n",
    "\n",
    "Compile all your solutions into a single PDF and upload your solutions through the Gradescope submission link. Review the detailed steps for submission at the bottom on this page"
   ]
  },
  {
   "cell_type": "markdown",
   "id": "99fa30b4",
   "metadata": {},
   "source": [
    "## Part 1 - Reading and Lecture Review\n",
    "\n",
    "<b>Problem 1</b> - 50 points - Briefly describe in your own words why it is a pitfall to expect the improvement of one aspect of a computer to increase overall performance by an amount proportional to the size of the improvement.\n",
    "\n",
    "<b>Problem 2</b> - 50 points - Briefly describe in your own words why it is a pitfall to believe that designing for performance and designing for energy efficiency are unrelated goals\n",
    "\n",
    "<b>Problem 3</b> - 50 points - Briefly describe the Stored-program concept.\n",
    "\n",
    "<b>Problem 4</b> - 50 points - Define the Principle of Locality, and differentiate between Temporal and Spatial Locality."
   ]
  },
  {
   "cell_type": "markdown",
   "id": "408a1d69",
   "metadata": {},
   "source": [
    "## Part 2 - Computing Performance\n",
    "\n",
    "> Hint: You are welcome to reference the solutions to the in-class problems posted to the Canvas page from Lecture 02 as you complete these problems\n",
    "\n",
    "<b>Problem 5</b> - Assume a processor (CPU<sub>A</sub>) with a 4.5 GHz clock rate will process 3 classes of instructions; each instruction class requires a different number of clock cycles to process as defined in the table below.\n",
    "\n",
    "|Integer|Memory|Branches|\n",
    "|:--|:--|:--|\n",
    "|4 cycles|25 cycles|3 cycles|\n",
    "\n",
    "The datapath is used to execute 3 programs <b>sequentially</b> with instructions mixes per the table below:\n",
    "\n",
    "| |Integer instructions|Memory instructions|Branch Instruction|\n",
    "|:--|:--|:--|:--|\n",
    "|Program 1|15 x 10<sup>9</sup>|3 x 10<sup>9</sup>|1 x 10<sup>9</sup>|\n",
    "|Program 2|12 x 10<sup>9</sup>|2 x 10<sup>9</sup>|0.5 x 10<sup>9</sup>|\n",
    "|Program 3|10 x 10<sup>9</sup>|5 x 10<sup>9</sup>|1.5 x 10<sup>9</sup>|\n",
    "\n",
    "\n",
    "<b>5.1</b> - 75 points - Derive the total execution time when all three programs are executed sequentially on CPU<sub>A</sub> \n",
    "\n",
    "<b>5.2</b> - 75 points - The same three programs are compiled on a new processor CPU<sub>B</sub>. The clock rate on CPU<sub>B</sub> is 3 GHz, but because of the slower clock rate, the number of cycles required to implement instructions are reduced to the following\n",
    "\n",
    "|Integer|Memory|Branches|\n",
    "|:--|:--|:--|\n",
    "|2 cycles|15 cycles|2 cycles|\n",
    "\n",
    "State which processor runs the three programs sequentially faster, and by how much?\n",
    "\n",
    "> Hint: For \"by how much?\", set the result as a ratio as we did in class, not as a subtraction. ie ($\\frac{CPU_{A}}{CPU_{B}}$, not $CPU_{A}-CPU_{B}$)\n",
    "\n",
    "\n",
    "<b>Problem 6</b> - 200 points - You are a Project Manager developing CPUs to process the ticket requests for Taylor Swift's next world tour, \"The Eras Tour 2: The Quest for More Money\". Everyone is on edge, considering <a href = \"https://www.nytimes.com/2022/11/18/technology/live-nation-ticketmaster-investigation-taylor-swift.html\">the computing and management issues with TicketMaster for the Eras Tour</a>. To ensure the demand of the Swifties is met, you calculated you need to obtain a speedup of at least 1.40X for this program, which has the following metrics:\n",
    "\n",
    "|Instruction Class|% of Instruction Mix|Cycles per Instruction|\n",
    "|:--|:--|:--|\n",
    "|Integer ALU|65%|5|\n",
    "|Branch|5%|3|\n",
    "|Load|20%|13|\n",
    "|Store|10%|7|\n",
    "\n",
    "A computer engineer, Peter Pitfall, is proposing a processor redesign where the register file size will increase. Peter contends that having more registers will mean more ALU instructions, which means this will reduce the number of load instructions by 78% on average (so now there are only <a href = \"https://www.youtube.com/watch?v=AgFeZr5ptV8\">22%</a> of load instructions remaining). His colleague, Susie Sensical, has doubts. She knows that increasing the register file will come with an increased cost, both in terms of money as well as an <i>increase</i> CPI for ALU instructions from 5 to 7.\n",
    "\n",
    "Using your knowledge of performance, <b>prove</b> whether it is possible or not to gain the necessary speedup if you incorporate Peter's register file redesign.\n",
    "\n",
    "> Remember: The Swifties are counting on you to get this problem right. Or else..."
   ]
  },
  {
   "cell_type": "markdown",
   "id": "48187db4",
   "metadata": {},
   "source": [
    "## Part 4 - Introduction to RISC-V Instructions\n",
    "\n",
    "<b>Problem 7</b> - 75 points - Given <code>x</code> in register <code>x18</code>, <code>y</code> in register <code>x19</code>, <code>z</code> in register <code>x20</code>, and <code>a</code> in <code>x4</code> convert the C code below to RISC-V assembly. You may use <code>x5</code>-<code>x7</code> and <code>x28</code>-<code>x31</code> for temporary registers as necessary.\n",
    "\n",
    "> Note: You do not need to translate into RISC-V machine encoding, since we will study that for the next assignment \n",
    "\n",
    "    x = 8;\n",
    "    y = 5;\n",
    "    z = -11;\n",
    "    x = y - z;\n",
    "    y = x - 5;\n",
    "    a = x - y + z;"
   ]
  },
  {
   "cell_type": "markdown",
   "id": "a9bb0157",
   "metadata": {},
   "source": [
    "<b>Problem 8</b> - 75 points - Given a variable <code>x</code> in memory at address <code>0x001f77c0</code>, convert the C code to RISC-V assembly. The address of <code>x</code> is stored in register <code>x18</code>, <code>a</code> is in register <code>x19</code>, <code>b</code> is in register <code>x20</code>, and <code>c</code> is in register <code>x21</code>. You may use <code>x5</code>-<code>x7</code> and <code>x28</code>-<code>x31</code> for temporary registers as necessary.\n",
    "\n",
    "> Note: You do not need to translate into RISC-V machine encoding, since we will study that for the next assignment \n",
    "\n",
    "    int* x = 0x001f77c0;\n",
    "    int a = 7;\n",
    "    int b = 3;\n",
    "    int c = -9;\n",
    "    *x = a – b + c - 5;"
   ]
  },
  {
   "cell_type": "markdown",
   "id": "91a48453",
   "metadata": {},
   "source": [
    "<b>Problem 9</b> - 100 points - Given that <code>x</code> is stored in register <code>x18</code>, <code>y</code> is in register <code>x19</code>. and <code>z</code> is in register <code>x20</code>, convert the C code to RISC-V assembly and then albaCore machine encoding. You may use <code>x5</code>-<code>x7</code> and <code>x28</code>-<code>x31</code> for temporary registers as necessary.\n",
    "\n",
    "    if (x != 8)\n",
    "        y = x - z + 5;\n",
    "    else if (x == 10)\n",
    "        z += x;\n",
    "    else\n",
    "        y = x + z; "
   ]
  },
  {
   "attachments": {},
   "cell_type": "markdown",
   "id": "ba060699",
   "metadata": {},
   "source": [
    "## Part 3 - Stored Program Concept\n",
    "\n",
    "> Hint: You are welcome to reference the solutions to the in-class problems posted to the Canvas page from Lecture 03 as you complete these problems"
   ]
  },
  {
   "attachments": {},
   "cell_type": "markdown",
   "id": "d78ca00b",
   "metadata": {},
   "source": [
    "<b>Problem 10</b> - 200 points - Given the following C struct compiled using <code>gcc</code> on an <code>x86</code> architecture on the Ubuntu 20.2 Operating System with a base address in data memory of <code>0x00a45eb0</code>\n",
    "\n",
    "<ol>\n",
    "    <li>Calculate the optimal amount of memory the struct could consume in memory</li>\n",
    "    <li>Calculate the actual amount of memory the struct consumes, and draw the layout. Show the segmentation in memory.</li>\n",
    "    <li>Re-design the struct to improve the memory consumed</li>\n",
    "    <li>Calculate the actual amount of memory the new struct consumes, and draw the layout. Show any remaining segmentation in memory</li>\n",
    "</ol>\n",
    "\n",
    "    typedef struct first_struct{\n",
    "        float fl_1;\n",
    "        char ch_1;\n",
    "        double do_1;\n",
    "        int int_1;\n",
    "        double do_2;\n",
    "        float fl_2;\n",
    "        char ch_2;\n",
    "        char ch_3;\n",
    "        int int_2;\n",
    "        double do_3;\n",
    "    }first_struct;"
   ]
  },
  {
   "cell_type": "markdown",
   "id": "c8eb445a",
   "metadata": {},
   "source": [
    "## Part 5 - Submission on Gradescope\n",
    "\n",
    "Upload a single PDF to Gradescope using the following link by the due date on the Canvas <a href = \"https://canvas.nd.edu/courses/82217/pages/lecture-notes-and-schedule\">Lecture Notes and Schedule page</a>\n",
    "\n",
    "### <a href = \"https://canvas.nd.edu/courses/82217/assignments/252213\">Homework 02 Gradescope Submission Link</a>\n",
    "\n",
    "You are required to link the Problems with the page where the solution may be found. This requirement is to ensure that that TAs may easily find your answers, so that grades are returned promptly and that errors in grading are prevented."
   ]
  }
 ],
 "metadata": {
  "kernelspec": {
   "display_name": "Python 3 (ipykernel)",
   "language": "python",
   "name": "python3"
  },
  "language_info": {
   "codemirror_mode": {
    "name": "ipython",
    "version": 3
   },
   "file_extension": ".py",
   "mimetype": "text/x-python",
   "name": "python",
   "nbconvert_exporter": "python",
   "pygments_lexer": "ipython3",
   "version": "3.9.13"
  }
 },
 "nbformat": 4,
 "nbformat_minor": 5
}
