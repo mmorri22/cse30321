{
 "cells": [
  {
   "cell_type": "markdown",
   "id": "95fbc046",
   "metadata": {},
   "source": [
    "# Homework 02 - ISA Review and RISC-V Introduction\n",
    "\n",
    "### Assigned for Spring 2024 Semester: 1/25/2024\n",
    "### Due for Spring 2024 Semester: 2/1/2024 at 11:59pm on Gradescope\n",
    "\n",
    "> <b>Note:</b> Review the <a href = \"https://github.com/mmorri22/cse30321/blob/main/cse30321-syllabus.md\">Course Syllabus</a> for policies regarding late submissions for Homework Assignments, as well as homework collaboration. You are welcome to study together, but the final submission must be your own good-faith attempt."
   ]
  },
  {
   "cell_type": "markdown",
   "id": "c4b86103",
   "metadata": {},
   "source": [
    "## Homework Format Instructions\n",
    "\n",
    "Compile all your solutions into a single PDF and upload your solutions through the Gradescope submission link. Review the detailed steps for submission at the bottom on this page"
   ]
  },
  {
   "cell_type": "markdown",
   "id": "99fa30b4",
   "metadata": {},
   "source": [
    "## Part 1 - Reading and Lecture Review\n",
    "\n",
    "<b>Problem 1</b> - 40 points - Define and differentiate between Computer Architecture and Computer Organization, and give 4 examples of each.\n",
    "\n",
    "<b>Problem 2</b> - 20 points - Define the Principle of Locality, and differentiate between Temporal and Spatial Locality.\n",
    "\n",
    "<b>Problem 3</b> - 45 points - Briefly describe how each of the following hardware or software components impact performance:\n",
    "<ul>\n",
    "    <li>Algorithms</li>\n",
    "    <li>Programming language, compiler, and architecture</li>\n",
    "    <li>Processor and memory system</li>\n",
    "    <li>I/O system (hardware and operating system)</li>\n",
    "</ul>\n",
    "\n",
    "<b>Problem 4</b> - 45 points - State and briefly describe <i>in your own words</i> each of the seven Great Ideas in Computer Architecture\n",
    "\n",
    "<b>Problem 5</b> - 50 points - Consider the following albaCore instructions with time measurements for each stage.\n",
    "\n",
    "|Instruction Type|IFETCH|DECODE|EXECUTE|DMEM|WRITE BACK|TOTAL|\n",
    "|:--|:--|:--|:--|:--|:--|:--|\n",
    "|bz|2ns|1ns|2ns|X|X|5ns|\n",
    "|ld|2ns|1ns|2ns|3ns|2ns|10ns|\n",
    "|add|2ns|1ns|2ns|X|2ns|7ns|\n",
    "|st|2ns|1ns|2ns|3ns|X|8ns|\n",
    "\n",
    "Given four consecutive instructions of <code>bz</code>, <code>ld</code>, <code>add</code>, and <code>sw</code>, calculate the run time for the follow datapath types:\n",
    "<ul>\n",
    "    <li>Single Cycle datapath</li>\n",
    "    <li>Multi Cycle datapath</li>\n",
    "    <li>Pipelined datapath</li>\n",
    "</ul>"
   ]
  },
  {
   "cell_type": "markdown",
   "id": "408a1d69",
   "metadata": {},
   "source": [
    "## Part 2 - Computing Performance\n",
    "\n",
    "> Hint: You are welcome to reference the solutions to the in-class problems posted to the Canvas page from Lecture 02 as you complete these problems"
   ]
  },
  {
   "cell_type": "markdown",
   "id": "f14eed66",
   "metadata": {},
   "source": [
    "<b>Problem 6</b> - 100 points - Given <code>x</code> in <code>r1</code>, <code>y</code> in <code>r2</code>, <code>z</code> in <code>r3</code>, and <code>a</code> in <code>r4</code> convert the C code below to albaCore assembly and then albaCore machine encoding. You may use <code>r5</code> and <code>r6</code> for temporary registers if necessary.\n",
    "\n",
    "    x = 8;\n",
    "    y = 5;\n",
    "    z = -11;\n",
    "    x = y - z;\n",
    "    y = x - 5;\n",
    "    a = x - y + z;"
   ]
  },
  {
   "cell_type": "markdown",
   "id": "de4f5ef4",
   "metadata": {},
   "source": [
    "<b>Problem 7</b> - 150 points - Given a variable <code>x</code> in memory at address <code>0x77c0</code>, convert the C code to albaCore assembly and then albaCore machine encoding. The address of <code>x</code> is stored in <code>r1</code>, <code>a</code> is in <code>r2</code>, <code>b</code> is in <code>r3</code>, and <code>c</code> is in <code>r4</code>. Use <code>r5</code>, <code>r6</code>, and <code>r7</code> for temp registers if necessary\n",
    "\n",
    "    int* x = 0xab4e;\n",
    "    int a = 7;\n",
    "    int b = 3;\n",
    "    int c = -9;\n",
    "    *x = a – b + c - 5;"
   ]
  },
  {
   "cell_type": "markdown",
   "id": "f7bce640",
   "metadata": {},
   "source": [
    "<b>Problem 8</b> - 200 points - Given that <code>x</code> is stored in <code>r1</code>, <code>y</code> is in <code>r2</code>. and <code>z</code> is in <code>r3</code>, convert the C code to albaCore assembly and then albaCore machine encoding. Use <code>r4</code> and <code>r5</code> for temp registers if necessary\n",
    "\n",
    "    if (x != 8)\n",
    "        y = x - z + 5;\n",
    "    else\n",
    "        y = x + z; \n"
   ]
  },
  {
   "attachments": {},
   "cell_type": "markdown",
   "id": "ba060699",
   "metadata": {},
   "source": [
    "## Part 3 - Stored Program Concept\n",
    "\n",
    "> Hint: You are welcome to reference the solutions to the in-class problems posted to the Canvas page from Lecture 03 as you complete these problems"
   ]
  },
  {
   "cell_type": "markdown",
   "id": "d78ca00b",
   "metadata": {},
   "source": [
    "<b>Problem 10</b> - 45 points - Explain what this program does in your own words.  As part of your explanation, include the following information: what are the memory addresses of <code>src_val</code> and <code>dst_val</code> in memory, and how did you find this?"
   ]
  },
  {
   "cell_type": "markdown",
   "id": "c8eb445a",
   "metadata": {},
   "source": [
    "## Part X - Submission on Gradescope\n",
    "\n",
    "Upload a single PDF to Gradescope using the following link by the due date on the Canvas <a href = \"https://canvas.nd.edu/courses/82217/pages/lecture-notes-and-schedule\">Lecture Notes and Schedule page</a>\n",
    "\n",
    "### <a href = \"\">Homework 02 Gradescope Submission Link</a>\n",
    "\n",
    "You are required to link the Problems with the page where the solution may be found. This requirement is to ensure that that TAs may easily find your answers, so that grades are returned promptly and that errors in grading are prevented."
   ]
  }
 ],
 "metadata": {
  "kernelspec": {
   "display_name": "Python 3 (ipykernel)",
   "language": "python",
   "name": "python3"
  },
  "language_info": {
   "codemirror_mode": {
    "name": "ipython",
    "version": 3
   },
   "file_extension": ".py",
   "mimetype": "text/x-python",
   "name": "python",
   "nbconvert_exporter": "python",
   "pygments_lexer": "ipython3",
   "version": "3.9.13"
  }
 },
 "nbformat": 4,
 "nbformat_minor": 5
}
