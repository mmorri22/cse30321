{
 "cells": [
  {
   "cell_type": "markdown",
   "id": "c4d02e15",
   "metadata": {},
   "source": [
    "## Homework 04 - Doubly Linked List RISC-V Programming Assignment\n",
    "\n",
    "### Assigned for Spring 2024 Semester: 2/8/2024\n",
    "### Due for Spring 2024 Semester: 2/22/2024 at 11:59pm on Canvas\n",
    "\n",
    "> <b>Note:</b> Review the <a href = \"https://github.com/mmorri22/cse30321/blob/main/cse30321-syllabus.md\">Course Syllabus</a> for policies regarding late submissions for Homework Assignments, as well as homework collaboration. You are welcome to study together, but the final submission must be your own good-faith attempt."
   ]
  },
  {
   "cell_type": "markdown",
   "id": "dda0f60c",
   "metadata": {},
   "source": [
    "### Group Assignment\n",
    "\n",
    "This programming assignment may be performed in groups of <b>no less than 3</b> and <b>no more than 4</b> students.\n",
    "\n",
    "You will be programming using the same RISC-V interpreter that we coded the Singly Linked List in class.\n",
    "<ul>\n",
    "    <li>The Cornell RISC-V interpreter may be <a href = \"https://www.cs.cornell.edu/courses/cs3410/2019sp/riscv/interpreter\">found at this link</a></li>\n",
    "    <li>The solution to the Singly Linked List we programmed in class may be <a href = \"\">found at this link</a></li>\n",
    "</ul>"
   ]
  },
  {
   "cell_type": "code",
   "execution_count": null,
   "id": "0b716dba",
   "metadata": {},
   "outputs": [],
   "source": []
  }
 ],
 "metadata": {
  "kernelspec": {
   "display_name": "Python 3 (ipykernel)",
   "language": "python",
   "name": "python3"
  },
  "language_info": {
   "codemirror_mode": {
    "name": "ipython",
    "version": 3
   },
   "file_extension": ".py",
   "mimetype": "text/x-python",
   "name": "python",
   "nbconvert_exporter": "python",
   "pygments_lexer": "ipython3",
   "version": "3.9.13"
  }
 },
 "nbformat": 4,
 "nbformat_minor": 5
}
