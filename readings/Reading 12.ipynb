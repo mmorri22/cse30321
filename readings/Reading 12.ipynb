{
 "cells": [
  {
   "cell_type": "markdown",
   "id": "d0fd867c",
   "metadata": {},
   "source": [
    "# CSE 30321 - Reading 12 - Parallel Processing\n",
    "\n",
    "## Spring 2024 Due Date: 4/9/24 - 11:00am"
   ]
  },
  {
   "cell_type": "markdown",
   "id": "5179c36a",
   "metadata": {},
   "source": [
    "### zyBook Reading \n",
    "\n",
    "> Note: There appears to be a lot of sections, but sections 6.1-6.4 are comparatively short and have fewer activities \n",
    "\n",
    "Complete the reading and participation activities for the following sections:\n",
    "<ul>\n",
    "    <li>4.11 Parallelism via instructions</li>\n",
    "    <li>6.1 Introduction</li>\n",
    "    <li>6.2 The difficulty of creating parallel processing programs</li>\n",
    "    <li>6.3 SISD, MIMD, SIMD, SPMD, and vector</li>\n",
    "    <li>6.4 Hardware multithreading</li>\n",
    "</ul>"
   ]
  },
  {
   "cell_type": "markdown",
   "id": "8b90ec30",
   "metadata": {},
   "source": [
    "> <b>Hint:</b> As you are reading, take brief notes on each of the questions below. These questions serve as the \"backbone\" of each lecture, so you will be prepared for class discussions. Finally, if you have any confusion or questions regarding a specific topic, make a note and ask in class! This approach is designed to strengthen your proficiency and long-term retention.\n",
    "\n",
    "### Class Discussion Questions - Lecture 22\n",
    "\n",
    "<ol>\n",
    "    <li>Define <b>High-Level Synthesis</b></li> \n",
    "    <li>Describe <b>Moore's Law</b></li> \n",
    "    <li>Describe a <b>platform</b></li> \n",
    "    <li>Define <b>speculation</b></li>\n",
    "    <li>Briefly describe <b>Very Long Instruction Word</b></li>\n",
    "    <li>Briefly describe <b>Antidependence</b></li>\n",
    "    <li>Define <b>Shared memory multiprocessor</b></li>\n",
    "</ol>\n",
    "\n",
    "### Class Discussion Questions - Lecture 23\n",
    "\n",
    "<ol>\n",
    "    <li>Briefly differentiate between <b>strong</b> and <b>weak</b> scaling</li> \n",
    "    <li>Define <b>SISD</b></li> \n",
    "    <li>Define <b>SIMD</b></li> \n",
    "    <li>Define <b>MIMD</b></li> \n",
    "    <li>Define <b>SPMD</b></li> \n",
    "    <li>Define <b>course-grained multithreading</b></li>\n",
    "    <li>Define <b>fine-grained multithreading</b></li>\n",
    "    <li>Define <b>simultaneous multithreading</b></li>\n",
    "</ol>"
   ]
  }
 ],
 "metadata": {
  "kernelspec": {
   "display_name": "Python 3 (ipykernel)",
   "language": "python",
   "name": "python3"
  },
  "language_info": {
   "codemirror_mode": {
    "name": "ipython",
    "version": 3
   },
   "file_extension": ".py",
   "mimetype": "text/x-python",
   "name": "python",
   "nbconvert_exporter": "python",
   "pygments_lexer": "ipython3",
   "version": "3.9.13"
  }
 },
 "nbformat": 4,
 "nbformat_minor": 5
}
