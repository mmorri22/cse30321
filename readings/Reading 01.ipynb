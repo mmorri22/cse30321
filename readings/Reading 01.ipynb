{
 "cells": [
  {
   "cell_type": "markdown",
   "id": "d0fd867c",
   "metadata": {},
   "source": [
    "# Reading 01 - Introduction\n",
    "\n",
    "## Due Date: 1/18/24 - 11:00am"
   ]
  },
  {
   "cell_type": "markdown",
   "id": "5179c36a",
   "metadata": {},
   "source": [
    "### zyBook Reading \n",
    "\n",
    "Complete the reading and participation activities for the following sections:\n",
    "<ul>\n",
    "<li>1.1 Introduction</li>\n",
    "<li>1.2 Seven great ideas in computer architecture</li>\n",
    "</ul>"
   ]
  },
  {
   "cell_type": "markdown",
   "id": "8b90ec30",
   "metadata": {},
   "source": [
    "### Class Discussion Questions - Lecture 01\n",
    "\n",
    "<ol>\n",
    "<li>XXX</li>\n",
    "<li>YYY</li> \n",
    "<li>ZZZ</li> \n",
    "</ol>"
   ]
  },
  {
   "cell_type": "markdown",
   "id": "4ef018e8",
   "metadata": {},
   "source": [
    "### Check Yourself - In this reading you will learn the following concepts:\n",
    "\n",
    "<ul>\n",
    "    <li>Traditional classes of computing applications and their characteristics</li>\n",
    "    <li>Introduction to Personal Mobile Devices, Cloud Computing, and Software as a Service</li>\n",
    "    <li>Seven great ideas in computer architecture</li>\n",
    "</ul>"
   ]
  }
 ],
 "metadata": {
  "kernelspec": {
   "display_name": "Python 3 (ipykernel)",
   "language": "python",
   "name": "python3"
  },
  "language_info": {
   "codemirror_mode": {
    "name": "ipython",
    "version": 3
   },
   "file_extension": ".py",
   "mimetype": "text/x-python",
   "name": "python",
   "nbconvert_exporter": "python",
   "pygments_lexer": "ipython3",
   "version": "3.9.13"
  }
 },
 "nbformat": 4,
 "nbformat_minor": 5
}
