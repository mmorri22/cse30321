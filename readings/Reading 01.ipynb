{
 "cells": [
  {
   "cell_type": "markdown",
   "id": "d0fd867c",
   "metadata": {},
   "source": [
    "# CSE 30321 - Reading 01 - Introduction\n",
    "\n",
    "## Spring 2024 Due Date: 1/18/24 - 11:00am"
   ]
  },
  {
   "cell_type": "markdown",
   "id": "5179c36a",
   "metadata": {},
   "source": [
    "### zyBook Reading \n",
    "\n",
    "Complete the reading and participation activities for the following sections:\n",
    "<ul>\n",
    "<li>1.1 Introduction</li>\n",
    "<li>1.2 Seven great ideas in computer architecture</li>\n",
    "</ul>"
   ]
  },
  {
   "cell_type": "markdown",
   "id": "8b90ec30",
   "metadata": {},
   "source": [
    "### Class Discussion Questions - Lecture 01\n",
    "\n",
    "> <b>Hint:</b> As you are reading, take brief notes on each of the questions below. These questions serve as the \"backbone\" of each lecture, so you will be prepared for class discussions. Finally, if you have any confusion or questions regarding a specific topic, make a note and ask in class! This approach is designed to strengthen your proficiency and long-term retention.\n",
    "\n",
    "<ol>\n",
    "<li>Differentiate between <b>personal computer</b>, <b>server</b>, <b>supercomputer</b>, and <b>embedded computer</b>.</li>\n",
    "<li>Describe why personal mobile devices (PMDs), cloud computing, and software as a service (SaaS) are part of the \"Post PC era\".</li>\n",
    "<li>Briefly define <b>multicore processor</b></li> \n",
    "<li>Describe how Hardware and Software components impact <b>performance</b></li> \n",
    "<li>Why do we use <b>abstraction</b> to simplify design?</li>\n",
    "<li>Why do we <b>make the common case fast</b>?</li> \n",
    "<li>What is the major benefit of <b>parallelism</b>?</li>\n",
    "<li>Briefly describe <b>pipelining</b>?</li>\n",
    "<li>What is meant by <b>performance by prediction</b>?</li>\n",
    "<li>What is the benefit of employing <b>hierarchy of memories</b> in computing design?</li>\n",
    "\n",
    "</ol>"
   ]
  },
  {
   "cell_type": "markdown",
   "id": "4ef018e8",
   "metadata": {},
   "source": [
    "### Check Yourself - In this reading you will learn the following concepts:\n",
    "\n",
    "<ul>\n",
    "    <li>Traditional classes of computing applications and their characteristics</li>\n",
    "    <li>Introduction to Personal Mobile Devices, Cloud Computing, and Software as a Service</li>\n",
    "    <li>Seven great ideas in computer architecture</li>\n",
    "</ul>"
   ]
  }
 ],
 "metadata": {
  "kernelspec": {
   "display_name": "Python 3 (ipykernel)",
   "language": "python",
   "name": "python3"
  },
  "language_info": {
   "codemirror_mode": {
    "name": "ipython",
    "version": 3
   },
   "file_extension": ".py",
   "mimetype": "text/x-python",
   "name": "python",
   "nbconvert_exporter": "python",
   "pygments_lexer": "ipython3",
   "version": "3.9.13"
  }
 },
 "nbformat": 4,
 "nbformat_minor": 5
}
