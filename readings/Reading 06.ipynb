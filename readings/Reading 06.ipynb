{
 "cells": [
  {
   "cell_type": "markdown",
   "id": "d0fd867c",
   "metadata": {},
   "source": [
    "# CSE 30321 - Reading 06 - Data Hazards, Control Hazards, and Exceptions\n",
    "\n",
    "## Spring 2024 Due Date: 2/20/24 - 11:00am"
   ]
  },
  {
   "cell_type": "markdown",
   "id": "5179c36a",
   "metadata": {},
   "source": [
    "### zyBook Reading \n",
    "\n",
    "Complete the reading and participation activities for the following sections:\n",
    "<ul>\n",
    "    <li>4.8 - Data hazards: Forwarding versus stalling</li>\n",
    "    <li>4.9 - Control hazards</li>\n",
    "    <li>4.10 - Exceptions</li>\n",
    "</ul>"
   ]
  },
  {
   "cell_type": "markdown",
   "id": "8b90ec30",
   "metadata": {},
   "source": [
    "> <b>Hint:</b> As you are reading, take brief notes on each of the questions below. These questions serve as the \"backbone\" of each lecture, so you will be prepared for class discussions. Finally, if you have any confusion or questions regarding a specific topic, make a note and ask in class! This approach is designed to strengthen your proficiency and long-term retention.\n",
    "\n",
    "### Class Discussion Questions - Lecture 12\n",
    "\n",
    "<ol>\n",
    "    <li>Define <b>Dynamic branch prediction</b></li> \n",
    "    <li>Define <b>Branch prediction buffer</b></li> \n",
    "    <li>Describe the <b>2-bit prediction scheme</b> stated in Figure 4.9.2</li> \n",
    "    <li>Describe <b>Correlating predictor</b></li>\n",
    "    <li>Describe <b>Tournament branch predictor</b></li> \n",
    "</ol>"
   ]
  }
 ],
 "metadata": {
  "kernelspec": {
   "display_name": "Python 3 (ipykernel)",
   "language": "python",
   "name": "python3"
  },
  "language_info": {
   "codemirror_mode": {
    "name": "ipython",
    "version": 3
   },
   "file_extension": ".py",
   "mimetype": "text/x-python",
   "name": "python",
   "nbconvert_exporter": "python",
   "pygments_lexer": "ipython3",
   "version": "3.9.13"
  }
 },
 "nbformat": 4,
 "nbformat_minor": 5
}
