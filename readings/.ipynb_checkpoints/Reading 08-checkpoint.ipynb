{
 "cells": [
  {
   "cell_type": "markdown",
   "id": "d0fd867c",
   "metadata": {},
   "source": [
    "# CSE 30321 - Reading 08 - Cache Introduction\n",
    "\n",
    "## Spring 2024 Due Date: 3/5/24 - 11:00am"
   ]
  },
  {
   "cell_type": "markdown",
   "id": "5179c36a",
   "metadata": {},
   "source": [
    "### zyBook Reading \n",
    "\n",
    "Complete the reading and participation activities for the following sections:\n",
    "<ul>\n",
    "    <li>5.3 The basics of caches</li>\n",
    "</ul>"
   ]
  },
  {
   "cell_type": "markdown",
   "id": "8b90ec30",
   "metadata": {},
   "source": [
    "> <b>Hint:</b> As you are reading, take brief notes on each of the questions below. These questions serve as the \"backbone\" of each lecture, so you will be prepared for class discussions. Finally, if you have any confusion or questions regarding a specific topic, make a note and ask in class! This approach is designed to strengthen your proficiency and long-term retention.\n",
    "\n",
    "### Class Discussion Questions - Lecture 14\n",
    "\n",
    "<ol>\n",
    "    <li>Define <b>Direct-mapped cache</b></li> \n",
    "    <li>Define <b>tag</b></li> \n",
    "    <li>Define <b>valid bit</b></li> \n",
    "    <li>Describe <b>Cache miss</b></li>\n",
    "</ol>\n",
    "\n",
    "### Class Discussion Questions - Lecture 15\n",
    "\n",
    "<ol>\n",
    "    <li>Define <b>Write-through</b></li>\n",
    "    <li>Define <b>Write-buffer</b></li>\n",
    "    <li>Define <b>Write-back</b></li>\n",
    "    <li>Define <b>Split cache</b></li>\n",
    "</ol>"
   ]
  }
 ],
 "metadata": {
  "kernelspec": {
   "display_name": "Python 3 (ipykernel)",
   "language": "python",
   "name": "python3"
  },
  "language_info": {
   "codemirror_mode": {
    "name": "ipython",
    "version": 3
   },
   "file_extension": ".py",
   "mimetype": "text/x-python",
   "name": "python",
   "nbconvert_exporter": "python",
   "pygments_lexer": "ipython3",
   "version": "3.9.13"
  }
 },
 "nbformat": 4,
 "nbformat_minor": 5
}
