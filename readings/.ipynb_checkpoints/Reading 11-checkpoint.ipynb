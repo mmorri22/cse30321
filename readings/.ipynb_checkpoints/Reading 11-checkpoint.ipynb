{
 "cells": [
  {
   "cell_type": "markdown",
   "id": "d0fd867c",
   "metadata": {},
   "source": [
    "# CSE 30321 - Reading 11 - Virtual Memory II and Transition Lookaside Buffers\n",
    "\n",
    "## Spring 2024 Due Date: 4/2/24 - 11:00am"
   ]
  },
  {
   "cell_type": "markdown",
   "id": "5179c36a",
   "metadata": {},
   "source": [
    "### zyBook Reading \n",
    "\n",
    "Complete the reading and participation activities for the following sections:\n",
    "<ul>\n",
    "    <li>5.7 Virtual Memory - Part 2</li>\n",
    "</ul>"
   ]
  },
  {
   "cell_type": "markdown",
   "id": "8b90ec30",
   "metadata": {},
   "source": [
    "> <b>Hint:</b> As you are reading, take brief notes on each of the questions below. These questions serve as the \"backbone\" of each lecture, so you will be prepared for class discussions. Finally, if you have any confusion or questions regarding a specific topic, make a note and ask in class! This approach is designed to strengthen your proficiency and long-term retention.\n",
    "\n",
    "### Class Discussion Questions - Lecture 20\n",
    "\n",
    "<ol>\n",
    "    <li>Define <b>swap space</b></li> \n",
    "    <li>Define <b>reference bit</b></li> \n",
    "    <li>Define <b>Page Fault</b></li> \n",
    "    <li>Briefly describe the \"major advantage\" that the write-back scheme has in a virtual memory system</li>\n",
    "</ol>\n",
    "\n",
    "### Class Discussion Questions - Lecture 21\n",
    "\n",
    "<ol>\n",
    "    <li>Define <b>Translation-lookaside buffer (TLB)</b></li> \n",
    "    <li>Briefly how the Intrinsity FastMATH TLB processes a read or a write-through in the cache</li> \n",
    "    <li>Define why each of the follow are possible or impossible:</li>\n",
    "    <ul>\n",
    "        <li>TLB hit, page table miss, cache miss</li>\n",
    "        <li>TLB miss, page table miss, cache hit</li>\n",
    "        <li>TLB hit, page table hit, cache miss</li>\n",
    "        <li>TLB hit, page table miss, cache hit</li>\n",
    "    </ul>\n",
    "</ol>"
   ]
  }
 ],
 "metadata": {
  "kernelspec": {
   "display_name": "Python 3 (ipykernel)",
   "language": "python",
   "name": "python3"
  },
  "language_info": {
   "codemirror_mode": {
    "name": "ipython",
    "version": 3
   },
   "file_extension": ".py",
   "mimetype": "text/x-python",
   "name": "python",
   "nbconvert_exporter": "python",
   "pygments_lexer": "ipython3",
   "version": "3.9.13"
  }
 },
 "nbformat": 4,
 "nbformat_minor": 5
}
