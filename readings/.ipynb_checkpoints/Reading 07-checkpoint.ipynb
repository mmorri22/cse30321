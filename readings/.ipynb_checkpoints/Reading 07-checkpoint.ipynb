{
 "cells": [
  {
   "cell_type": "markdown",
   "id": "d0fd867c",
   "metadata": {},
   "source": [
    "# CSE 30321 - Reading 07 - Memory Hierarchy\n",
    "\n",
    "## Spring 2024 Due Date: 2/27/24 - 11:00am"
   ]
  },
  {
   "cell_type": "markdown",
   "id": "5179c36a",
   "metadata": {},
   "source": [
    "### zyBook Reading \n",
    "\n",
    "Complete the reading and participation activities for the following sections:\n",
    "<ul>\n",
    "    <li>5.1 Introduction</li>\n",
    "    <li>5.2 Memory technologies</li>\n",
    "</ul>"
   ]
  },
  {
   "cell_type": "markdown",
   "id": "8b90ec30",
   "metadata": {},
   "source": [
    "> <b>Hint:</b> As you are reading, take brief notes on each of the questions below. These questions serve as the \"backbone\" of each lecture, so you will be prepared for class discussions. Finally, if you have any confusion or questions regarding a specific topic, make a note and ask in class! This approach is designed to strengthen your proficiency and long-term retention.\n",
    "\n",
    "### Class Discussion Questions - Lecture 12 (from last reading)\n",
    "\n",
    "<ol>\n",
    "    <li>Define <b>Dynamic branch prediction</b></li> \n",
    "    <li>Define <b>Branch prediction buffer</b></li> \n",
    "    <li>Describe the <b>2-bit prediction scheme</b> stated in Figure 4.9.2</li> \n",
    "    <li>Describe <b>Correlating predictor</b></li>\n",
    "    <li>Describe <b>Tournament branch predictor</b></li> \n",
    "</ol>\n",
    "\n",
    "### Class Discussion Questions - Lecture 13\n",
    "\n",
    "<ol>\n",
    "    <li>Define Block (or line)</li>\n",
    "    <li>Define Hit Rate / Miss Rate</li>\n",
    "    <li>Define Hit Time and Miss Penalty</li>\n",
    "    <li>Briefly describe SRAM technology</li>\n",
    "    <li>Briefly describe DRAM technology</li>\n",
    "    <li>Briefly describe Flash memory</li>\n",
    "    <li>Describe a track in disk memory</li>\n",
    "    <li>Describe a sector in disk memory</li>\n",
    "    <li>Describe rotational latency</li>\n",
    "</ol>"
   ]
  }
 ],
 "metadata": {
  "kernelspec": {
   "display_name": "Python 3 (ipykernel)",
   "language": "python",
   "name": "python3"
  },
  "language_info": {
   "codemirror_mode": {
    "name": "ipython",
    "version": 3
   },
   "file_extension": ".py",
   "mimetype": "text/x-python",
   "name": "python",
   "nbconvert_exporter": "python",
   "pygments_lexer": "ipython3",
   "version": "3.9.13"
  }
 },
 "nbformat": 4,
 "nbformat_minor": 5
}
