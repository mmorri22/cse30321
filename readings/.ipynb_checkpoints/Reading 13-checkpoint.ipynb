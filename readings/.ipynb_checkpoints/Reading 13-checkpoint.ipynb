{
 "cells": [
  {
   "cell_type": "markdown",
   "id": "d0fd867c",
   "metadata": {},
   "source": [
    "# CSE 30321 - Reading 13 - Parallel Processing II\n",
    "\n",
    "## Spring 2024 Due Date: 4/16/24 - 11:00am"
   ]
  },
  {
   "cell_type": "markdown",
   "id": "5179c36a",
   "metadata": {},
   "source": [
    "### zyBook Reading \n",
    "\n",
    "Complete the reading and participation activities for the following sections:\n",
    "<ul>\n",
    "    <li>4.11 Parallelism via instructions - The second half</li>\n",
    "    <li>6.5 Multicore and other shared memory multiprocessors</li>\n",
    "    <li>6.9 Introduction to Multiprocessor Network Topologies</li>\n",
    "</ul>"
   ]
  },
  {
   "cell_type": "markdown",
   "id": "8b90ec30",
   "metadata": {},
   "source": [
    "> <b>Hint:</b> As you are reading, take brief notes on each of the questions below. These questions serve as the \"backbone\" of each lecture, so you will be prepared for class discussions. Finally, if you have any confusion or questions regarding a specific topic, make a note and ask in class! This approach is designed to strengthen your proficiency and long-term retention.\n",
    "\n",
    "### Class Discussion Questions - Lecture 24\n",
    "\n",
    "<ol>\n",
    "    <li>Define <b>Superscalar</b></li>\n",
    "    <li>Define <b>Commit unit</b></li>\n",
    "    <li>Define <b>Reservation station</b></li>\n",
    "    <li>Define <b>Reorder buffer</b></li>\n",
    "    <li>Briefly describe <b>Out-of-order execution</b></li>\n",
    "    <li>Define <b>In-order commit</b></li>\n",
    "</ol>\n",
    "\n",
    "### Class Discussion Questions - Lecture 25\n",
    "\n",
    "<ol>\n",
    "    <li>Briefly differentiate between <b>uniform</b> and <b>non-uniform memory access</b></li> \n",
    "    <li>Briefly describe how <b>locks</b> aid in <b>synchronization</b></li> \n",
    "    <li>What is the <b>OpenMP</b>?</li> \n",
    "    <li>Define <b>Network bandwidth</b></li> \n",
    "    <li>Define <b>Bisection bandwidth</b></li> \n",
    "    <li>Define <b>Fully connected network</b></li>\n",
    "    <li>Define <b>Multistage network</b></li>\n",
    "    <li>Define <b>Crossbar network</b></li>\n",
    "</ol>"
   ]
  }
 ],
 "metadata": {
  "kernelspec": {
   "display_name": "Python 3 (ipykernel)",
   "language": "python",
   "name": "python3"
  },
  "language_info": {
   "codemirror_mode": {
    "name": "ipython",
    "version": 3
   },
   "file_extension": ".py",
   "mimetype": "text/x-python",
   "name": "python",
   "nbconvert_exporter": "python",
   "pygments_lexer": "ipython3",
   "version": "3.9.13"
  }
 },
 "nbformat": 4,
 "nbformat_minor": 5
}
