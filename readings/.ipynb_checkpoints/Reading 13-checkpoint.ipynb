{
 "cells": [
  {
   "cell_type": "markdown",
   "id": "d0fd867c",
   "metadata": {},
   "source": [
    "# CSE 30321 - Reading 13 - Parallel Processing in Python anf Cache Coherence\n",
    "\n",
    "## Spring 2024 Due Date: 4/16/24 - 11:00am"
   ]
  },
  {
   "cell_type": "markdown",
   "id": "5179c36a",
   "metadata": {},
   "source": [
    "### PDF and zyBook Reading \n",
    "\n",
    "Complete the reading and participation activities for the following sections:\n",
    "<ul>\n",
    "    <li><b>For Lecture 24</b> - PDF - <a href = \"https://github.com/mmorri22/cse30321/blob/main/readings/Multithreading%20vs%20Multiprocessing%20in%20Python.pdf\">Multi-threading and Multi-processing in Python</a></li>\n",
    "    <li><b>For Lecture 25</b> - zyBook - 5.10 Parallelism and memory hierarchies: Cache coherence</li>\n",
    "</ul>"
   ]
  },
  {
   "cell_type": "markdown",
   "id": "8b90ec30",
   "metadata": {},
   "source": [
    "> <b>Hint:</b> As you are reading, take brief notes on each of the questions below. These questions serve as the \"backbone\" of each lecture, so you will be prepared for class discussions. Finally, if you have any confusion or questions regarding a specific topic, make a note and ask in class! This approach is designed to strengthen your proficiency and long-term retention.\n",
    "\n",
    "### Class Discussion Questions - Lecture 24\n",
    "\n",
    "<ol>\n",
    "    <li>Describe <b>concurrent execution</b></li> \n",
    "    <li>Describe how a program can be <b>concurrent</b> but <b>not parallel</b></li> \n",
    "    <li>Describe how a program can be <b>parallel</b> but <b>not concurrent</b></li>\n",
    "    <li>Describe how a program can be <b>concurrent</b> and <b>parallel</b></li>\n",
    "    <li>Describe the Python <b>Global Interpreter Lock (GIL)</b></li>\n",
    "    <li>Describe when thread is a good option in Python</li>\n",
    "    <li>Describe how <b>multiprocessing</b> adresses the challenges posed by the Python GIL.</li>\n",
    "</ol>\n",
    "\n",
    "\n",
    "### Class Discussion Questions - Lecture 25\n",
    "\n",
    "<ol>\n",
    "    <li>Define <b>Cache coherence</b></li> \n",
    "    <li>Define <b>Cache consistency</b></li> \n",
    "    <li>Define <b>Migration</b></li>\n",
    "    <li>Define <b>Replication</b></li>\n",
    "    <li>Describe the <b>Snooping</b> protocol</li>\n",
    "</ol>"
   ]
  }
 ],
 "metadata": {
  "kernelspec": {
   "display_name": "Python 3 (ipykernel)",
   "language": "python",
   "name": "python3"
  },
  "language_info": {
   "codemirror_mode": {
    "name": "ipython",
    "version": 3
   },
   "file_extension": ".py",
   "mimetype": "text/x-python",
   "name": "python",
   "nbconvert_exporter": "python",
   "pygments_lexer": "ipython3",
   "version": "3.9.13"
  }
 },
 "nbformat": 4,
 "nbformat_minor": 5
}
