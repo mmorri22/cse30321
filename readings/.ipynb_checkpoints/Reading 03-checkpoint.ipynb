{
 "cells": [
  {
   "cell_type": "markdown",
   "id": "d0fd867c",
   "metadata": {},
   "source": [
    "# CSE 30321 - Reading 03 - RISC-V Programming and Instruction Formats\n",
    "\n",
    "## Spring 2024 Due Date: 1/30/24 - 11:00am"
   ]
  },
  {
   "cell_type": "markdown",
   "id": "5179c36a",
   "metadata": {},
   "source": [
    "### zyBook Reading \n",
    "\n",
    "Complete the reading and participation activities for the following sections:\n",
    "<ul>\n",
    "<li>2.5 Representing instructions in the computer</li>\n",
    "<li>2.6 Logical Operations</li>\n",
    "<li>2.7 Instructions for Making Decisions</li>\n",
    "</ul>"
   ]
  },
  {
   "attachments": {},
   "cell_type": "markdown",
   "id": "8b90ec30",
   "metadata": {},
   "source": [
    "> <b>Hint:</b> As you are reading, take brief notes on each of the questions below. These questions serve as the \"backbone\" of each lecture, so you will be prepared for class discussions. Finally, if you have any confusion or questions regarding a specific topic, make a note and ask in class! This approach is designed to strengthen your proficiency and long-term retention.\n",
    "\n",
    "### Class Discussion Questions - Lecture 04\n",
    "\n",
    "<ol>\n",
    "<li>State the <b>six RISC-V fields</b> of an <b>R-type instruction</b></li> \n",
    "<li>State the <b>five RISC-V fields</b> of an <b>I-type instruction</b> (aka intermediate)</li> \n",
    "<li>State the <b>six RISC-V fields</b> of an <b>S-type instruction</b></li>\n",
    "<li>State the <b>six RISC-V fields</b> of an <b>SB-type instruction</b></li> \n",
    "<li>State the <b>three RISC-V fields</b> of a <b>U-type instruction</b></li>\n",
    "<li>State the <b>three RISC-V fields</b> of a <b>UJ-type instruction</b></li>\n",
    "</ol>\n",
    "\n",
    "### Class Discussion Questions - Lecture 05\n",
    "\n",
    "<ol>\n",
    "<li>What is a <b>mask?</b></li>\n",
    "<li>What is a <b>Conditional branch</b>?</li>\n",
    "<li>In the Hardware/Software Interface, how do compilers improve coding time in high-level programming languages?</li>\n",
    "<li>Briefly describe a <b>basic block</b></li>\n",
    "<li>What is a <b>branch address table</b>?</li> \n",
    "</ol>"
   ]
  }
 ],
 "metadata": {
  "kernelspec": {
   "display_name": "Python 3 (ipykernel)",
   "language": "python",
   "name": "python3"
  },
  "language_info": {
   "codemirror_mode": {
    "name": "ipython",
    "version": 3
   },
   "file_extension": ".py",
   "mimetype": "text/x-python",
   "name": "python",
   "nbconvert_exporter": "python",
   "pygments_lexer": "ipython3",
   "version": "3.9.13"
  }
 },
 "nbformat": 4,
 "nbformat_minor": 5
}
