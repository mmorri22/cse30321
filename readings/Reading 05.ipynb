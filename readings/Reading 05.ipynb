{
 "cells": [
  {
   "cell_type": "markdown",
   "id": "d0fd867c",
   "metadata": {},
   "source": [
    "# CSE 30321 - Reading 05 - Introduction to Pipelining\n",
    "\n",
    "## Spring 2024 Due Date: 2/20/24 - 11:00am"
   ]
  },
  {
   "cell_type": "markdown",
   "id": "e202ef8d",
   "metadata": {},
   "source": [
    "### Reading 05 Note\n",
    "\n",
    "You are required to perform the reading and contribute the initial discussion during Lecture 08 for Pipelining materials as normal. However, the material for Reading 05 will be covered on <b>Exam 2</b>, not Exam 1. You are not expected to develop a level of mastery on this material by Thursday. \n",
    "\n",
    "The only question you would be expected to demonstrate any level of pipelining understanding is a Single Cycle / Multicycle / Pipelining performance comparison question, which was covered earlier this semester."
   ]
  },
  {
   "cell_type": "markdown",
   "id": "5179c36a",
   "metadata": {},
   "source": [
    "### zyBook Reading \n",
    "\n",
    "Complete the reading and participation activities for the following sections:\n",
    "<ul>\n",
    "<li>4.6 An overview of Pipelining</li>\n",
    "</ul>"
   ]
  },
  {
   "cell_type": "markdown",
   "id": "8b90ec30",
   "metadata": {},
   "source": [
    "> <b>Hint:</b> As you are reading, take brief notes on each of the questions below. These questions serve as the \"backbone\" of each lecture, so you will be prepared for class discussions. Finally, if you have any confusion or questions regarding a specific topic, make a note and ask in class! This approach is designed to strengthen your proficiency and long-term retention.\n",
    "\n",
    "### Class Discussion Questions - Lecture 08\n",
    "\n",
    "<ol>\n",
    "    <li>Define <b>Pipelining</b></li> \n",
    "    <li>Briefly describe the laundry analogy used in Section 4.6</li> \n",
    "    <li>Define <b>Structural Hazard</b></li> \n",
    "    <li>Define <b>Pipeline Data Hazard</b></li>\n",
    "    <li>Define <b>Forwarding</b></li> \n",
    "    <li>Define <b>Load-Use Data Hazard</b></li>\n",
    "    <li>Define <b>Pipeline Stall</b></li>\n",
    "    <li>Define <b>Control Hazard</b></li>\n",
    "    <li>Define <b>Brach Prediction</b></li>\n",
    "</ol>\n",
    "\n",
    "### Class Discussion Questions - Lecture 09\n",
    "\n",
    "There are no class discussion questions for Lecture 09 to account for in-class Exam 1."
   ]
  }
 ],
 "metadata": {
  "kernelspec": {
   "display_name": "Python 3 (ipykernel)",
   "language": "python",
   "name": "python3"
  },
  "language_info": {
   "codemirror_mode": {
    "name": "ipython",
    "version": 3
   },
   "file_extension": ".py",
   "mimetype": "text/x-python",
   "name": "python",
   "nbconvert_exporter": "python",
   "pygments_lexer": "ipython3",
   "version": "3.9.13"
  }
 },
 "nbformat": 4,
 "nbformat_minor": 5
}
