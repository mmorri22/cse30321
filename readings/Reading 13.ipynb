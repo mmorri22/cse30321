{
 "cells": [
  {
   "cell_type": "markdown",
   "id": "d0fd867c",
   "metadata": {},
   "source": [
    "# CSE 30321 - Reading 13 - Introduction to High-Level Synthesis\n",
    "\n",
    "## Spring 2024 Due Date: 4/16/24 - 11:00am"
   ]
  },
  {
   "cell_type": "markdown",
   "id": "5179c36a",
   "metadata": {},
   "source": [
    "### XLS Google Colab Reading \n",
    "\n",
    "You will read through the provided Google Colab Notebook to learn about High-Level Synthesis of Computer Architectures.\n",
    "\n",
    "\n",
    "\n",
    "### Reading Points\n",
    "\n",
    "For the points, go to the Canvas \"Quiz\" at <a href = \"https://canvas.nd.edu/courses/82217/quizzes/50629\">the following link</a>.\n",
    "\n",
    "> Note: This is not a quiz in a \"conventional\" sense. They are not timed, and you are welcome - and even encouraged - to discuss the Reading Assignments with your classmates. The only reason it's called a \"Quiz\" is because Canvas will not allow us to change the name to something <s>better</s> different.\n",
    "\n",
    "After your first submission, you will be able to view previous attempts.\n",
    "<ul>\n",
    "    <li>You will be able to view which questions you got wrong.</li>\n",
    "    <li>In many cases, Canvas Quizzes will add a timer to a quiz, even if the professor indicates the assignment is untimed, as I have. Feel free to ignore the timer, as we are not enforcing timing restrictions on this assessment. In this case, just press the \"Hide Time\" button.</li>\n",
    "</ul>"
   ]
  },
  {
   "cell_type": "markdown",
   "id": "8b90ec30",
   "metadata": {},
   "source": [
    "> <b>Hint:</b> As you are reading, take brief notes on each of the questions below. These questions serve as the \"backbone\" of each lecture, so you will be prepared for class discussions. Finally, if you have any confusion or questions regarding a specific topic, make a note and ask in class! This approach is designed to strengthen your proficiency and long-term retention.\n",
    "\n",
    "### Class Discussion Questions - Lecture 24\n",
    "\n",
    "<ol>\n",
    "    <li>Describe <b>concurrent execution</b></li> \n",
    "    <li>Describe how a program can be <b>concurrent</b> but <b>not parallel</b></li> \n",
    "    <li>Describe how a program can be <b>parallel</b> but <b>not concurrent</b></li>\n",
    "    <li>Describe how a program can be <b>concurrent</b> and <b>parallel</b></li>\n",
    "    <li>Describe the Python <b>Global Interpreter Lock (GIL)</b></li>\n",
    "    <li>Describe when thread is a good option in Python</li>\n",
    "    <li>Describe how <b>multiprocessing</b> adresses the challenges posed by the Python GIL.</li>\n",
    "</ol>\n",
    "\n",
    "\n",
    "### Class Discussion Questions - Lecture 25\n",
    "\n",
    "<ol>\n",
    "    <li>Define <b>Cache coherence</b></li> \n",
    "    <li>Define <b>Cache consistency</b></li> \n",
    "    <li>Define <b>Migration</b></li>\n",
    "    <li>Define <b>Replication</b></li>\n",
    "    <li>Describe the <b>Snooping</b> protocol</li>\n",
    "</ol>"
   ]
  }
 ],
 "metadata": {
  "kernelspec": {
   "display_name": "Python 3 (ipykernel)",
   "language": "python",
   "name": "python3"
  },
  "language_info": {
   "codemirror_mode": {
    "name": "ipython",
    "version": 3
   },
   "file_extension": ".py",
   "mimetype": "text/x-python",
   "name": "python",
   "nbconvert_exporter": "python",
   "pygments_lexer": "ipython3",
   "version": "3.9.13"
  }
 },
 "nbformat": 4,
 "nbformat_minor": 5
}
