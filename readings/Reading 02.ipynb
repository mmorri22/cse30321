{
 "cells": [
  {
   "cell_type": "markdown",
   "id": "d0fd867c",
   "metadata": {},
   "source": [
    "# CSE 30321 - Reading 02 - Performance and RISC-V Instructions\n",
    "\n",
    "## Spring 2024 Due Date: 1/23/24 - 11:00am"
   ]
  },
  {
   "cell_type": "markdown",
   "id": "5179c36a",
   "metadata": {},
   "source": [
    "### zyBook Reading \n",
    "\n",
    "Complete the reading and participation activities for the following sections:\n",
    "<ul>\n",
    "<li>1.6 Performance</li>\n",
    "<li>1.11 Fallacies and Pitfalls</li>\n",
    "<li>1.12 Concluding Remarks</li>\n",
    "<li>2.1 Introduction</li>\n",
    "<li>2.2 Operations of the Computer Hardware</li>\n",
    "<li>2.3 Operands of the Computer Hardware</li>\n",
    "</ul>"
   ]
  },
  {
   "cell_type": "markdown",
   "id": "8b90ec30",
   "metadata": {},
   "source": [
    "> <b>Hint:</b> As you are reading, take brief notes on each of the questions below. These questions serve as the \"backbone\" of each lecture, so you will be prepared for class discussions. Finally, if you have any confusion or questions regarding a specific topic, make a note and ask in class! This approach is designed to strengthen your proficiency and long-term retention.\n",
    "\n",
    "### Class Discussion Questions - Lecture 02\n",
    "\n",
    "<ol>\n",
    "<li>Describe <b>response time</b> (aka <b>execution time</b>).</li>\n",
    "<li>Describe <b>throughput</b> (aka <b>bandwidth</b>).</li>\n",
    "<li>Differentiate between <b>CPU execution time</b>, <b>User CPU time</b>, and <b>System CPU time</b></li> \n",
    "<li>Differentiate between <b>clock cycle</b> and <b>clock period</b></li> \n",
    "<li>State the equation used to find the <b>Clock cycles per instruction (CPI)</b></li>\n",
    "<li>State the equation used to find the <b>CPU Time</b></li> \n",
    "<li>Why is it a pitfall to expect the improvement of one aspect of a computer to increase overall performance by an amount proportional to the size of the improvement?</li>\n",
    "<li>Define <b>Amdahl's Law</b></li>\n",
    "<li>Why is it a pitfall to believe that computers at low utilization use little power</li>\n",
    "<li>Why is it a pitfall to believe that designing for performance and designing for energy efficiency are unrelated goals</li>\n",
    "<li>Why is using a subset of the performance equation as a performance metric considered a pitfall?</li>\n",
    "\n",
    "</ol>\n",
    "\n",
    "### Class Discussion Questions - Lecture 03\n",
    "\n",
    "<ol>\n",
    "<li>Briefly describe the <b>Stored-program concept</b></li>\n",
    "<li>Briefly describe the RISC-V version of <b>arithmetic</b> instructions such as <code>add</code>, <code>sub</code>, and <code>addi</code> instructions</li>\n",
    "<li>Briefly describe the RISC-V version of <b>logical</b> instructions, such as <code>and</code>, <code>or</code>, <code>xor</code>, <code>xori</code>, \n",
    "<li>Briefly describe the RISC-V version of <b>data transfer</b> instructions such as <code>lw</code>, <code>sw</code>, <code>lb</code>, <code>sb</code>, <code>lh</code>, <code>sh</code>, and <code>lui</code> instructions</li>\n",
    "<li>Briefly describe the RISC-V version of <b>conditional branch</b> instructions, such as <code>beq</code>, <code>bne</code>, and <code>blt</code></li>\n",
    "<li>Briefly describe the RISC-V version of <b>unconditional jump</b> instructions, such as <code>jal</code> and <code>jalr</code></li>\n",
    "</ol>"
   ]
  }
 ],
 "metadata": {
  "kernelspec": {
   "display_name": "Python 3 (ipykernel)",
   "language": "python",
   "name": "python3"
  },
  "language_info": {
   "codemirror_mode": {
    "name": "ipython",
    "version": 3
   },
   "file_extension": ".py",
   "mimetype": "text/x-python",
   "name": "python",
   "nbconvert_exporter": "python",
   "pygments_lexer": "ipython3",
   "version": "3.9.13"
  }
 },
 "nbformat": 4,
 "nbformat_minor": 5
}
