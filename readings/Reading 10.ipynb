{
 "cells": [
  {
   "cell_type": "markdown",
   "id": "d0fd867c",
   "metadata": {},
   "source": [
    "# CSE 30321 - Reading 10 - Virtual Memory Introduction\n",
    "\n",
    "## Spring 2024 Due Date: 3/26/24 - 11:00am"
   ]
  },
  {
   "cell_type": "markdown",
   "id": "5179c36a",
   "metadata": {},
   "source": [
    "### zyBook Reading \n",
    "\n",
    "Complete the reading and participation activities for the following sections:\n",
    "<ul>\n",
    "    <li>5.7 Virtual Memory - Part 1</li>\n",
    "</ul>\n",
    "\n",
    "This reading will mostly be studying and understanding terms and concepts. Since this reading is the Tuesday prior to the Exam, focus on understanding the basics (i.e. the definitions below) and we will focus our discussions on building strong fundamentals. We will build our understanding of VM in Lectures 20 and 21 (and Reading 11)"
   ]
  },
  {
   "cell_type": "markdown",
   "id": "8b90ec30",
   "metadata": {},
   "source": [
    "> <b>Hint:</b> As you are reading, take brief notes on each of the questions below. These questions serve as the \"backbone\" of each lecture, so you will be prepared for class discussions. Finally, if you have any confusion or questions regarding a specific topic, make a note and ask in class! This approach is designed to strengthen your proficiency and long-term retention.\n",
    "\n",
    "### Class Discussion Questions - Lecture 18\n",
    "\n",
    "<ol>\n",
    "    <li>Define <b>virtual machine</b></li> \n",
    "    <li>Briefly describe <b>Protection</b></li> \n",
    "    <li>Define <b>Page Fault</b></li> \n",
    "    <li>Briefly describe <b>Address translation</b></li>\n",
    "    <li>Briefly describe <b>Address translation</b></li>\n",
    "    <li>Define <b>Page table</b></li>\n",
    "</ol>"
   ]
  }
 ],
 "metadata": {
  "kernelspec": {
   "display_name": "Python 3 (ipykernel)",
   "language": "python",
   "name": "python3"
  },
  "language_info": {
   "codemirror_mode": {
    "name": "ipython",
    "version": 3
   },
   "file_extension": ".py",
   "mimetype": "text/x-python",
   "name": "python",
   "nbconvert_exporter": "python",
   "pygments_lexer": "ipython3",
   "version": "3.9.13"
  }
 },
 "nbformat": 4,
 "nbformat_minor": 5
}
