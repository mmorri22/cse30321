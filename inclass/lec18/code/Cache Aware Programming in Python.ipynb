{
 "cells": [
  {
   "cell_type": "markdown",
   "id": "6f422957",
   "metadata": {},
   "source": [
    "# Python Example\n",
    "\n",
    "Performing the same task in Python that we did in C using Cache-Aware Optimization.\n",
    "\n",
    "> Note: This example is not meant to discourage Python programming! Python is robust and quite useful, which is why most CS majors enjoy it more. We will do Virtual Memory-Aware Programming later this semester so if you prefer Python, you can still apply your Computer Architecture knowledge to improve your Python code. This example is just meant to show that cache-aware programming with procedural programming (like with C or C++) is quite useful in the event your customer needs great performance."
   ]
  },
  {
   "cell_type": "code",
   "execution_count": 1,
   "id": "6d44f39c",
   "metadata": {},
   "outputs": [],
   "source": [
    "def func( count, value ):\n",
    "    return count + value"
   ]
  },
  {
   "cell_type": "code",
   "execution_count": 2,
   "id": "fa50745f",
   "metadata": {},
   "outputs": [],
   "source": [
    "def no_opt( array_size ):\n",
    "    \n",
    "    the_array = [0] * array_size\n",
    "    \n",
    "    sum_val = 0\n",
    "    \n",
    "    for count in range(0, 5):\n",
    "        \n",
    "        for idx in range(0, array_size):\n",
    "            \n",
    "            the_array[idx] = func( count, the_array[idx] )\n",
    "            sum_val += the_array[idx]"
   ]
  },
  {
   "cell_type": "code",
   "execution_count": 3,
   "id": "50fb901f",
   "metadata": {},
   "outputs": [],
   "source": [
    "def cache_opt( array_size ):\n",
    "    \n",
    "    the_array = [0] * array_size\n",
    "    \n",
    "    sum_val = 0\n",
    "    \n",
    "    for idx in range(0, array_size):\n",
    "        \n",
    "        for count in range(0, 5):\n",
    "            \n",
    "            the_array[idx] = func( count, the_array[idx] )\n",
    "            sum_val += the_array[idx]"
   ]
  },
  {
   "cell_type": "code",
   "execution_count": 4,
   "id": "7cc09fb3",
   "metadata": {},
   "outputs": [],
   "source": [
    "def reg_opt( array_size ):\n",
    "    \n",
    "    the_array = [0] * array_size\n",
    "    \n",
    "    sum_val = 0\n",
    "    \n",
    "    for idx in range(0, array_size):\n",
    "        \n",
    "        arr_idx = the_array[idx]\n",
    "        \n",
    "        for count in range(0, 5):\n",
    "            \n",
    "            arr_idx = func( count, arr_idx )\n",
    "            sum_val += arr_idx\n",
    "            \n",
    "        the_array[idx] = arr_idx"
   ]
  },
  {
   "cell_type": "code",
   "execution_count": 5,
   "id": "3e197872",
   "metadata": {},
   "outputs": [],
   "source": [
    "def test_opt( array_test_size ):\n",
    "\n",
    "    print(\"No Opt\")\n",
    "    %timeit -r1 no_opt( array_test_size )\n",
    "    \n",
    "    print(\"Cache Opt\")\n",
    "    %timeit -r1 cache_opt( array_test_size )\n",
    "    \n",
    "    print(\"Reg Opt\")\n",
    "    %timeit -r1 reg_opt( array_test_size )"
   ]
  },
  {
   "cell_type": "code",
   "execution_count": 6,
   "id": "8efd99f4",
   "metadata": {
    "scrolled": true
   },
   "outputs": [
    {
     "name": "stdout",
     "output_type": "stream",
     "text": [
      "No Opt\n",
      "14.9 µs ± 0 ns per loop (mean ± std. dev. of 1 run, 100000 loops each)\n",
      "Cache Opt\n",
      "24.4 µs ± 0 ns per loop (mean ± std. dev. of 1 run, 10000 loops each)\n",
      "Reg Opt\n",
      "24.1 µs ± 0 ns per loop (mean ± std. dev. of 1 run, 10000 loops each)\n"
     ]
    }
   ],
   "source": [
    "test_size = 100\n",
    "test_opt( test_size )"
   ]
  },
  {
   "cell_type": "code",
   "execution_count": 7,
   "id": "879e39b0",
   "metadata": {},
   "outputs": [
    {
     "name": "stdout",
     "output_type": "stream",
     "text": [
      "No Opt\n",
      "345 ms ± 0 ns per loop (mean ± std. dev. of 1 run, 1 loop each)\n",
      "Cache Opt\n",
      "515 ms ± 0 ns per loop (mean ± std. dev. of 1 run, 1 loop each)\n",
      "Reg Opt\n",
      "461 ms ± 0 ns per loop (mean ± std. dev. of 1 run, 1 loop each)\n"
     ]
    }
   ],
   "source": [
    "test_size = 2097152\n",
    "test_opt( test_size )"
   ]
  },
  {
   "cell_type": "code",
   "execution_count": null,
   "id": "1895928f",
   "metadata": {},
   "outputs": [],
   "source": []
  }
 ],
 "metadata": {
  "kernelspec": {
   "display_name": "Python 3 (ipykernel)",
   "language": "python",
   "name": "python3"
  },
  "language_info": {
   "codemirror_mode": {
    "name": "ipython",
    "version": 3
   },
   "file_extension": ".py",
   "mimetype": "text/x-python",
   "name": "python",
   "nbconvert_exporter": "python",
   "pygments_lexer": "ipython3",
   "version": "3.9.13"
  }
 },
 "nbformat": 4,
 "nbformat_minor": 5
}
