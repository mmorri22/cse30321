{
 "cells": [
  {
   "cell_type": "markdown",
   "id": "6f422957",
   "metadata": {},
   "source": [
    "# Python Example for Loop Unrolling\n",
    "\n",
    "Performing the same task in Python that we did in C using Cache-Aware Optimization.\n",
    "\n",
    "> <b>Note:</b> This example is not meant to discourage Python programming! Python is robust and quite useful, which is why most CS majors enjoy it more. We will do Virtual Memory-Aware Programming later this semester so if you prefer Python, you can still apply your Computer Architecture knowledge to improve your Python code. This example is just meant to show that loop unrolling in Python provides significant benefits."
   ]
  },
  {
   "cell_type": "code",
   "execution_count": 1,
   "id": "6d44f39c",
   "metadata": {},
   "outputs": [],
   "source": [
    "def func( count, value ):\n",
    "    return count + value"
   ]
  },
  {
   "cell_type": "code",
   "execution_count": 2,
   "id": "fa50745f",
   "metadata": {},
   "outputs": [],
   "source": [
    "def no_opt( array_size, the_array ):\n",
    "    \n",
    "    sum_val = 0\n",
    "    \n",
    "    for count in range(0, 5):\n",
    "        \n",
    "        for idx in range(0, array_size):\n",
    "            \n",
    "            the_array[idx] = func( count, the_array[idx] )\n",
    "            sum_val += the_array[idx]"
   ]
  },
  {
   "cell_type": "code",
   "execution_count": 3,
   "id": "6001b82d",
   "metadata": {},
   "outputs": [],
   "source": [
    "def reg_opt( array_size, the_array ):\n",
    "    \n",
    "    sum_val = 0\n",
    "    \n",
    "    for idx in range(0, array_size):\n",
    "        \n",
    "        arr_idx = the_array[idx]\n",
    "        \n",
    "        for count in range(0, 5):\n",
    "            \n",
    "            arr_idx = func( count, arr_idx )\n",
    "            sum_val += arr_idx\n",
    "            \n",
    "        the_array[idx] = arr_idx"
   ]
  },
  {
   "cell_type": "code",
   "execution_count": 4,
   "id": "03b20b95",
   "metadata": {},
   "outputs": [],
   "source": [
    "def unroll_opt( array_size, the_array ):\n",
    "    \n",
    "    sum_val = 0\n",
    "    \n",
    "    for idx in range(0, array_size):\n",
    "        \n",
    "        arr_idx = the_array[idx]\n",
    "        \n",
    "        arr_idx = func( 0, arr_idx )\n",
    "        arr_idx = func( 1, arr_idx )\n",
    "        arr_idx = func( 2, arr_idx )\n",
    "        arr_idx = func( 3, arr_idx )\n",
    "        arr_idx = func( 4, arr_idx )\n",
    "        \n",
    "        the_array[idx] = arr_idx"
   ]
  },
  {
   "cell_type": "code",
   "execution_count": 5,
   "id": "cd7840b6",
   "metadata": {},
   "outputs": [],
   "source": [
    "def inline_opt( array_size, the_array ):\n",
    "    \n",
    "    sum_val = 0\n",
    "    \n",
    "    for idx in range(0, array_size):\n",
    "        \n",
    "        arr_idx = the_array[idx]\n",
    "        \n",
    "        arr_idx = 0 + arr_idx\n",
    "        arr_idx = 1 + arr_idx\n",
    "        arr_idx = 2 + arr_idx\n",
    "        arr_idx = 3 + arr_idx\n",
    "        arr_idx = 4 + arr_idx\n",
    "        \n",
    "        the_array[idx] = arr_idx"
   ]
  },
  {
   "cell_type": "code",
   "execution_count": 6,
   "id": "3e197872",
   "metadata": {},
   "outputs": [],
   "source": [
    "def test_opt( array_test_size ):\n",
    "    \n",
    "    the_array = [0] * array_test_size\n",
    "\n",
    "    print(\"No Opt\")\n",
    "    %timeit -r1 no_opt( array_test_size, the_array )\n",
    "    \n",
    "    print(\"Reg Opt\")\n",
    "    %timeit -r1 reg_opt( array_test_size, the_array )\n",
    "    \n",
    "    print(\"Unroll Opt\")\n",
    "    %timeit -r1 unroll_opt( array_test_size, the_array )\n",
    "    \n",
    "    print(\"Inline Opt\")\n",
    "    %timeit -r1 inline_opt( array_test_size, the_array )"
   ]
  },
  {
   "cell_type": "code",
   "execution_count": 7,
   "id": "8efd99f4",
   "metadata": {
    "scrolled": true
   },
   "outputs": [
    {
     "name": "stdout",
     "output_type": "stream",
     "text": [
      "No Opt\n",
      "478 µs ± 0 ns per loop (mean ± std. dev. of 1 run, 1000 loops each)\n",
      "Reg Opt\n",
      "471 µs ± 0 ns per loop (mean ± std. dev. of 1 run, 1000 loops each)\n",
      "Unroll Opt\n",
      "268 µs ± 0 ns per loop (mean ± std. dev. of 1 run, 1000 loops each)\n",
      "Inline Opt\n",
      "124 µs ± 0 ns per loop (mean ± std. dev. of 1 run, 10000 loops each)\n"
     ]
    }
   ],
   "source": [
    "test_size = 1024\n",
    "test_opt( test_size )"
   ]
  },
  {
   "cell_type": "code",
   "execution_count": 8,
   "id": "d690e199",
   "metadata": {},
   "outputs": [
    {
     "name": "stdout",
     "output_type": "stream",
     "text": [
      "No Opt\n",
      "976 µs ± 0 ns per loop (mean ± std. dev. of 1 run, 1000 loops each)\n",
      "Reg Opt\n",
      "963 µs ± 0 ns per loop (mean ± std. dev. of 1 run, 1000 loops each)\n",
      "Unroll Opt\n",
      "543 µs ± 0 ns per loop (mean ± std. dev. of 1 run, 1000 loops each)\n",
      "Inline Opt\n",
      "246 µs ± 0 ns per loop (mean ± std. dev. of 1 run, 1000 loops each)\n"
     ]
    }
   ],
   "source": [
    "test_size = 2048\n",
    "test_opt( test_size )"
   ]
  },
  {
   "cell_type": "code",
   "execution_count": 9,
   "id": "903ecb85",
   "metadata": {},
   "outputs": [
    {
     "name": "stdout",
     "output_type": "stream",
     "text": [
      "No Opt\n",
      "7.94 ms ± 0 ns per loop (mean ± std. dev. of 1 run, 100 loops each)\n",
      "Reg Opt\n",
      "7.58 ms ± 0 ns per loop (mean ± std. dev. of 1 run, 100 loops each)\n",
      "Unroll Opt\n",
      "4.23 ms ± 0 ns per loop (mean ± std. dev. of 1 run, 100 loops each)\n",
      "Inline Opt\n",
      "1.97 ms ± 0 ns per loop (mean ± std. dev. of 1 run, 1000 loops each)\n"
     ]
    }
   ],
   "source": [
    "test_size = 16384\n",
    "test_opt( test_size )"
   ]
  }
 ],
 "metadata": {
  "kernelspec": {
   "display_name": "Python 3 (ipykernel)",
   "language": "python",
   "name": "python3"
  },
  "language_info": {
   "codemirror_mode": {
    "name": "ipython",
    "version": 3
   },
   "file_extension": ".py",
   "mimetype": "text/x-python",
   "name": "python",
   "nbconvert_exporter": "python",
   "pygments_lexer": "ipython3",
   "version": "3.9.13"
  }
 },
 "nbformat": 4,
 "nbformat_minor": 5
}
