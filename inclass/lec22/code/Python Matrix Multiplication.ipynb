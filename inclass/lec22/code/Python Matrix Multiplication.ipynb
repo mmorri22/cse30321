{
 "cells": [
  {
   "cell_type": "markdown",
   "id": "a343d2d6",
   "metadata": {},
   "source": [
    "## Python Matrix Multiplication"
   ]
  },
  {
   "cell_type": "code",
   "execution_count": 1,
   "id": "839d2c08",
   "metadata": {},
   "outputs": [],
   "source": [
    "import time"
   ]
  },
  {
   "cell_type": "code",
   "execution_count": 2,
   "id": "072d9428",
   "metadata": {},
   "outputs": [],
   "source": [
    "# N is array size\n",
    "# c = a * b\n",
    "def dgemm_matrix( N, a_array, b_array, c_array ):  \n",
    "    for i in range(N):\n",
    "        for j in range(N):\n",
    "            c_array[i][j] = 0\n",
    "            for k in range(N):\n",
    "                c_array[i][j] += a_array[i][k] * b_array[k][j]  "
   ]
  },
  {
   "cell_type": "code",
   "execution_count": 3,
   "id": "6166ae45",
   "metadata": {},
   "outputs": [],
   "source": [
    "N = 4\n",
    "\n",
    "# a matrix:\n",
    "# 1 7 3 4\n",
    "# 2 1 8 5\n",
    "# 2 6 2 1\n",
    "# 4 3 4 7\n",
    "a_matrix = [[1,7,3,4],[2,1,8,5],[2,6,2,1],[4,3,4,7]]\n",
    "\n",
    "# b matrix\n",
    "# 1 2 3 4\n",
    "# 5 6 7 8\n",
    "# 9 0 1 2\n",
    "# 3 4 5 6\n",
    "b_matrix = [[1,2,3,4],[5,6,7,8],[9,0,1,2],[3,4,5,6]]\n",
    "\n",
    "# result matrix\n",
    "c_matrix = [[0 for x in range(N)] for y in range(N)] "
   ]
  },
  {
   "attachments": {
    "image-2.png": {
     "image/png": "[encoded data removed]"
    },
    "image.png": {
     "image/png": "[encoded data removed]"
    }
   },
   "cell_type": "markdown",
   "id": "8b831d85",
   "metadata": {},
   "source": [
    "### Expected Result\n",
    "\n",
    "![image.png](attachment:image.png)\n",
    "\n",
    "![image-2.png](attachment:image-2.png)"
   ]
  },
  {
   "cell_type": "code",
   "execution_count": 4,
   "id": "02b6d00e",
   "metadata": {},
   "outputs": [
    {
     "name": "stdout",
     "output_type": "stream",
     "text": [
      "DGEMM Matrix Timing\n",
      "9.44 µs ± 0 ns per loop (mean ± std. dev. of 1 run, 100000 loops each)\n"
     ]
    }
   ],
   "source": [
    "# Refresh results\n",
    "c_matrix = [[0 for x in range(N)] for y in range(N)] \n",
    "\n",
    "print(\"DGEMM Matrix Timing\")\n",
    "%timeit -r1 dgemm_matrix( N, a_matrix, b_matrix, c_matrix )"
   ]
  },
  {
   "cell_type": "code",
   "execution_count": 5,
   "id": "7160e99c",
   "metadata": {},
   "outputs": [],
   "source": [
    "def dgemm_matrix_reg( N, a_array, b_array, c_array ):  \n",
    "    for i in range(N):\n",
    "        for j in range(N):\n",
    "            cij = c_array[i][j]\n",
    "            for k in range(N):\n",
    "                cij += a_array[i][k] * b_array[k][j] \n",
    "            c_array[i][j] = cij"
   ]
  },
  {
   "cell_type": "code",
   "execution_count": 6,
   "id": "c0587ce6",
   "metadata": {},
   "outputs": [
    {
     "name": "stdout",
     "output_type": "stream",
     "text": [
      "[[75, 60, 75, 90], [94, 30, 46, 62], [53, 44, 55, 66], [76, 54, 72, 90]]\n"
     ]
    }
   ],
   "source": [
    "# Refresh results\n",
    "c_matrix = [[0 for x in range(N)] for y in range(N)] \n",
    "\n",
    "dgemm_matrix_reg( N, a_matrix, b_matrix, c_matrix )\n",
    "\n",
    "print( c_matrix )"
   ]
  },
  {
   "cell_type": "code",
   "execution_count": 7,
   "id": "0fc74290",
   "metadata": {
    "scrolled": true
   },
   "outputs": [
    {
     "name": "stdout",
     "output_type": "stream",
     "text": [
      "DGEMM Matrix Reg Opt Timing\n",
      "8.09 µs ± 0 ns per loop (mean ± std. dev. of 1 run, 100000 loops each)\n"
     ]
    }
   ],
   "source": [
    "# Refresh results\n",
    "c_matrix = [[0 for x in range(N)] for y in range(N)] \n",
    "\n",
    "print(\"DGEMM Matrix Reg Opt Timing\")\n",
    "%timeit -r1 dgemm_matrix_reg( N, a_matrix, b_matrix, c_matrix )"
   ]
  },
  {
   "cell_type": "markdown",
   "id": "e466f63e",
   "metadata": {},
   "source": [
    "Now we will implement the large array in Python for Jupyter Notebooks as well. Note how long it takes!"
   ]
  },
  {
   "cell_type": "code",
   "execution_count": 8,
   "id": "9590b0dc",
   "metadata": {},
   "outputs": [
    {
     "name": "stdout",
     "output_type": "stream",
     "text": [
      "Enter the matrix dimension:\n",
      "1024\n",
      "Time: Start =  1710374948.2950735 , End =  1710375589.9119775\n",
      "Total Time:  64161690.402030945 us\n"
     ]
    }
   ],
   "source": [
    "import numpy\n",
    "\n",
    "print('Enter the matrix dimension:')\n",
    "N = int(input())\n",
    "\n",
    "# a matrix:\n",
    "a_matrix = numpy.random.randn(N, N).astype(numpy.float32)\n",
    "b_matrix = numpy.random.randn(N, N).astype(numpy.float32)\n",
    "\n",
    "# result matrix\n",
    "c_matrix = [[0 for x in range(N)] for y in range(N)] \n",
    "\n",
    "start_time = time.time()\n",
    "dgemm_matrix_reg( N, a_matrix, b_matrix, c_matrix )\n",
    "end_time = time.time()\n",
    "\n",
    "# Total us\n",
    "total_time = (end_time - start_time) * 100000\n",
    "\n",
    "print(\"Time: Start = \",start_time, \", End = \", end_time)\n",
    "print(\"Total Time: \",total_time, \"us\")"
   ]
  }
 ],
 "metadata": {
  "kernelspec": {
   "display_name": "Python 3 (ipykernel)",
   "language": "python",
   "name": "python3"
  },
  "language_info": {
   "codemirror_mode": {
    "name": "ipython",
    "version": 3
   },
   "file_extension": ".py",
   "mimetype": "text/x-python",
   "name": "python",
   "nbconvert_exporter": "python",
   "pygments_lexer": "ipython3",
   "version": "3.9.13"
  }
 },
 "nbformat": 4,
 "nbformat_minor": 5
}
