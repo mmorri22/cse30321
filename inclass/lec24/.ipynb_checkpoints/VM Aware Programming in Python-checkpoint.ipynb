{
 "cells": [
  {
   "cell_type": "markdown",
   "id": "6f422957",
   "metadata": {},
   "source": [
    "# VM Aware Programming in Python\n",
    "\n",
    "> Sources: Materials from the following write-ups were modified for this in-class example:<br>\n",
    "> 1: <a href = \"https://www.codementor.io/@satwikkansal/python-practices-for-efficient-code-performance-memory-and-usability-aze6oiq65\">Python Practices for Efficient Code: Performance, Memory, and Usability</a><br>\n",
    "> 2. <a href = \"https://realpython.com/python-memory-management/\">Python Memory Management</a>"
   ]
  },
  {
   "cell_type": "markdown",
   "id": "eba7e2a4",
   "metadata": {},
   "source": [
    "### Revisiting Loop Unrolling and Registers\n",
    "\n",
    "Because Python uses an interpreter to obfuscate the memory management, some of our techniques will not improve performance. However, other techniques will!"
   ]
  },
  {
   "cell_type": "code",
   "execution_count": 3,
   "id": "6d44f39c",
   "metadata": {},
   "outputs": [],
   "source": [
    "def func( count, value ):\n",
    "    return count + value"
   ]
  },
  {
   "cell_type": "code",
   "execution_count": 4,
   "id": "fa50745f",
   "metadata": {},
   "outputs": [],
   "source": [
    "def no_opt( array_size, the_array ):\n",
    "    \n",
    "    sum_val = 0\n",
    "    \n",
    "    for idx in range(0, array_size):\n",
    "        \n",
    "        for count in range(0, 5):\n",
    "            \n",
    "            the_array[idx] = func( count, the_array[idx] )\n",
    "            sum_val += the_array[idx]"
   ]
  },
  {
   "cell_type": "markdown",
   "id": "977a7675",
   "metadata": {},
   "source": [
    "Because the interpreter compiles to the machine for us, optimizations that work in C or C++ - such as intermediate register - have little impact on computing performance in Python."
   ]
  },
  {
   "cell_type": "code",
   "execution_count": 5,
   "id": "6001b82d",
   "metadata": {},
   "outputs": [],
   "source": [
    "def reg_opt( array_size, the_array ):\n",
    "    \n",
    "    sum_val = 0\n",
    "    \n",
    "    for idx in range(0, array_size):\n",
    "        \n",
    "        arr_idx = the_array[idx]\n",
    "        \n",
    "        for count in range(0, 5):\n",
    "            \n",
    "            arr_idx = func( count, arr_idx )\n",
    "            sum_val += arr_idx\n",
    "            \n",
    "        the_array[idx] = arr_idx"
   ]
  },
  {
   "cell_type": "markdown",
   "id": "c204e007",
   "metadata": {},
   "source": [
    "Howeever, since the Python interpreter still needs to interact with instructions across multiple cache blocks or pages, techniques such as loop unrolling do have a measurable impact because of the reduction of branch prediction misses."
   ]
  },
  {
   "cell_type": "code",
   "execution_count": 6,
   "id": "03b20b95",
   "metadata": {},
   "outputs": [],
   "source": [
    "def unroll_opt( array_size, the_array ):\n",
    "    \n",
    "    sum_val = 0\n",
    "    \n",
    "    for idx in range(0, array_size):\n",
    "        \n",
    "        arr_idx = the_array[idx]\n",
    "        \n",
    "        arr_idx = func( 0, arr_idx )\n",
    "        arr_idx = func( 1, arr_idx )\n",
    "        arr_idx = func( 2, arr_idx )\n",
    "        arr_idx = func( 3, arr_idx )\n",
    "        arr_idx = func( 4, arr_idx )\n",
    "        \n",
    "        the_array[idx] = arr_idx"
   ]
  },
  {
   "cell_type": "markdown",
   "id": "d8d02b60",
   "metadata": {},
   "source": [
    "Python's interpreter does not utilize preprocessing, so there are no explicit modules. However, you will be able to observe that writing a macro equivelent (such as re-writing the code instead of calling the function.)\n",
    "\n",
    "> Note: When writing Python code in industry, be sure to adhere to your company's standards. Modularity and code cleanliness are important, especially if they do not mind a performance tradeoff. However, if they do need improved performance, you have another tool in your toolkit."
   ]
  },
  {
   "cell_type": "code",
   "execution_count": 7,
   "id": "cd7840b6",
   "metadata": {},
   "outputs": [],
   "source": [
    "def macro_equiv_opt( array_size, the_array ):\n",
    "    \n",
    "    sum_val = 0\n",
    "    \n",
    "    for idx in range(0, array_size):\n",
    "        \n",
    "        arr_idx = the_array[idx]\n",
    "        \n",
    "        arr_idx = 0 + arr_idx\n",
    "        arr_idx = 1 + arr_idx\n",
    "        arr_idx = 2 + arr_idx\n",
    "        arr_idx = 3 + arr_idx\n",
    "        arr_idx = 4 + arr_idx\n",
    "        \n",
    "        the_array[idx] = arr_idx"
   ]
  },
  {
   "cell_type": "code",
   "execution_count": 8,
   "id": "3e197872",
   "metadata": {},
   "outputs": [],
   "source": [
    "def test_opt( array_test_size ):\n",
    "    \n",
    "    the_array = [0] * array_test_size\n",
    "\n",
    "    print(\"No Opt\")\n",
    "    %timeit -r1 no_opt( array_test_size, the_array )\n",
    "    \n",
    "    print(\"Reg Opt\")\n",
    "    %timeit -r1 reg_opt( array_test_size, the_array )\n",
    "    \n",
    "    print(\"Unroll Opt\")\n",
    "    %timeit -r1 unroll_opt( array_test_size, the_array )\n",
    "    \n",
    "    print(\"Macro Equivalent Opt\")\n",
    "    %timeit -r1 macro_equiv_opt( array_test_size, the_array )"
   ]
  },
  {
   "cell_type": "code",
   "execution_count": 9,
   "id": "8efd99f4",
   "metadata": {
    "scrolled": true
   },
   "outputs": [
    {
     "name": "stdout",
     "output_type": "stream",
     "text": [
      "No Opt\n",
      "971 µs ± 0 ns per loop (mean ± std. dev. of 1 run, 1000 loops each)\n",
      "Reg Opt\n",
      "800 µs ± 0 ns per loop (mean ± std. dev. of 1 run, 1000 loops each)\n",
      "Unroll Opt\n",
      "473 µs ± 0 ns per loop (mean ± std. dev. of 1 run, 1000 loops each)\n",
      "Macro Equivalent Opt\n",
      "209 µs ± 0 ns per loop (mean ± std. dev. of 1 run, 1000 loops each)\n"
     ]
    }
   ],
   "source": [
    "test_size = 1024\n",
    "test_opt( test_size )"
   ]
  },
  {
   "cell_type": "code",
   "execution_count": 10,
   "id": "d690e199",
   "metadata": {},
   "outputs": [
    {
     "name": "stdout",
     "output_type": "stream",
     "text": [
      "No Opt\n",
      "1.93 ms ± 0 ns per loop (mean ± std. dev. of 1 run, 1000 loops each)\n",
      "Reg Opt\n",
      "1.61 ms ± 0 ns per loop (mean ± std. dev. of 1 run, 1000 loops each)\n",
      "Unroll Opt\n",
      "944 µs ± 0 ns per loop (mean ± std. dev. of 1 run, 1000 loops each)\n",
      "Macro Equivalent Opt\n",
      "418 µs ± 0 ns per loop (mean ± std. dev. of 1 run, 1000 loops each)\n"
     ]
    }
   ],
   "source": [
    "test_size = 2048\n",
    "test_opt( test_size )"
   ]
  },
  {
   "cell_type": "code",
   "execution_count": 11,
   "id": "903ecb85",
   "metadata": {
    "scrolled": false
   },
   "outputs": [
    {
     "name": "stdout",
     "output_type": "stream",
     "text": [
      "No Opt\n",
      "15.6 ms ± 0 ns per loop (mean ± std. dev. of 1 run, 100 loops each)\n",
      "Reg Opt\n",
      "12.8 ms ± 0 ns per loop (mean ± std. dev. of 1 run, 100 loops each)\n",
      "Unroll Opt\n",
      "7.56 ms ± 0 ns per loop (mean ± std. dev. of 1 run, 100 loops each)\n",
      "Macro Equivalent Opt\n",
      "3.49 ms ± 0 ns per loop (mean ± std. dev. of 1 run, 100 loops each)\n"
     ]
    }
   ],
   "source": [
    "test_size = 16384\n",
    "test_opt( test_size )"
   ]
  },
  {
   "cell_type": "markdown",
   "id": "9f35be45",
   "metadata": {},
   "source": [
    "# Python Memory Management\n",
    "\n",
    "Python is an <b>interpreted programming language</b>. Your Python code actually gets compiled down to more computer-readable instructions called <b>bytecode</b>. These instructions get interpreted by a virtual machine when you run your code.\n",
    "\n",
    "> Have you ever seen a <code>.pyc</code> file or a <code>__pycache__</code> folder? That’s the bytecode that gets interpreted by the virtual machine. Let's generate some disassembled Bytecode!"
   ]
  },
  {
   "cell_type": "code",
   "execution_count": 18,
   "id": "3f1a62df",
   "metadata": {},
   "outputs": [],
   "source": [
    "def simple():\n",
    "    x = int(input(\"x? \"))\n",
    "    y = int(input(\"y? \"))\n",
    "\n",
    "    print(x + y)"
   ]
  },
  {
   "cell_type": "code",
   "execution_count": 19,
   "id": "3d3dc0d6",
   "metadata": {},
   "outputs": [],
   "source": [
    "# Next, we will import the dis library, which will help us view the assembly code\n",
    "import dis"
   ]
  },
  {
   "cell_type": "code",
   "execution_count": 20,
   "id": "57e501e7",
   "metadata": {},
   "outputs": [
    {
     "name": "stdout",
     "output_type": "stream",
     "text": [
      "x? 100\n",
      "y? 25\n",
      "125\n"
     ]
    }
   ],
   "source": [
    "# Run example\n",
    "simple()"
   ]
  },
  {
   "cell_type": "code",
   "execution_count": 21,
   "id": "49a5f1bc",
   "metadata": {},
   "outputs": [
    {
     "name": "stdout",
     "output_type": "stream",
     "text": [
      "  2           0 LOAD_GLOBAL              0 (int)\n",
      "              2 LOAD_GLOBAL              1 (input)\n",
      "              4 LOAD_CONST               1 ('x? ')\n",
      "              6 CALL_FUNCTION            1\n",
      "              8 CALL_FUNCTION            1\n",
      "             10 STORE_FAST               0 (x)\n",
      "\n",
      "  3          12 LOAD_GLOBAL              0 (int)\n",
      "             14 LOAD_GLOBAL              1 (input)\n",
      "             16 LOAD_CONST               2 ('y? ')\n",
      "             18 CALL_FUNCTION            1\n",
      "             20 CALL_FUNCTION            1\n",
      "             22 STORE_FAST               1 (y)\n",
      "\n",
      "  5          24 LOAD_GLOBAL              2 (print)\n",
      "             26 LOAD_FAST                0 (x)\n",
      "             28 LOAD_FAST                1 (y)\n",
      "             30 BINARY_ADD\n",
      "             32 CALL_FUNCTION            1\n",
      "             34 POP_TOP\n",
      "             36 LOAD_CONST               0 (None)\n",
      "             38 RETURN_VALUE\n"
     ]
    }
   ],
   "source": [
    "# By passing simple to a dis function, we can see how the compiler will organize it\n",
    "# Functions are put in cache and then are cleared when done (like cramming for an exam)\n",
    "dis.dis(simple)"
   ]
  },
  {
   "cell_type": "code",
   "execution_count": 27,
   "id": "7eec3a8b",
   "metadata": {
    "scrolled": true
   },
   "outputs": [
    {
     "name": "stdout",
     "output_type": "stream",
     "text": [
      "Instruction(opname='LOAD_GLOBAL', opcode=116, arg=0, argval='int', argrepr='int', offset=0, starts_line=2, is_jump_target=False)\n",
      "Instruction(opname='LOAD_GLOBAL', opcode=116, arg=1, argval='input', argrepr='input', offset=2, starts_line=None, is_jump_target=False)\n",
      "Instruction(opname='LOAD_CONST', opcode=100, arg=1, argval='x? ', argrepr=\"'x? '\", offset=4, starts_line=None, is_jump_target=False)\n",
      "Instruction(opname='CALL_FUNCTION', opcode=131, arg=1, argval=1, argrepr='', offset=6, starts_line=None, is_jump_target=False)\n",
      "Instruction(opname='CALL_FUNCTION', opcode=131, arg=1, argval=1, argrepr='', offset=8, starts_line=None, is_jump_target=False)\n",
      "Instruction(opname='STORE_FAST', opcode=125, arg=0, argval='x', argrepr='x', offset=10, starts_line=None, is_jump_target=False)\n",
      "Instruction(opname='LOAD_GLOBAL', opcode=116, arg=0, argval='int', argrepr='int', offset=12, starts_line=3, is_jump_target=False)\n",
      "Instruction(opname='LOAD_GLOBAL', opcode=116, arg=1, argval='input', argrepr='input', offset=14, starts_line=None, is_jump_target=False)\n",
      "Instruction(opname='LOAD_CONST', opcode=100, arg=2, argval='y? ', argrepr=\"'y? '\", offset=16, starts_line=None, is_jump_target=False)\n",
      "Instruction(opname='CALL_FUNCTION', opcode=131, arg=1, argval=1, argrepr='', offset=18, starts_line=None, is_jump_target=False)\n",
      "Instruction(opname='CALL_FUNCTION', opcode=131, arg=1, argval=1, argrepr='', offset=20, starts_line=None, is_jump_target=False)\n",
      "Instruction(opname='STORE_FAST', opcode=125, arg=1, argval='y', argrepr='y', offset=22, starts_line=None, is_jump_target=False)\n",
      "Instruction(opname='LOAD_GLOBAL', opcode=116, arg=2, argval='print', argrepr='print', offset=24, starts_line=5, is_jump_target=False)\n",
      "Instruction(opname='LOAD_FAST', opcode=124, arg=0, argval='x', argrepr='x', offset=26, starts_line=None, is_jump_target=False)\n",
      "Instruction(opname='LOAD_FAST', opcode=124, arg=1, argval='y', argrepr='y', offset=28, starts_line=None, is_jump_target=False)\n",
      "Instruction(opname='BINARY_ADD', opcode=23, arg=None, argval=None, argrepr='', offset=30, starts_line=None, is_jump_target=False)\n",
      "Instruction(opname='CALL_FUNCTION', opcode=131, arg=1, argval=1, argrepr='', offset=32, starts_line=None, is_jump_target=False)\n",
      "Instruction(opname='POP_TOP', opcode=1, arg=None, argval=None, argrepr='', offset=34, starts_line=None, is_jump_target=False)\n",
      "Instruction(opname='LOAD_CONST', opcode=100, arg=0, argval=None, argrepr='None', offset=36, starts_line=None, is_jump_target=False)\n",
      "Instruction(opname='RETURN_VALUE', opcode=83, arg=None, argval=None, argrepr='', offset=38, starts_line=None, is_jump_target=False)\n"
     ]
    }
   ],
   "source": [
    "bytecode = dis.Bytecode(simple)\n",
    "for instr in bytecode:\n",
    "    print(instr)"
   ]
  },
  {
   "cell_type": "markdown",
   "id": "a3094f5c",
   "metadata": {},
   "source": [
    "## Back to CPython Memory Management\n",
    "\n",
    "The memory management algorithms and structures exist in the CPython code, in C."
   ]
  }
 ],
 "metadata": {
  "kernelspec": {
   "display_name": "Python 3 (ipykernel)",
   "language": "python",
   "name": "python3"
  },
  "language_info": {
   "codemirror_mode": {
    "name": "ipython",
    "version": 3
   },
   "file_extension": ".py",
   "mimetype": "text/x-python",
   "name": "python",
   "nbconvert_exporter": "python",
   "pygments_lexer": "ipython3",
   "version": "3.9.13"
  }
 },
 "nbformat": 4,
 "nbformat_minor": 5
}
