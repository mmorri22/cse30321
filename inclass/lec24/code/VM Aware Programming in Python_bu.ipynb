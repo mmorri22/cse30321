{
 "cells": [
  {
   "cell_type": "markdown",
   "id": "6f422957",
   "metadata": {},
   "source": [
    "# VM Aware Programming in Python\n",
    "\n",
    "> Sources: Materials from the following write-ups were modified for this in-class example:<br>\n",
    "> 1: <a href = \"https://www.codementor.io/@satwikkansal/python-practices-for-efficient-code-performance-memory-and-usability-aze6oiq65\">Python Practices for Efficient Code: Performance, Memory, and Usability</a><br>\n",
    "> 2. <a href = \"https://heather.cs.ucdavis.edu/matloff/public_html/Python/PyIterGen.pdf\">Tutorial on Python Iterators and Generators</a><br>\n",
    "> 3. <a href = \"https://medium.com/learning-better-ways-of-interpretting-and-using/python-generators-memory-efficient-programming-tool-41f09077353c\">Python Generators: Memory-efficient programming tool</a><br>\n",
    "> 4. <a href = \"https://realpython.com/python-gil/\">What Is the Python Global Interpreter Lock (GIL)?</a>"
   ]
  },
  {
   "cell_type": "markdown",
   "id": "3d60414c",
   "metadata": {},
   "source": [
    "### Revisiting Loop Unrolling and Registers\n",
    "\n",
    "Because Python uses an interpreter to obfuscate the memory management, some of our techniques will not improve performance. However, other techniques will!"
   ]
  },
  {
   "cell_type": "code",
   "execution_count": 3,
   "id": "6d44f39c",
   "metadata": {},
   "outputs": [],
   "source": [
    "def func( count, value ):\n",
    "    return count + value"
   ]
  },
  {
   "cell_type": "code",
   "execution_count": 4,
   "id": "fa50745f",
   "metadata": {},
   "outputs": [],
   "source": [
    "def no_opt( array_size, the_array ):\n",
    "    \n",
    "    sum_val = 0\n",
    "    \n",
    "    for idx in range(0, array_size):\n",
    "        \n",
    "        for count in range(0, 5):\n",
    "            \n",
    "            the_array[idx] = func( count, the_array[idx] )\n",
    "            sum_val += the_array[idx]"
   ]
  },
  {
   "cell_type": "markdown",
   "id": "ae0a69c2",
   "metadata": {},
   "source": [
    "Because the interpreter compiles to the machine for us, optimizations that work in C or C++ - such as intermediate register - have little impact on computing performance in Python."
   ]
  },
  {
   "cell_type": "code",
   "execution_count": 5,
   "id": "6001b82d",
   "metadata": {},
   "outputs": [],
   "source": [
    "def reg_opt( array_size, the_array ):\n",
    "    \n",
    "    sum_val = 0\n",
    "    \n",
    "    for idx in range(0, array_size):\n",
    "        \n",
    "        arr_idx = the_array[idx]\n",
    "        \n",
    "        for count in range(0, 5):\n",
    "            \n",
    "            arr_idx = func( count, arr_idx )\n",
    "            sum_val += arr_idx\n",
    "            \n",
    "        the_array[idx] = arr_idx"
   ]
  },
  {
   "cell_type": "markdown",
   "id": "e6e62a5f",
   "metadata": {},
   "source": [
    "Howeever, since the Python interpreter still needs to interact with instructions across multiple cache blocks or pages, techniques such as loop unrolling do have a measurable impact because of the reduction of branch prediction misses."
   ]
  },
  {
   "cell_type": "code",
   "execution_count": 6,
   "id": "03b20b95",
   "metadata": {},
   "outputs": [],
   "source": [
    "def unroll_opt( array_size, the_array ):\n",
    "    \n",
    "    sum_val = 0\n",
    "    \n",
    "    for idx in range(0, array_size):\n",
    "        \n",
    "        arr_idx = the_array[idx]\n",
    "        \n",
    "        arr_idx = func( 0, arr_idx )\n",
    "        arr_idx = func( 1, arr_idx )\n",
    "        arr_idx = func( 2, arr_idx )\n",
    "        arr_idx = func( 3, arr_idx )\n",
    "        arr_idx = func( 4, arr_idx )\n",
    "        \n",
    "        the_array[idx] = arr_idx"
   ]
  },
  {
   "cell_type": "markdown",
   "id": "d6b5c583",
   "metadata": {},
   "source": [
    "Python's interpreter does not utilize preprocessing, so there are no explicit modules. However, you will be able to observe that writing a macro equivelent (such as re-writing the code instead of calling the function.)\n",
    "\n",
    "> Note: When writing Python code in industry, be sure to adhere to your company's standards. Modularity and code cleanliness are important, especially if they do not mind a performance tradeoff. However, if they do need improved performance, you have another tool in your toolkit."
   ]
  },
  {
   "cell_type": "code",
   "execution_count": 7,
   "id": "cd7840b6",
   "metadata": {},
   "outputs": [],
   "source": [
    "def macro_equiv_opt( array_size, the_array ):\n",
    "    \n",
    "    sum_val = 0\n",
    "    \n",
    "    for idx in range(0, array_size):\n",
    "        \n",
    "        arr_idx = the_array[idx]\n",
    "        \n",
    "        arr_idx = 0 + arr_idx\n",
    "        arr_idx = 1 + arr_idx\n",
    "        arr_idx = 2 + arr_idx\n",
    "        arr_idx = 3 + arr_idx\n",
    "        arr_idx = 4 + arr_idx\n",
    "        \n",
    "        the_array[idx] = arr_idx"
   ]
  },
  {
   "cell_type": "code",
   "execution_count": 8,
   "id": "3e197872",
   "metadata": {},
   "outputs": [],
   "source": [
    "def test_opt( array_test_size ):\n",
    "    \n",
    "    the_array = [0] * array_test_size\n",
    "\n",
    "    print(\"No Opt\")\n",
    "    %timeit -r1 no_opt( array_test_size, the_array )\n",
    "    \n",
    "    print(\"Reg Opt\")\n",
    "    %timeit -r1 reg_opt( array_test_size, the_array )\n",
    "    \n",
    "    print(\"Unroll Opt\")\n",
    "    %timeit -r1 unroll_opt( array_test_size, the_array )\n",
    "    \n",
    "    print(\"Macro Equivalent Opt\")\n",
    "    %timeit -r1 macro_equiv_opt( array_test_size, the_array )"
   ]
  },
  {
   "cell_type": "code",
   "execution_count": 9,
   "id": "8efd99f4",
   "metadata": {
    "scrolled": true
   },
   "outputs": [
    {
     "name": "stdout",
     "output_type": "stream",
     "text": [
      "No Opt\n",
      "971 µs ± 0 ns per loop (mean ± std. dev. of 1 run, 1000 loops each)\n",
      "Reg Opt\n",
      "800 µs ± 0 ns per loop (mean ± std. dev. of 1 run, 1000 loops each)\n",
      "Unroll Opt\n",
      "473 µs ± 0 ns per loop (mean ± std. dev. of 1 run, 1000 loops each)\n",
      "Macro Equivalent Opt\n",
      "209 µs ± 0 ns per loop (mean ± std. dev. of 1 run, 1000 loops each)\n"
     ]
    }
   ],
   "source": [
    "test_size = 1024\n",
    "test_opt( test_size )"
   ]
  },
  {
   "cell_type": "code",
   "execution_count": 10,
   "id": "d690e199",
   "metadata": {},
   "outputs": [
    {
     "name": "stdout",
     "output_type": "stream",
     "text": [
      "No Opt\n",
      "1.93 ms ± 0 ns per loop (mean ± std. dev. of 1 run, 1000 loops each)\n",
      "Reg Opt\n",
      "1.61 ms ± 0 ns per loop (mean ± std. dev. of 1 run, 1000 loops each)\n",
      "Unroll Opt\n",
      "944 µs ± 0 ns per loop (mean ± std. dev. of 1 run, 1000 loops each)\n",
      "Macro Equivalent Opt\n",
      "418 µs ± 0 ns per loop (mean ± std. dev. of 1 run, 1000 loops each)\n"
     ]
    }
   ],
   "source": [
    "test_size = 2048\n",
    "test_opt( test_size )"
   ]
  },
  {
   "cell_type": "code",
   "execution_count": 11,
   "id": "903ecb85",
   "metadata": {
    "scrolled": true
   },
   "outputs": [
    {
     "name": "stdout",
     "output_type": "stream",
     "text": [
      "No Opt\n",
      "15.6 ms ± 0 ns per loop (mean ± std. dev. of 1 run, 100 loops each)\n",
      "Reg Opt\n",
      "12.8 ms ± 0 ns per loop (mean ± std. dev. of 1 run, 100 loops each)\n",
      "Unroll Opt\n",
      "7.56 ms ± 0 ns per loop (mean ± std. dev. of 1 run, 100 loops each)\n",
      "Macro Equivalent Opt\n",
      "3.49 ms ± 0 ns per loop (mean ± std. dev. of 1 run, 100 loops each)\n"
     ]
    }
   ],
   "source": [
    "test_size = 16384\n",
    "test_opt( test_size )"
   ]
  },
  {
   "cell_type": "markdown",
   "id": "33db1068",
   "metadata": {},
   "source": [
    "## Generators\n",
    "\n",
    "A Python <b>generator</b> is a function which returns a generator iterator (just an object we can iterate over) by calling <code>yield</code>.\n",
    "\n",
    "Generators are a <b>memory-efficient approach</b> of processing huge datasets. They process the data incrementally and do not allocate memory to all the results at the same time. Generators are beneficial for implementing data science pipelines for huge datasets in a resource-constrained environment (in terms of RAM). \n",
    "\n",
    "Thus, generators become an effective tool to improve the <b>scalability</b> of a program and make it more responsive to user requests.\n",
    "\n",
    "Python uses Iterator objects to go over are programming objects that follow the Iteration Protocol. Every Python object in the underlying CPython interpreter uses the <code>Py_ssize_t ob_refcnt</code> member for <code>PyObject</code> keeps track of the number of references that point to the object.\n",
    "\n",
    "Let’s take a look at a brief code example to demonstrate how reference counting works:"
   ]
  },
  {
   "cell_type": "code",
   "execution_count": 10,
   "id": "51c1c224",
   "metadata": {},
   "outputs": [
    {
     "data": {
      "text/plain": [
       "3"
      ]
     },
     "execution_count": 10,
     "metadata": {},
     "output_type": "execute_result"
    }
   ],
   "source": [
    "import sys\n",
    "\n",
    "a = []\n",
    "b = a\n",
    "sys.getrefcount(a)"
   ]
  },
  {
   "cell_type": "markdown",
   "id": "f031910e",
   "metadata": {},
   "source": [
    "The list object was referenced by \n",
    "<ol>\n",
    "    <li>a</li>\n",
    "    <li>b</li> \n",
    "    <li>the argument passed to <code>sys.getrefcount(a)</code></li>\n",
    "</ol>\n",
    "\n",
    "We now know that the argument passed to <code>sys.getrefcount(a)</code> is a different register since it is copied to an argument register. \n",
    "\n",
    "> This is an example of why we were careful to clear all registers <b>the moment they go out of scope</b> when we were learning assembly, because otherwise a tool like the Python interpreter would quickly run out of memory. When we would clear a variable using <code>add x19, x0, x0</code>, the Python interpreter would also decrement <code>ob_refcnt</code> so the OS knows that the register may be used again! Without this programming fundamental skill, Python would <b>not be possible</b>."
   ]
  },
  {
   "cell_type": "markdown",
   "id": "a115b21a",
   "metadata": {},
   "source": [
    "### Complexity of Programming Iterators and Generators as a Solution \n",
    "\n",
    "When we are defining custom-made iterators, we are forced to write a complex code as shown below. In the example below, we have tried to create a simple class called Counter that acts as a countdown machine."
   ]
  },
  {
   "cell_type": "code",
   "execution_count": 11,
   "id": "fcbebcd6",
   "metadata": {},
   "outputs": [],
   "source": [
    "import time\n",
    "\n",
    "class Counter:\n",
    "    \n",
    "    #defining a class which is defined with a maximum count\n",
    "    def __init__(self, max_limit):\n",
    "        self.number = max_limit\n",
    "        \n",
    "    # Iter function that returns itself\n",
    "    def __iter__(self):\n",
    "        return self\n",
    "    \n",
    "    # next function that is used to define the functionality of an iterator\n",
    "    def __next__(self):\n",
    "        \n",
    "        if self.number == 0:\n",
    "            print(\"End of Class Counter\")\n",
    "            raise StopIteration   # We will discuss the purpose of StopIteration soon\n",
    "        \n",
    "        else:\n",
    "            time.sleep(1)\n",
    "            print(self.number)\n",
    "            self.number -= 1\n",
    "            return self.__next__()"
   ]
  },
  {
   "cell_type": "markdown",
   "id": "95e5ef1f",
   "metadata": {},
   "source": [
    "Once we have defined this class, we have to instantiate it and iterate through it using a for loop. (Doesn’t it look horribly cumbersome?)"
   ]
  },
  {
   "cell_type": "code",
   "execution_count": 12,
   "id": "ef675001",
   "metadata": {
    "scrolled": true
   },
   "outputs": [
    {
     "name": "stdout",
     "output_type": "stream",
     "text": [
      "10\n",
      "9\n",
      "8\n",
      "7\n",
      "6\n",
      "5\n",
      "4\n",
      "3\n",
      "2\n",
      "1\n",
      "End of Class Counter\n"
     ]
    }
   ],
   "source": [
    "c = Counter(10)\n",
    "\n",
    "for x in c:\n",
    "    print(x)"
   ]
  },
  {
   "cell_type": "markdown",
   "id": "b6f29062",
   "metadata": {},
   "source": [
    "### Coroutines and Subroutines\n",
    "\n",
    "When we call a normal Python function, execution starts at function's first line and continues until a <code>return</code> statement, <code>exception</code>, or the end of the function (which is seen as an implicit <code>return None</code>) is encountered.\n",
    "\n",
    "There are times, though, when it's beneficial to have the ability to create a \"function\" which, instead of simply returning a single value, is able to yield a series of values. To do so, such a function would need to be able to \"save its work,\" so to speak.\n",
    "\n",
    "When a <b>generator</b> function calls <code>yield</code>, the \"state\" of the generator function is frozen; the values of all variables are saved and the next line of code to be executed is recorded until <code>next()</code> is called again."
   ]
  },
  {
   "cell_type": "code",
   "execution_count": 13,
   "id": "bd3eafc8",
   "metadata": {},
   "outputs": [
    {
     "data": {
      "text/plain": [
       "3"
      ]
     },
     "execution_count": 13,
     "metadata": {},
     "output_type": "execute_result"
    }
   ],
   "source": [
    "def simple_generator_function():\n",
    "    yield 1\n",
    "    yield 2\n",
    "    yield 3\n",
    "    \n",
    "our_generator = simple_generator_function()\n",
    "\n",
    "next(our_generator)\n",
    "\n",
    "next(our_generator)\n",
    "\n",
    "next(our_generator)"
   ]
  },
  {
   "cell_type": "code",
   "execution_count": 14,
   "id": "1b83c8a2",
   "metadata": {
    "scrolled": false
   },
   "outputs": [
    {
     "ename": "StopIteration",
     "evalue": "",
     "output_type": "error",
     "traceback": [
      "\u001b[1;31m---------------------------------------------------------------------------\u001b[0m",
      "\u001b[1;31mStopIteration\u001b[0m                             Traceback (most recent call last)",
      "\u001b[1;32m~\\AppData\\Local\\Temp\\ipykernel_24532\\3058719512.py\u001b[0m in \u001b[0;36m<module>\u001b[1;34m\u001b[0m\n\u001b[0;32m      1\u001b[0m \u001b[1;31m# What happens we call next a fourth time?\u001b[0m\u001b[1;33m\u001b[0m\u001b[1;33m\u001b[0m\u001b[0m\n\u001b[0;32m      2\u001b[0m \u001b[1;33m\u001b[0m\u001b[0m\n\u001b[1;32m----> 3\u001b[1;33m \u001b[0mnext\u001b[0m\u001b[1;33m(\u001b[0m\u001b[0mour_generator\u001b[0m\u001b[1;33m)\u001b[0m\u001b[1;33m\u001b[0m\u001b[1;33m\u001b[0m\u001b[0m\n\u001b[0m",
      "\u001b[1;31mStopIteration\u001b[0m: "
     ]
    }
   ],
   "source": [
    "# What happens we call next a fourth time?\n",
    "\n",
    "next(our_generator)"
   ]
  },
  {
   "cell_type": "markdown",
   "id": "5eab6bf7",
   "metadata": {},
   "source": [
    "### For loop for accessing the Generator\n",
    "\n",
    "Another solution is to use try/except with the <code>StopIteration</code> in order to prevent error messages"
   ]
  },
  {
   "cell_type": "code",
   "execution_count": 15,
   "id": "9ff97aa9",
   "metadata": {},
   "outputs": [
    {
     "name": "stdout",
     "output_type": "stream",
     "text": [
      "1\n",
      "2\n",
      "3\n"
     ]
    }
   ],
   "source": [
    "for value in simple_generator_function():\n",
    "    print(value)"
   ]
  },
  {
   "cell_type": "markdown",
   "id": "6bdefa4b",
   "metadata": {},
   "source": [
    "### Using StopIterator\n",
    "\n",
    "Another solution is to use try/except with the <code>StopIteration</code> in order to prevent error messages"
   ]
  },
  {
   "cell_type": "code",
   "execution_count": 16,
   "id": "0d184f8c",
   "metadata": {},
   "outputs": [
    {
     "name": "stdout",
     "output_type": "stream",
     "text": [
      "1\n",
      "2\n",
      "3\n"
     ]
    }
   ],
   "source": [
    "our_generator = simple_generator_function()\n",
    "\n",
    "while True:\n",
    "    try:\n",
    "        print( next(our_generator) )\n",
    "\n",
    "    except StopIteration:\n",
    "        break"
   ]
  },
  {
   "cell_type": "code",
   "execution_count": null,
   "id": "1c28962f",
   "metadata": {
    "scrolled": true
   },
   "outputs": [],
   "source": [
    "# Multiple Yield statements with thesame variable\n",
    "\n",
    "def multi_yield():\n",
    "    yield_str = \"This will print the first string\"\n",
    "    yield yield_str\n",
    "    yield_str = \"This will print the second string\"\n",
    "    yield yield_str\n",
    "    \n",
    "multi_obj = multi_yield()\n",
    "\n",
    "while True:\n",
    "    try:\n",
    "        print(next(multi_obj))\n",
    "\n",
    "    except StopIteration:\n",
    "        break"
   ]
  },
  {
   "cell_type": "markdown",
   "id": "c8980bbf",
   "metadata": {},
   "source": [
    "### Revising the Counter Example\n",
    "\n",
    "Doesn't this look much simpler?"
   ]
  },
  {
   "cell_type": "code",
   "execution_count": null,
   "id": "e19d05ef",
   "metadata": {},
   "outputs": [],
   "source": [
    "def Counter(limit):\n",
    "    n = limit\n",
    "    \n",
    "    while n > 0:\n",
    "        time.sleep(1)\n",
    "        yield n\n",
    "        n -= 1\n",
    "    \n",
    "    print(\"End of Generator Counter\")"
   ]
  },
  {
   "cell_type": "code",
   "execution_count": null,
   "id": "602be959",
   "metadata": {},
   "outputs": [],
   "source": [
    "c = Counter(10)\n",
    "\n",
    "for x in c:\n",
    "    print(x)"
   ]
  },
  {
   "cell_type": "markdown",
   "id": "549d18c6",
   "metadata": {},
   "source": [
    "### We can see the improvement in times for obtaining all the elements in a Fibonacci sequence"
   ]
  },
  {
   "cell_type": "code",
   "execution_count": null,
   "id": "01c429f4",
   "metadata": {},
   "outputs": [],
   "source": [
    "# Compare run times for printing Fibonacci sequence\n",
    "\n",
    "# For this example, guaranteed that the number is greater than 2\n",
    "def fibonacci( fib_num ):\n",
    "    \n",
    "    fib_array = []\n",
    "    \n",
    "    fib_1 = 1\n",
    "    fib_2 = 1\n",
    "    \n",
    "    fib_array.append(fib_1)\n",
    "    fib_array.append(fib_2)\n",
    "    \n",
    "    for val in range(2, fib_num):\n",
    "        \n",
    "        next_val = fib_1 + fib_2\n",
    "        fib_array.append(next_val)\n",
    "        \n",
    "        fib_2 = fib_1\n",
    "        fib_1 = next_val\n",
    "        \n",
    "    return fib_array"
   ]
  },
  {
   "cell_type": "code",
   "execution_count": null,
   "id": "4c473a53",
   "metadata": {},
   "outputs": [],
   "source": [
    "def fibonacci_generator( fib_num ):\n",
    "    \n",
    "    fib_1 = 1\n",
    "    fib_2 = 1\n",
    "    \n",
    "    yield fib_1\n",
    "    yield fib_2\n",
    "    \n",
    "    for val in range(2, fib_num):\n",
    "        \n",
    "        next_val = fib_1 + fib_2\n",
    "        yield next_val\n",
    "        fib_2 = fib_1\n",
    "        fib_1 = next_val"
   ]
  },
  {
   "cell_type": "code",
   "execution_count": null,
   "id": "90eca9aa",
   "metadata": {
    "scrolled": true
   },
   "outputs": [],
   "source": [
    "def time_fib( fib_num ):\n",
    "\n",
    "    fib_array = fibonacci( fib_num )"
   ]
  },
  {
   "cell_type": "code",
   "execution_count": null,
   "id": "1ba695d6",
   "metadata": {},
   "outputs": [],
   "source": [
    "def time_fib_yield( fib_num ):\n",
    "\n",
    "    fib_yield = fibonacci_generator( 10 )"
   ]
  },
  {
   "cell_type": "code",
   "execution_count": null,
   "id": "9f49117b",
   "metadata": {},
   "outputs": [],
   "source": [
    "def fib_yield_test( fib_num ):\n",
    "\n",
    "    print(\"Fibonacci Test:\")\n",
    "    %timeit -r1 time_fib( fib_num )\n",
    "    \n",
    "    print(\"Fibonacci Yield Test\")\n",
    "    %timeit -r1 time_fib_yield( fib_num )"
   ]
  },
  {
   "cell_type": "code",
   "execution_count": null,
   "id": "b7f48d40",
   "metadata": {},
   "outputs": [],
   "source": [
    "fib_num = 10\n",
    "fib_yield_test( fib_num )"
   ]
  },
  {
   "cell_type": "code",
   "execution_count": null,
   "id": "4b76d1e1",
   "metadata": {},
   "outputs": [],
   "source": [
    "fib_num = 34\n",
    "fib_yield_test( fib_num )"
   ]
  },
  {
   "cell_type": "code",
   "execution_count": null,
   "id": "23578b21",
   "metadata": {},
   "outputs": [],
   "source": [
    "fib_num = 177\n",
    "fib_yield_test( fib_num )"
   ]
  },
  {
   "cell_type": "markdown",
   "id": "9766b5d2",
   "metadata": {},
   "source": [
    "### How can we use Generators to improve our programs?\n",
    "\n",
    "<ul>\n",
    "    <li>For large numbers/data crunching, you can use libraries like <a href = \"https://numpy.org/\">Numpy</a>, which gracefully handles memory management.</li>\n",
    "    <li>Don't use <code>+</code> for generating long strings</li>\n",
    "    <ul>\n",
    "        <li>In Python, <code>str</code> is immutable, so the left and right strings have to be copied into the new string for every pair of concatenations. If you concatenate four strings of length 10, you'll be copying (10+10) + ((10+10)+10) + (((10+10)+10)+10) = 90 characters instead of just 40 characters.</li>\n",
    "    </ul>\n",
    "</ul>"
   ]
  },
  {
   "cell_type": "code",
   "execution_count": null,
   "id": "0f355d58",
   "metadata": {},
   "outputs": [],
   "source": [
    "def add_string_with_plus(iters):\n",
    "    s = \"\"\n",
    "    for i in range(iters):\n",
    "        s += \"xyz\"\n",
    "    assert len(s) == 3*iters\n",
    "\n",
    "    return s\n",
    "    \n",
    "    \n",
    "def add_string_with_join(iters):\n",
    "    l = []\n",
    "    for i in range(iters):\n",
    "        l.append(\"xyz\")\n",
    "    s = \"\".join(l)\n",
    "    assert len(s) == 3*iters\n",
    "\n",
    "    return s    \n",
    "    \n",
    "    \n",
    "def add_string_with_format(iters):\n",
    "    fs = \"{}\"*iters\n",
    "    s = fs.format(*([\"xyz\"]*iters))\n",
    "    assert len(s) == 3*iters\n",
    "\n",
    "    return s\n",
    "    \n",
    "    \n",
    "def string_yield(iters):\n",
    "    \n",
    "    for i in range(iters):\n",
    "        append = \"xyz\"\n",
    "        yield append\n",
    "\n",
    "\n",
    "def add_string_with_yield(iters):\n",
    "    \n",
    "    s = []\n",
    "    \n",
    "    the_string_yield = string_yield( iters )\n",
    "    \n",
    "    while True:\n",
    "        try:\n",
    "            s.append( next(the_string_yield) )\n",
    "        except StopIteration:\n",
    "            break\n",
    "            \n",
    "    assert len(s) == 3*iters\n",
    "\n",
    "    return s"
   ]
  },
  {
   "cell_type": "code",
   "execution_count": null,
   "id": "288cfa5f",
   "metadata": {},
   "outputs": [],
   "source": [
    "def convert_list_print( iter_test ):\n",
    "    \n",
    "    print( \"Number of iterators: \", iter_test )\n",
    "\n",
    "    print(\"add_string_with_plus test:\")\n",
    "    print( add_string_with_plus( iter_test ) )\n",
    "    \n",
    "    print(\"add_string_with_join:\")\n",
    "    print( add_string_with_join( iter_test ) )\n",
    "    \n",
    "    print(\"add_string_with_format tests:\")\n",
    "    print( add_string_with_format( iter_test ) )\n",
    "    \n",
    "    print(\"add_string_with_yield:\")\n",
    "    print( add_string_with_yield( iter_test ) )"
   ]
  },
  {
   "cell_type": "code",
   "execution_count": null,
   "id": "3091800b",
   "metadata": {},
   "outputs": [],
   "source": [
    "convert_list_print( 10 )"
   ]
  },
  {
   "cell_type": "code",
   "execution_count": null,
   "id": "585f9d9e",
   "metadata": {},
   "outputs": [],
   "source": [
    "def convert_list_test( iter_test ):\n",
    "    \n",
    "    print( \"Number of iterators: \", iter_test )\n",
    "\n",
    "    print(\"add_string_with_plus test:\")\n",
    "    %timeit -r1 add_string_with_plus( iter_test )\n",
    "    \n",
    "    print(\"add_string_with_join:\")\n",
    "    %timeit -r1 add_string_with_join( iter_test )\n",
    "    \n",
    "    print(\"add_string_with_format tests:\")\n",
    "    %timeit -r1 add_string_with_format( iter_test )\n",
    "    \n",
    "    print(\"add_string_with_yield:\")\n",
    "    %timeit -r1 add_string_with_yield( iter_test )"
   ]
  },
  {
   "cell_type": "code",
   "execution_count": null,
   "id": "ed0fc540",
   "metadata": {},
   "outputs": [],
   "source": [
    "convert_list_test( 10000 )"
   ]
  },
  {
   "cell_type": "markdown",
   "id": "caa0d4e4",
   "metadata": {},
   "source": [
    "# Python Global Interpreter Lock\n",
    "\n",
    "### Protecting <code>ob_refcnt</code>\n",
    "\n",
    "The problem with using Python objects that this reference count variable needed <b>protection</b> from race conditions where two threads increase or decrease its value simultaneously. \n",
    "\n",
    "If this happens, it can cause either leaked memory that is never released or, even worse, incorrectly release the memory while a reference to that object still exists.\n",
    "\n",
    "This reference count variable can be kept safe by adding <b>locks</b> to all data structures that are shared across threads so that they are not modified inconsistently.\n",
    "\n",
    "> <b>Operating Systems Preview/Review</b>: Adding a lock to each object or groups of objects means multiple locks will exist which can cause another problem—Deadlocks.\n",
    "\n",
    "So the <b>GIL</b> is design to have one lock so there are no deadlocks.\n",
    "\n",
    "For our Computer Architecture purposes, this has another side effect would be <b>decreased performance</b> caused by the repeated acquisition and release of locks.\n",
    "\n",
    "\n",
    "### So if GIL can cause so many issues, why did the inventors of Python use it?\n",
    "\n",
    "Let's ask them!\n",
    "\n",
    "<a href=\"https://youtu.be/KVKufdTphKs?si=-xYqQ97WrOrW7A6N&t=732\" target=\"_blank\">\n",
    " <img src=\"http://img.youtube.com/vi/-xYqQ97WrOrW7A6N/mqdefault.jpg\" alt=\"Watch the video\" width=\"240\" height=\"180\" border=\"10\" />\n",
    "</a>\n",
    "\n",
    "#### Memory and Thread Safe Programs\n",
    "\n",
    "A lot of extensions were being written for the existing C libraries whose features were needed in Python. To prevent inconsistent changes, these C extensions required a thread-safe memory management which the GIL provided.\n",
    "\n",
    "C libraries that were not thread-safe became easier to integrate. And these C extensions became one of the reasons why Python was readily adopted by different communities."
   ]
  },
  {
   "cell_type": "markdown",
   "id": "9beedf9b",
   "metadata": {},
   "source": [
    "## The Impact on Multi-Threaded Python Programs\n",
    "\n",
    "When you look at a typical Python program—or any computer program for that matter—there’s a difference between those that are CPU-bound in their performance and those that are I/O-bound.\n",
    "\n",
    "#### I/O Bound Programs\n",
    "\n",
    "A program that spends most of its time waiting for an interrupt to start the program\n",
    "\n",
    "> Example: A mouse driver waiting for you to use the mouse.\n",
    "\n",
    "#### CPU Bound Program\n",
    "\n",
    "A program that has multiple threads (we will study multithreading later this semester). Because there is one lock, programs in Python essentially become single threaded programs. This is where programmers get frustrated.\n",
    "\n",
    "\n",
    "### Multithreading Example\n",
    "\n",
    "The reality is that, while the GIL provided memory-safe programming in Python, programmers still need improvements in performance that are brought about with multithreading.\n",
    "\n",
    "Let’s have a look at a simple CPU-bound program that performs a countdown:"
   ]
  },
  {
   "cell_type": "code",
   "execution_count": null,
   "id": "4e0dcfa7",
   "metadata": {},
   "outputs": [],
   "source": [
    "# No multithreading\n",
    "\n",
    "import time\n",
    "\n",
    "COUNT = 50000000\n",
    "\n",
    "def countdown(n):\n",
    "    while n>0:\n",
    "        n -= 1\n",
    "\n",
    "start = time.time()\n",
    "countdown(COUNT)\n",
    "end = time.time()\n",
    "\n",
    "print('Time taken in seconds: ', end - start)"
   ]
  },
  {
   "cell_type": "code",
   "execution_count": null,
   "id": "dc163b99",
   "metadata": {},
   "outputs": [],
   "source": [
    "# But now let's try multithreading\n",
    "\n",
    "from threading import Thread\n",
    "\n",
    "t1 = Thread(target=countdown, args=(COUNT//2,))\n",
    "t2 = Thread(target=countdown, args=(COUNT//2,))\n",
    "\n",
    "start = time.time()\n",
    "t1.start()\n",
    "t2.start()\n",
    "t1.join()\n",
    "t2.join()\n",
    "end = time.time()\n",
    "\n",
    "print('Time taken in seconds -', end - start)"
   ]
  },
  {
   "cell_type": "markdown",
   "id": "312b3651",
   "metadata": {},
   "source": [
    "As you can see, both versions take almost same amount of time to finish. In the multi-threaded version the GIL prevented the CPU-bound threads from executing in parallel."
   ]
  },
  {
   "attachments": {
    "image-2.png": {
     "image/png": "[encoded data removed]"
    },
    "image-3.png": {
     "image/png": "[encoded data removed]"
    },
    "image-4.png": {
     "image/png": "[encoded data removed]"
    },
    "image.png": {
     "image/png": "[encoded data removed]"
    }
   },
   "cell_type": "markdown",
   "id": "54d52e9e",
   "metadata": {},
   "source": [
    "## Why Hasn’t the GIL Been Removed Yet?\n",
    "\n",
    "The developers of Python receive a lot of complaints regarding this but a language as popular as Python cannot bring a change as significant as the removal of GIL without causing backward incompatibility issues.\n",
    "\n",
    "Removing the GIL would have made Python 3 slower in comparison to Python 2 in single-threaded performance.\n",
    "\n",
    "Python 3's added starvation prevention since Python’s GIL was known to starve the I/O-bound threads by not giving them a chance to acquire the GIL from CPU-bound threads.\n",
    "\n",
    "Example: Here is the behavior of running two CPU-bound threads on a single CPU system. As you will observe, the threads nicely alternate with each other after long periods of computation.\n",
    "![image.png](attachment:image.png)\n",
    "\n",
    "Here is an example GIL contention on a dual-core CPU. This image shows red regions which indicate times where the operating system has scheduled a Python thread on one of the cores, but it can't run because the thread on the other core is holding it.\n",
    "![image-2.png](attachment:image-2.png)\n",
    "\n",
    "\n",
    "So what happens when a I/O bound thread competes with a CPU-bound thread? The other thread (thread 2) is just mindlessly spinning.\n",
    "![image-3.png](attachment:image-3.png)\n",
    "\n",
    "As you would expect, most of the time is spent running the CPU-bound thread. However, when I/O is received, there is a flurry of activity that takes place in the I/O thread. Let's zoom in on that region and see what's happening.\n",
    "![image-4.png](attachment:image-4.png)\n",
    "\n",
    "In this graph, you're seeing how difficult it is for the I/O bound to get the GIL in order to perform its small amount of processing."
   ]
  },
  {
   "cell_type": "markdown",
   "id": "eedefc44",
   "metadata": {},
   "source": [
    "### What can you do?\n",
    "\n",
    "<b>Multi-processing vs multi-threading</b>: The most popular way is to use a multi-processing approach where you use multiple processes instead of threads. Each Python process gets its own Python interpreter and memory space so the GIL won’t be a problem. \n",
    "\n",
    "> <b>Issue!</b> - Per the <a href = \"https://docs.python.org/3/library/multiprocessing.html\">multprocessing</a> documentation, <code>multiprocessing.Pool</code> does not work on an interactive interpreter like Jupyter notebooks since they only work on one process. So the code is imbedded in this Jupyter Notebook for your reference, but it will not work as intended if you try to run the code."
   ]
  },
  {
   "cell_type": "code",
   "execution_count": 15,
   "id": "4b520e62",
   "metadata": {},
   "outputs": [],
   "source": [
    "# function to print cube of given num \n",
    "def print_cube(num): \n",
    "    \n",
    "    print(\"Cube: {}\".format(num * num * num)) \n",
    "\n",
    "\n",
    "# function to print square of given num \n",
    "def print_square(num): \n",
    "    \n",
    "    print(\"Square: {}\".format(num * num)) \n",
    "    \n",
    "\n",
    "def test_prints( num ):\n",
    "    \n",
    "    print_square( num )\n",
    "    print_cube( num )\n",
    "    \n",
    "    print(\"Done!\") "
   ]
  },
  {
   "cell_type": "code",
   "execution_count": 17,
   "id": "c1aae0f7",
   "metadata": {},
   "outputs": [
    {
     "name": "stdout",
     "output_type": "stream",
     "text": [
      "Done!\n"
     ]
    }
   ],
   "source": [
    "# importing the multiprocessing module \n",
    "import multiprocessing \n",
    "  \n",
    "if __name__ == \"__main__\": \n",
    "    \n",
    "    # creating processes \n",
    "    p1 = multiprocessing.Process(target=print_square, args=(10, )) \n",
    "    p2 = multiprocessing.Process(target=print_cube, args=(10, )) \n",
    "  \n",
    "    # starting process 1 \n",
    "    p1.start() \n",
    "    # starting process 2 \n",
    "    p2.start() \n",
    "  \n",
    "    # wait until process 1 is finished \n",
    "    p1.join() \n",
    "    # wait until process 2 is finished \n",
    "    p2.join() \n",
    "  \n",
    "    # both processes finished \n",
    "    print(\"Done!\") "
   ]
  },
  {
   "cell_type": "code",
   "execution_count": 16,
   "id": "ea3955ac",
   "metadata": {},
   "outputs": [
    {
     "name": "stdout",
     "output_type": "stream",
     "text": [
      "Square: 100\n",
      "Cube: 1000\n",
      "Done!\n"
     ]
    }
   ],
   "source": [
    "test_prints( 10 )"
   ]
  },
  {
   "cell_type": "code",
   "execution_count": null,
   "id": "147e75f6",
   "metadata": {},
   "outputs": [],
   "source": []
  }
 ],
 "metadata": {
  "kernelspec": {
   "display_name": "Python 3 (ipykernel)",
   "language": "python",
   "name": "python3"
  },
  "language_info": {
   "codemirror_mode": {
    "name": "ipython",
    "version": 3
   },
   "file_extension": ".py",
   "mimetype": "text/x-python",
   "name": "python",
   "nbconvert_exporter": "python",
   "pygments_lexer": "ipython3",
   "version": "3.9.13"
  }
 },
 "nbformat": 4,
 "nbformat_minor": 5
}
