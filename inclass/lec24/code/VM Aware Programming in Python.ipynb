{
 "cells": [
  {
   "cell_type": "markdown",
   "id": "6f422957",
   "metadata": {},
   "source": [
    "# VM Aware Programming in Python\n",
    "\n",
    "> Sources: Materials from the following write-ups were modified for this in-class example:<br>\n",
    "> 1: <a href = \"https://www.codementor.io/@satwikkansal/python-practices-for-efficient-code-performance-memory-and-usability-aze6oiq65\">Python Practices for Efficient Code: Performance, Memory, and Usability</a><br>\n",
    "> 2. <a href = \"https://realpython.com/python-memory-management/\">Python Memory Management</a>"
   ]
  },
  {
   "cell_type": "markdown",
   "id": "eba7e2a4",
   "metadata": {},
   "source": [
    "### Revisiting Loop Unrolling and Registers\n",
    "\n",
    "Because Python uses an interpreter to obfuscate the memory management, some of our techniques will not improve performance. However, other techniques will!"
   ]
  },
  {
   "cell_type": "code",
   "execution_count": 3,
   "id": "6d44f39c",
   "metadata": {},
   "outputs": [],
   "source": [
    "def func( count, value ):\n",
    "    return count + value"
   ]
  },
  {
   "cell_type": "code",
   "execution_count": 4,
   "id": "fa50745f",
   "metadata": {},
   "outputs": [],
   "source": [
    "def no_opt( array_size, the_array ):\n",
    "    \n",
    "    sum_val = 0\n",
    "    \n",
    "    for idx in range(0, array_size):\n",
    "        \n",
    "        for count in range(0, 5):\n",
    "            \n",
    "            the_array[idx] = func( count, the_array[idx] )\n",
    "            sum_val += the_array[idx]"
   ]
  },
  {
   "cell_type": "markdown",
   "id": "977a7675",
   "metadata": {},
   "source": [
    "Because the interpreter compiles to the machine for us, optimizations that work in C or C++ - such as intermediate register - have little impact on computing performance in Python."
   ]
  },
  {
   "cell_type": "code",
   "execution_count": 5,
   "id": "6001b82d",
   "metadata": {},
   "outputs": [],
   "source": [
    "def reg_opt( array_size, the_array ):\n",
    "    \n",
    "    sum_val = 0\n",
    "    \n",
    "    for idx in range(0, array_size):\n",
    "        \n",
    "        arr_idx = the_array[idx]\n",
    "        \n",
    "        for count in range(0, 5):\n",
    "            \n",
    "            arr_idx = func( count, arr_idx )\n",
    "            sum_val += arr_idx\n",
    "            \n",
    "        the_array[idx] = arr_idx"
   ]
  },
  {
   "cell_type": "markdown",
   "id": "c204e007",
   "metadata": {},
   "source": [
    "Howeever, since the Python interpreter still needs to interact with instructions across multiple cache blocks or pages, techniques such as loop unrolling do have a measurable impact because of the reduction of branch prediction misses."
   ]
  },
  {
   "cell_type": "code",
   "execution_count": 6,
   "id": "03b20b95",
   "metadata": {},
   "outputs": [],
   "source": [
    "def unroll_opt( array_size, the_array ):\n",
    "    \n",
    "    sum_val = 0\n",
    "    \n",
    "    for idx in range(0, array_size):\n",
    "        \n",
    "        arr_idx = the_array[idx]\n",
    "        \n",
    "        arr_idx = func( 0, arr_idx )\n",
    "        arr_idx = func( 1, arr_idx )\n",
    "        arr_idx = func( 2, arr_idx )\n",
    "        arr_idx = func( 3, arr_idx )\n",
    "        arr_idx = func( 4, arr_idx )\n",
    "        \n",
    "        the_array[idx] = arr_idx"
   ]
  },
  {
   "cell_type": "markdown",
   "id": "d8d02b60",
   "metadata": {},
   "source": [
    "Python's interpreter does not utilize preprocessing, so there are no explicit modules. However, you will be able to observe that writing a macro equivelent (such as re-writing the code instead of calling the function.)\n",
    "\n",
    "> Note: When writing Python code in industry, be sure to adhere to your company's standards. Modularity and code cleanliness are important, especially if they do not mind a performance tradeoff. However, if they do need improved performance, you have another tool in your toolkit."
   ]
  },
  {
   "cell_type": "code",
   "execution_count": 7,
   "id": "cd7840b6",
   "metadata": {},
   "outputs": [],
   "source": [
    "def macro_equiv_opt( array_size, the_array ):\n",
    "    \n",
    "    sum_val = 0\n",
    "    \n",
    "    for idx in range(0, array_size):\n",
    "        \n",
    "        arr_idx = the_array[idx]\n",
    "        \n",
    "        arr_idx = 0 + arr_idx\n",
    "        arr_idx = 1 + arr_idx\n",
    "        arr_idx = 2 + arr_idx\n",
    "        arr_idx = 3 + arr_idx\n",
    "        arr_idx = 4 + arr_idx\n",
    "        \n",
    "        the_array[idx] = arr_idx"
   ]
  },
  {
   "cell_type": "code",
   "execution_count": 8,
   "id": "3e197872",
   "metadata": {},
   "outputs": [],
   "source": [
    "def test_opt( array_test_size ):\n",
    "    \n",
    "    the_array = [0] * array_test_size\n",
    "\n",
    "    print(\"No Opt\")\n",
    "    %timeit -r1 no_opt( array_test_size, the_array )\n",
    "    \n",
    "    print(\"Reg Opt\")\n",
    "    %timeit -r1 reg_opt( array_test_size, the_array )\n",
    "    \n",
    "    print(\"Unroll Opt\")\n",
    "    %timeit -r1 unroll_opt( array_test_size, the_array )\n",
    "    \n",
    "    print(\"Macro Equivalent Opt\")\n",
    "    %timeit -r1 macro_equiv_opt( array_test_size, the_array )"
   ]
  },
  {
   "cell_type": "code",
   "execution_count": 9,
   "id": "8efd99f4",
   "metadata": {
    "scrolled": true
   },
   "outputs": [
    {
     "name": "stdout",
     "output_type": "stream",
     "text": [
      "No Opt\n",
      "971 µs ± 0 ns per loop (mean ± std. dev. of 1 run, 1000 loops each)\n",
      "Reg Opt\n",
      "800 µs ± 0 ns per loop (mean ± std. dev. of 1 run, 1000 loops each)\n",
      "Unroll Opt\n",
      "473 µs ± 0 ns per loop (mean ± std. dev. of 1 run, 1000 loops each)\n",
      "Macro Equivalent Opt\n",
      "209 µs ± 0 ns per loop (mean ± std. dev. of 1 run, 1000 loops each)\n"
     ]
    }
   ],
   "source": [
    "test_size = 1024\n",
    "test_opt( test_size )"
   ]
  },
  {
   "cell_type": "code",
   "execution_count": 10,
   "id": "d690e199",
   "metadata": {},
   "outputs": [
    {
     "name": "stdout",
     "output_type": "stream",
     "text": [
      "No Opt\n",
      "1.93 ms ± 0 ns per loop (mean ± std. dev. of 1 run, 1000 loops each)\n",
      "Reg Opt\n",
      "1.61 ms ± 0 ns per loop (mean ± std. dev. of 1 run, 1000 loops each)\n",
      "Unroll Opt\n",
      "944 µs ± 0 ns per loop (mean ± std. dev. of 1 run, 1000 loops each)\n",
      "Macro Equivalent Opt\n",
      "418 µs ± 0 ns per loop (mean ± std. dev. of 1 run, 1000 loops each)\n"
     ]
    }
   ],
   "source": [
    "test_size = 2048\n",
    "test_opt( test_size )"
   ]
  },
  {
   "cell_type": "code",
   "execution_count": 11,
   "id": "903ecb85",
   "metadata": {
    "scrolled": false
   },
   "outputs": [
    {
     "name": "stdout",
     "output_type": "stream",
     "text": [
      "No Opt\n",
      "15.6 ms ± 0 ns per loop (mean ± std. dev. of 1 run, 100 loops each)\n",
      "Reg Opt\n",
      "12.8 ms ± 0 ns per loop (mean ± std. dev. of 1 run, 100 loops each)\n",
      "Unroll Opt\n",
      "7.56 ms ± 0 ns per loop (mean ± std. dev. of 1 run, 100 loops each)\n",
      "Macro Equivalent Opt\n",
      "3.49 ms ± 0 ns per loop (mean ± std. dev. of 1 run, 100 loops each)\n"
     ]
    }
   ],
   "source": [
    "test_size = 16384\n",
    "test_opt( test_size )"
   ]
  },
  {
   "cell_type": "markdown",
   "id": "9f35be45",
   "metadata": {},
   "source": [
    "# Python Memory Management\n",
    "\n",
    "Python is an <b>interpreted programming language</b>. Your Python code actually gets compiled down to more computer-readable instructions called <b>bytecode</b>. These instructions get interpreted by a virtual machine when you run your code.\n",
    "\n",
    "> Have you ever seen a <code>.pyc</code> file or a <code>__pycache__</code> folder? That’s the bytecode that gets interpreted by the virtual machine. Let's generate some disassembled Bytecode!"
   ]
  },
  {
   "cell_type": "code",
   "execution_count": 18,
   "id": "3f1a62df",
   "metadata": {},
   "outputs": [],
   "source": [
    "def simple():\n",
    "    x = int(input(\"x? \"))\n",
    "    y = int(input(\"y? \"))\n",
    "\n",
    "    print(x + y)"
   ]
  },
  {
   "cell_type": "code",
   "execution_count": 19,
   "id": "3d3dc0d6",
   "metadata": {},
   "outputs": [],
   "source": [
    "# Next, we will import the dis library, which will help us view the assembly code\n",
    "import dis"
   ]
  },
  {
   "cell_type": "code",
   "execution_count": 20,
   "id": "57e501e7",
   "metadata": {},
   "outputs": [
    {
     "name": "stdout",
     "output_type": "stream",
     "text": [
      "x? 100\n",
      "y? 25\n",
      "125\n"
     ]
    }
   ],
   "source": [
    "# Run example\n",
    "simple()"
   ]
  },
  {
   "cell_type": "code",
   "execution_count": 21,
   "id": "49a5f1bc",
   "metadata": {},
   "outputs": [
    {
     "name": "stdout",
     "output_type": "stream",
     "text": [
      "  2           0 LOAD_GLOBAL              0 (int)\n",
      "              2 LOAD_GLOBAL              1 (input)\n",
      "              4 LOAD_CONST               1 ('x? ')\n",
      "              6 CALL_FUNCTION            1\n",
      "              8 CALL_FUNCTION            1\n",
      "             10 STORE_FAST               0 (x)\n",
      "\n",
      "  3          12 LOAD_GLOBAL              0 (int)\n",
      "             14 LOAD_GLOBAL              1 (input)\n",
      "             16 LOAD_CONST               2 ('y? ')\n",
      "             18 CALL_FUNCTION            1\n",
      "             20 CALL_FUNCTION            1\n",
      "             22 STORE_FAST               1 (y)\n",
      "\n",
      "  5          24 LOAD_GLOBAL              2 (print)\n",
      "             26 LOAD_FAST                0 (x)\n",
      "             28 LOAD_FAST                1 (y)\n",
      "             30 BINARY_ADD\n",
      "             32 CALL_FUNCTION            1\n",
      "             34 POP_TOP\n",
      "             36 LOAD_CONST               0 (None)\n",
      "             38 RETURN_VALUE\n"
     ]
    }
   ],
   "source": [
    "# By passing simple to a dis function, we can see how the compiler will organize it\n",
    "# Functions are put in cache and then are cleared when done (like cramming for an exam)\n",
    "dis.dis(simple)"
   ]
  },
  {
   "cell_type": "code",
   "execution_count": 27,
   "id": "7eec3a8b",
   "metadata": {
    "scrolled": true
   },
   "outputs": [
    {
     "name": "stdout",
     "output_type": "stream",
     "text": [
      "Instruction(opname='LOAD_GLOBAL', opcode=116, arg=0, argval='int', argrepr='int', offset=0, starts_line=2, is_jump_target=False)\n",
      "Instruction(opname='LOAD_GLOBAL', opcode=116, arg=1, argval='input', argrepr='input', offset=2, starts_line=None, is_jump_target=False)\n",
      "Instruction(opname='LOAD_CONST', opcode=100, arg=1, argval='x? ', argrepr=\"'x? '\", offset=4, starts_line=None, is_jump_target=False)\n",
      "Instruction(opname='CALL_FUNCTION', opcode=131, arg=1, argval=1, argrepr='', offset=6, starts_line=None, is_jump_target=False)\n",
      "Instruction(opname='CALL_FUNCTION', opcode=131, arg=1, argval=1, argrepr='', offset=8, starts_line=None, is_jump_target=False)\n",
      "Instruction(opname='STORE_FAST', opcode=125, arg=0, argval='x', argrepr='x', offset=10, starts_line=None, is_jump_target=False)\n",
      "Instruction(opname='LOAD_GLOBAL', opcode=116, arg=0, argval='int', argrepr='int', offset=12, starts_line=3, is_jump_target=False)\n",
      "Instruction(opname='LOAD_GLOBAL', opcode=116, arg=1, argval='input', argrepr='input', offset=14, starts_line=None, is_jump_target=False)\n",
      "Instruction(opname='LOAD_CONST', opcode=100, arg=2, argval='y? ', argrepr=\"'y? '\", offset=16, starts_line=None, is_jump_target=False)\n",
      "Instruction(opname='CALL_FUNCTION', opcode=131, arg=1, argval=1, argrepr='', offset=18, starts_line=None, is_jump_target=False)\n",
      "Instruction(opname='CALL_FUNCTION', opcode=131, arg=1, argval=1, argrepr='', offset=20, starts_line=None, is_jump_target=False)\n",
      "Instruction(opname='STORE_FAST', opcode=125, arg=1, argval='y', argrepr='y', offset=22, starts_line=None, is_jump_target=False)\n",
      "Instruction(opname='LOAD_GLOBAL', opcode=116, arg=2, argval='print', argrepr='print', offset=24, starts_line=5, is_jump_target=False)\n",
      "Instruction(opname='LOAD_FAST', opcode=124, arg=0, argval='x', argrepr='x', offset=26, starts_line=None, is_jump_target=False)\n",
      "Instruction(opname='LOAD_FAST', opcode=124, arg=1, argval='y', argrepr='y', offset=28, starts_line=None, is_jump_target=False)\n",
      "Instruction(opname='BINARY_ADD', opcode=23, arg=None, argval=None, argrepr='', offset=30, starts_line=None, is_jump_target=False)\n",
      "Instruction(opname='CALL_FUNCTION', opcode=131, arg=1, argval=1, argrepr='', offset=32, starts_line=None, is_jump_target=False)\n",
      "Instruction(opname='POP_TOP', opcode=1, arg=None, argval=None, argrepr='', offset=34, starts_line=None, is_jump_target=False)\n",
      "Instruction(opname='LOAD_CONST', opcode=100, arg=0, argval=None, argrepr='None', offset=36, starts_line=None, is_jump_target=False)\n",
      "Instruction(opname='RETURN_VALUE', opcode=83, arg=None, argval=None, argrepr='', offset=38, starts_line=None, is_jump_target=False)\n"
     ]
    }
   ],
   "source": [
    "bytecode = dis.Bytecode(simple)\n",
    "for instr in bytecode:\n",
    "    print(instr)"
   ]
  },
  {
   "cell_type": "markdown",
   "id": "a3094f5c",
   "metadata": {},
   "source": [
    "## Back to CPython Memory Management\n",
    "\n",
    "The memory management algorithms and structures exist in the CPython code, in C."
   ]
  },
  {
   "cell_type": "markdown",
   "id": "9856510b",
   "metadata": {},
   "source": [
    "## Generators\n",
    "\n",
    "A Python <b>generator</b> is a function which returns a generator iterator (just an object we can iterate over) by calling <code>yield</code>.\n",
    "\n",
    "Generators are a <b>memory-efficient approach</b> of processing huge datasets. They process the data incrementally and do not allocate memory to all the results at the same time. Generators are beneficial for implementing data science pipelines for huge datasets in a resource-constrained environment (in terms of RAM). \n",
    "\n",
    "Thus, generators become an effective tool to improve the <b>scalability</b> of a program and make it more responsive to user requests.\n",
    "\n",
    "Python uses Iterator objects to go over are programming objects that follow the Iteration Protocol. Every Python object in the underlying CPython interpreter uses the <code>Py_ssize_t ob_refcnt</code> member for <code>PyObject</code> keeps track of the number of references that point to the object.\n",
    "\n",
    "Let’s take a look at a brief code example to demonstrate how reference counting works:"
   ]
  },
  {
   "cell_type": "code",
   "execution_count": 10,
   "id": "9b1804b7",
   "metadata": {},
   "outputs": [
    {
     "data": {
      "text/plain": [
       "3"
      ]
     },
     "execution_count": 10,
     "metadata": {},
     "output_type": "execute_result"
    }
   ],
   "source": [
    "import sys\n",
    "\n",
    "a = []\n",
    "b = a\n",
    "sys.getrefcount(a)"
   ]
  },
  {
   "cell_type": "markdown",
   "id": "781b1dcb",
   "metadata": {},
   "source": [
    "The list object was referenced by \n",
    "<ol>\n",
    "    <li>a</li>\n",
    "    <li>b</li> \n",
    "    <li>the argument passed to <code>sys.getrefcount(a)</code></li>\n",
    "</ol>\n",
    "\n",
    "We now know that the argument passed to <code>sys.getrefcount(a)</code> is a different register since it is copied to an argument register. \n",
    "\n",
    "> This is an example of why we were careful to clear all registers <b>the moment they go out of scope</b> when we were learning assembly, because otherwise a tool like the Python interpreter would quickly run out of memory. When we would clear a variable using <code>add x19, x0, x0</code>, the Python interpreter would also decrement <code>ob_refcnt</code> so the OS knows that the register may be used again! Without this programming fundamental skill, Python would <b>not be possible</b>."
   ]
  },
  {
   "cell_type": "markdown",
   "id": "d07bbafe",
   "metadata": {},
   "source": [
    "### Complexity of Programming Iterators and Generators as a Solution \n",
    "\n",
    "When we are defining custom-made iterators, we are forced to write a complex code as shown below. In the example below, we have tried to create a simple class called Counter that acts as a countdown machine."
   ]
  },
  {
   "cell_type": "code",
   "execution_count": 11,
   "id": "766ccd41",
   "metadata": {},
   "outputs": [],
   "source": [
    "import time\n",
    "\n",
    "class Counter:\n",
    "    \n",
    "    #defining a class which is defined with a maximum count\n",
    "    def __init__(self, max_limit):\n",
    "        self.number = max_limit\n",
    "        \n",
    "    # Iter function that returns itself\n",
    "    def __iter__(self):\n",
    "        return self\n",
    "    \n",
    "    # next function that is used to define the functionality of an iterator\n",
    "    def __next__(self):\n",
    "        \n",
    "        if self.number == 0:\n",
    "            print(\"End of Class Counter\")\n",
    "            raise StopIteration   # We will discuss the purpose of StopIteration soon\n",
    "        \n",
    "        else:\n",
    "            time.sleep(1)\n",
    "            print(self.number)\n",
    "            self.number -= 1\n",
    "            return self.__next__()"
   ]
  },
  {
   "cell_type": "markdown",
   "id": "0f582fb8",
   "metadata": {},
   "source": [
    "Once we have defined this class, we have to instantiate it and iterate through it using a for loop. (Doesn’t it look horribly cumbersome?)"
   ]
  },
  {
   "cell_type": "code",
   "execution_count": 12,
   "id": "e4473c1a",
   "metadata": {
    "scrolled": true
   },
   "outputs": [
    {
     "name": "stdout",
     "output_type": "stream",
     "text": [
      "10\n",
      "9\n",
      "8\n",
      "7\n",
      "6\n",
      "5\n",
      "4\n",
      "3\n",
      "2\n",
      "1\n",
      "End of Class Counter\n"
     ]
    }
   ],
   "source": [
    "c = Counter(10)\n",
    "\n",
    "for x in c:\n",
    "    print(x)"
   ]
  },
  {
   "cell_type": "markdown",
   "id": "d649e76e",
   "metadata": {},
   "source": [
    "### Coroutines and Subroutines\n",
    "\n",
    "When we call a normal Python function, execution starts at function's first line and continues until a <code>return</code> statement, <code>exception</code>, or the end of the function (which is seen as an implicit <code>return None</code>) is encountered.\n",
    "\n",
    "There are times, though, when it's beneficial to have the ability to create a \"function\" which, instead of simply returning a single value, is able to yield a series of values. To do so, such a function would need to be able to \"save its work,\" so to speak.\n",
    "\n",
    "When a <b>generator</b> function calls <code>yield</code>, the \"state\" of the generator function is frozen; the values of all variables are saved and the next line of code to be executed is recorded until <code>next()</code> is called again."
   ]
  },
  {
   "cell_type": "code",
   "execution_count": 13,
   "id": "659cd7bb",
   "metadata": {},
   "outputs": [
    {
     "data": {
      "text/plain": [
       "3"
      ]
     },
     "execution_count": 13,
     "metadata": {},
     "output_type": "execute_result"
    }
   ],
   "source": [
    "def simple_generator_function():\n",
    "    yield 1\n",
    "    yield 2\n",
    "    yield 3\n",
    "    \n",
    "our_generator = simple_generator_function()\n",
    "\n",
    "next(our_generator)\n",
    "\n",
    "next(our_generator)\n",
    "\n",
    "next(our_generator)"
   ]
  },
  {
   "cell_type": "code",
   "execution_count": 14,
   "id": "ed76897c",
   "metadata": {
    "scrolled": false
   },
   "outputs": [
    {
     "ename": "StopIteration",
     "evalue": "",
     "output_type": "error",
     "traceback": [
      "\u001b[1;31m---------------------------------------------------------------------------\u001b[0m",
      "\u001b[1;31mStopIteration\u001b[0m                             Traceback (most recent call last)",
      "\u001b[1;32m~\\AppData\\Local\\Temp\\ipykernel_24532\\3058719512.py\u001b[0m in \u001b[0;36m<module>\u001b[1;34m\u001b[0m\n\u001b[0;32m      1\u001b[0m \u001b[1;31m# What happens we call next a fourth time?\u001b[0m\u001b[1;33m\u001b[0m\u001b[1;33m\u001b[0m\u001b[0m\n\u001b[0;32m      2\u001b[0m \u001b[1;33m\u001b[0m\u001b[0m\n\u001b[1;32m----> 3\u001b[1;33m \u001b[0mnext\u001b[0m\u001b[1;33m(\u001b[0m\u001b[0mour_generator\u001b[0m\u001b[1;33m)\u001b[0m\u001b[1;33m\u001b[0m\u001b[1;33m\u001b[0m\u001b[0m\n\u001b[0m",
      "\u001b[1;31mStopIteration\u001b[0m: "
     ]
    }
   ],
   "source": [
    "# What happens we call next a fourth time?\n",
    "\n",
    "next(our_generator)"
   ]
  },
  {
   "cell_type": "markdown",
   "id": "6b925568",
   "metadata": {},
   "source": [
    "### For loop for accessing the Generator\n",
    "\n",
    "Another solution is to use try/except with the <code>StopIteration</code> in order to prevent error messages"
   ]
  },
  {
   "cell_type": "code",
   "execution_count": 15,
   "id": "c068112c",
   "metadata": {},
   "outputs": [
    {
     "name": "stdout",
     "output_type": "stream",
     "text": [
      "1\n",
      "2\n",
      "3\n"
     ]
    }
   ],
   "source": [
    "for value in simple_generator_function():\n",
    "    print(value)"
   ]
  },
  {
   "cell_type": "markdown",
   "id": "a53a9cb8",
   "metadata": {},
   "source": [
    "### Using StopIterator\n",
    "\n",
    "Another solution is to use try/except with the <code>StopIteration</code> in order to prevent error messages"
   ]
  },
  {
   "cell_type": "code",
   "execution_count": 16,
   "id": "cc310289",
   "metadata": {},
   "outputs": [
    {
     "name": "stdout",
     "output_type": "stream",
     "text": [
      "1\n",
      "2\n",
      "3\n"
     ]
    }
   ],
   "source": [
    "our_generator = simple_generator_function()\n",
    "\n",
    "while True:\n",
    "    try:\n",
    "        print( next(our_generator) )\n",
    "\n",
    "    except StopIteration:\n",
    "        break"
   ]
  },
  {
   "cell_type": "code",
   "execution_count": null,
   "id": "05e0ce01",
   "metadata": {
    "scrolled": true
   },
   "outputs": [],
   "source": [
    "# Multiple Yield statements with thesame variable\n",
    "\n",
    "def multi_yield():\n",
    "    yield_str = \"This will print the first string\"\n",
    "    yield yield_str\n",
    "    yield_str = \"This will print the second string\"\n",
    "    yield yield_str\n",
    "    \n",
    "multi_obj = multi_yield()\n",
    "\n",
    "while True:\n",
    "    try:\n",
    "        print(next(multi_obj))\n",
    "\n",
    "    except StopIteration:\n",
    "        break"
   ]
  },
  {
   "cell_type": "markdown",
   "id": "99e34837",
   "metadata": {},
   "source": [
    "### Revising the Counter Example\n",
    "\n",
    "Doesn't this look much simpler?"
   ]
  },
  {
   "cell_type": "code",
   "execution_count": null,
   "id": "7e011b58",
   "metadata": {},
   "outputs": [],
   "source": [
    "def Counter(limit):\n",
    "    n = limit\n",
    "    \n",
    "    while n > 0:\n",
    "        time.sleep(1)\n",
    "        yield n\n",
    "        n -= 1\n",
    "    \n",
    "    print(\"End of Generator Counter\")"
   ]
  },
  {
   "cell_type": "code",
   "execution_count": null,
   "id": "fe10b2fd",
   "metadata": {},
   "outputs": [],
   "source": [
    "c = Counter(10)\n",
    "\n",
    "for x in c:\n",
    "    print(x)"
   ]
  },
  {
   "cell_type": "markdown",
   "id": "1e1c86b0",
   "metadata": {},
   "source": [
    "### We can see the improvement in times for obtaining all the elements in a Fibonacci sequence"
   ]
  },
  {
   "cell_type": "code",
   "execution_count": null,
   "id": "ebf5a1af",
   "metadata": {},
   "outputs": [],
   "source": [
    "# Compare run times for printing Fibonacci sequence\n",
    "\n",
    "# For this example, guaranteed that the number is greater than 2\n",
    "def fibonacci( fib_num ):\n",
    "    \n",
    "    fib_array = []\n",
    "    \n",
    "    fib_1 = 1\n",
    "    fib_2 = 1\n",
    "    \n",
    "    fib_array.append(fib_1)\n",
    "    fib_array.append(fib_2)\n",
    "    \n",
    "    for val in range(2, fib_num):\n",
    "        \n",
    "        next_val = fib_1 + fib_2\n",
    "        fib_array.append(next_val)\n",
    "        \n",
    "        fib_2 = fib_1\n",
    "        fib_1 = next_val\n",
    "        \n",
    "    return fib_array"
   ]
  },
  {
   "cell_type": "code",
   "execution_count": null,
   "id": "f5eb7464",
   "metadata": {},
   "outputs": [],
   "source": [
    "def fibonacci_generator( fib_num ):\n",
    "    \n",
    "    fib_1 = 1\n",
    "    fib_2 = 1\n",
    "    \n",
    "    yield fib_1\n",
    "    yield fib_2\n",
    "    \n",
    "    for val in range(2, fib_num):\n",
    "        \n",
    "        next_val = fib_1 + fib_2\n",
    "        yield next_val\n",
    "        fib_2 = fib_1\n",
    "        fib_1 = next_val"
   ]
  },
  {
   "cell_type": "code",
   "execution_count": null,
   "id": "79cad077",
   "metadata": {
    "scrolled": true
   },
   "outputs": [],
   "source": [
    "def time_fib( fib_num ):\n",
    "\n",
    "    fib_array = fibonacci( fib_num )"
   ]
  },
  {
   "cell_type": "code",
   "execution_count": null,
   "id": "f23716a8",
   "metadata": {},
   "outputs": [],
   "source": [
    "def time_fib_yield( fib_num ):\n",
    "\n",
    "    fib_yield = fibonacci_generator( 10 )"
   ]
  },
  {
   "cell_type": "code",
   "execution_count": null,
   "id": "b250a9c9",
   "metadata": {},
   "outputs": [],
   "source": [
    "def fib_yield_test( fib_num ):\n",
    "\n",
    "    print(\"Fibonacci Test:\")\n",
    "    %timeit -r1 time_fib( fib_num )\n",
    "    \n",
    "    print(\"Fibonacci Yield Test\")\n",
    "    %timeit -r1 time_fib_yield( fib_num )"
   ]
  },
  {
   "cell_type": "code",
   "execution_count": null,
   "id": "7ab33371",
   "metadata": {},
   "outputs": [],
   "source": [
    "fib_num = 10\n",
    "fib_yield_test( fib_num )"
   ]
  },
  {
   "cell_type": "code",
   "execution_count": null,
   "id": "43e23fed",
   "metadata": {},
   "outputs": [],
   "source": [
    "fib_num = 34\n",
    "fib_yield_test( fib_num )"
   ]
  },
  {
   "cell_type": "code",
   "execution_count": null,
   "id": "bc908e37",
   "metadata": {},
   "outputs": [],
   "source": [
    "fib_num = 177\n",
    "fib_yield_test( fib_num )"
   ]
  },
  {
   "cell_type": "markdown",
   "id": "5a7bb501",
   "metadata": {},
   "source": [
    "### How can we use Generators to improve our programs?\n",
    "\n",
    "<ul>\n",
    "    <li>For large numbers/data crunching, you can use libraries like <a href = \"https://numpy.org/\">Numpy</a>, which gracefully handles memory management.</li>\n",
    "    <li>Don't use <code>+</code> for generating long strings</li>\n",
    "    <ul>\n",
    "        <li>In Python, <code>str</code> is immutable, so the left and right strings have to be copied into the new string for every pair of concatenations. If you concatenate four strings of length 10, you'll be copying (10+10) + ((10+10)+10) + (((10+10)+10)+10) = 90 characters instead of just 40 characters.</li>\n",
    "    </ul>\n",
    "</ul>"
   ]
  },
  {
   "cell_type": "code",
   "execution_count": null,
   "id": "c448fd3e",
   "metadata": {},
   "outputs": [],
   "source": [
    "def add_string_with_plus(iters):\n",
    "    s = \"\"\n",
    "    for i in range(iters):\n",
    "        s += \"xyz\"\n",
    "    assert len(s) == 3*iters\n",
    "\n",
    "    return s\n",
    "    \n",
    "    \n",
    "def add_string_with_join(iters):\n",
    "    l = []\n",
    "    for i in range(iters):\n",
    "        l.append(\"xyz\")\n",
    "    s = \"\".join(l)\n",
    "    assert len(s) == 3*iters\n",
    "\n",
    "    return s    \n",
    "    \n",
    "    \n",
    "def add_string_with_format(iters):\n",
    "    fs = \"{}\"*iters\n",
    "    s = fs.format(*([\"xyz\"]*iters))\n",
    "    assert len(s) == 3*iters\n",
    "\n",
    "    return s\n",
    "    \n",
    "    \n",
    "def string_yield(iters):\n",
    "    \n",
    "    for i in range(iters):\n",
    "        append = \"xyz\"\n",
    "        yield append\n",
    "\n",
    "\n",
    "def add_string_with_yield(iters):\n",
    "    \n",
    "    s = []\n",
    "    \n",
    "    the_string_yield = string_yield( iters )\n",
    "    \n",
    "    while True:\n",
    "        try:\n",
    "            s.append( next(the_string_yield) )\n",
    "        except StopIteration:\n",
    "            break\n",
    "            \n",
    "    assert len(s) == 3*iters\n",
    "\n",
    "    return s"
   ]
  },
  {
   "cell_type": "code",
   "execution_count": null,
   "id": "d2f3c729",
   "metadata": {},
   "outputs": [],
   "source": [
    "def convert_list_print( iter_test ):\n",
    "    \n",
    "    print( \"Number of iterators: \", iter_test )\n",
    "\n",
    "    print(\"add_string_with_plus test:\")\n",
    "    print( add_string_with_plus( iter_test ) )\n",
    "    \n",
    "    print(\"add_string_with_join:\")\n",
    "    print( add_string_with_join( iter_test ) )\n",
    "    \n",
    "    print(\"add_string_with_format tests:\")\n",
    "    print( add_string_with_format( iter_test ) )\n",
    "    \n",
    "    print(\"add_string_with_yield:\")\n",
    "    print( add_string_with_yield( iter_test ) )"
   ]
  },
  {
   "cell_type": "code",
   "execution_count": null,
   "id": "577f10da",
   "metadata": {},
   "outputs": [],
   "source": [
    "convert_list_print( 10 )"
   ]
  },
  {
   "cell_type": "code",
   "execution_count": null,
   "id": "1737bb73",
   "metadata": {},
   "outputs": [],
   "source": [
    "def convert_list_test( iter_test ):\n",
    "    \n",
    "    print( \"Number of iterators: \", iter_test )\n",
    "\n",
    "    print(\"add_string_with_plus test:\")\n",
    "    %timeit -r1 add_string_with_plus( iter_test )\n",
    "    \n",
    "    print(\"add_string_with_join:\")\n",
    "    %timeit -r1 add_string_with_join( iter_test )\n",
    "    \n",
    "    print(\"add_string_with_format tests:\")\n",
    "    %timeit -r1 add_string_with_format( iter_test )\n",
    "    \n",
    "    print(\"add_string_with_yield:\")\n",
    "    %timeit -r1 add_string_with_yield( iter_test )"
   ]
  },
  {
   "cell_type": "code",
   "execution_count": null,
   "id": "6c920a26",
   "metadata": {},
   "outputs": [],
   "source": [
    "convert_list_test( 10000 )"
   ]
  }
 ],
 "metadata": {
  "kernelspec": {
   "display_name": "Python 3 (ipykernel)",
   "language": "python",
   "name": "python3"
  },
  "language_info": {
   "codemirror_mode": {
    "name": "ipython",
    "version": 3
   },
   "file_extension": ".py",
   "mimetype": "text/x-python",
   "name": "python",
   "nbconvert_exporter": "python",
   "pygments_lexer": "ipython3",
   "version": "3.9.13"
  }
 },
 "nbformat": 4,
 "nbformat_minor": 5
}
