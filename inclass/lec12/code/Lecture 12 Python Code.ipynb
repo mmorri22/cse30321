{
 "cells": [
  {
   "cell_type": "markdown",
   "id": "4d4c20e8",
   "metadata": {},
   "source": [
    "## Lecture 12 Python Code\n",
    "\n",
    "We will run the logically equivalent loop in Python to the <a href = \"https://github.com/mmorri22/cse30321/blob/main/inclass/lec12/code/br_pre_no_sort.cpp\">br_pre_no_sort.cpp</a>, <a href = \"https://github.com/mmorri22/cse30321/blob/main/inclass/lec12/code/br_pre_sort.cpp\">br_pre_sort.cpp</a>, and <a href = \"https://github.com/mmorri22/cse30321/blob/main/inclass/lec12/code/br_pre_both.cpp\">br_pre_both.cpp</a> C++ programs.\n",
    "\n",
    "> <b>Note</b>: This is presented in class in comparison to the C++ benchmarks."
   ]
  },
  {
   "cell_type": "markdown",
   "id": "4442f12f",
   "metadata": {},
   "source": [
    "### Setup Cell\n",
    "\n",
    "Run this cell before running any of the test cells below. The reason is that the tests will have a new set of random integers instead of a re-sorted array. By resetting the array, you will get the best time comparisons."
   ]
  },
  {
   "cell_type": "code",
   "execution_count": 1,
   "id": "a11529e3",
   "metadata": {},
   "outputs": [],
   "source": [
    "import random\n",
    "import timeit\n",
    "\n",
    "arraySize = 32768"
   ]
  },
  {
   "cell_type": "code",
   "execution_count": 2,
   "id": "a346971c",
   "metadata": {},
   "outputs": [],
   "source": [
    "def get_data( arraySize ):\n",
    "\n",
    "    data = []\n",
    "\n",
    "    for c in range(0, arraySize):\n",
    "\n",
    "        data.append( random.randint(0,256) )\n",
    "        \n",
    "    return data"
   ]
  },
  {
   "cell_type": "code",
   "execution_count": 3,
   "id": "17fe5c93",
   "metadata": {},
   "outputs": [],
   "source": [
    "def time_loop_no_sort( data, arraySize, num_loops ):\n",
    "    \n",
    "    sum = 0\n",
    "    \n",
    "    for i in range(0, num_loops):\n",
    "        \n",
    "        for c in range(0, arraySize):\n",
    "            \n",
    "            if data[c] >= 128:\n",
    "                \n",
    "                sum += data[c]"
   ]
  },
  {
   "cell_type": "code",
   "execution_count": 4,
   "id": "bb55c0b3",
   "metadata": {},
   "outputs": [],
   "source": [
    "def time_loop_sort( data, arraySize, num_loops ):\n",
    "    \n",
    "    data_sort = sorted(data)\n",
    "    \n",
    "    sum = 0\n",
    "    \n",
    "    for i in range(0, num_loops):\n",
    "        \n",
    "        for c in range(0, arraySize):\n",
    "            \n",
    "            if data[c] >= 128:\n",
    "                \n",
    "                sum += data[c]"
   ]
  },
  {
   "cell_type": "markdown",
   "id": "c70bf993",
   "metadata": {},
   "source": [
    "## Lower Number of Loops\n",
    "\n",
    "When the number of loops is lows (1000), we see that the sort tends to dominate the run time"
   ]
  },
  {
   "cell_type": "markdown",
   "id": "7a97ee5b",
   "metadata": {},
   "source": [
    "### Test Cell 1\n",
    "\n",
    "Run this cell to perform the <code>br_pre_no_sort.cpp</code> equivalent"
   ]
  },
  {
   "cell_type": "code",
   "execution_count": 5,
   "id": "e03cd744",
   "metadata": {},
   "outputs": [
    {
     "name": "stdout",
     "output_type": "stream",
     "text": [
      "1.45 s ± 0 ns per loop (mean ± std. dev. of 1 run, 1 loop each)\n"
     ]
    }
   ],
   "source": [
    "data = get_data(arraySize)\n",
    "\n",
    "%timeit -r1 time_loop_no_sort( data, arraySize, 1000 )"
   ]
  },
  {
   "cell_type": "markdown",
   "id": "d027786d",
   "metadata": {},
   "source": [
    "### Test Cell 2\n",
    "\n",
    "Run this cell to perform the <code>br_pre_no_sort.cpp</code> equivalent"
   ]
  },
  {
   "cell_type": "code",
   "execution_count": 6,
   "id": "102e75d3",
   "metadata": {},
   "outputs": [
    {
     "name": "stdout",
     "output_type": "stream",
     "text": [
      "1.22 s ± 0 ns per loop (mean ± std. dev. of 1 run, 1 loop each)\n"
     ]
    }
   ],
   "source": [
    "data = get_data(arraySize)\n",
    "data_sort = sorted(data)\n",
    "\n",
    "%timeit -r1 time_loop_no_sort( data_sort, arraySize, 1000 )"
   ]
  },
  {
   "cell_type": "markdown",
   "id": "34b693ad",
   "metadata": {},
   "source": [
    "### Test Cell 3\n",
    "\n",
    "Run this cell to perform the <code>br_pre_both.cpp</code> equivalent"
   ]
  },
  {
   "cell_type": "code",
   "execution_count": 7,
   "id": "9ba97cc3",
   "metadata": {},
   "outputs": [
    {
     "name": "stdout",
     "output_type": "stream",
     "text": [
      "2.31 s ± 0 ns per loop (mean ± std. dev. of 1 run, 1 loop each)\n"
     ]
    }
   ],
   "source": [
    "data = get_data(arraySize)\n",
    "\n",
    "%timeit -r1 time_loop_sort( data, arraySize, 1000 )"
   ]
  },
  {
   "cell_type": "markdown",
   "id": "7948ade8",
   "metadata": {},
   "source": [
    "## Higher Number of Loops\n",
    "\n",
    "When the number of loops is lows (10000), we see that the branch prediction tends to dominate"
   ]
  },
  {
   "cell_type": "markdown",
   "id": "976bca02",
   "metadata": {},
   "source": [
    "### Test Cell 4\n",
    "\n",
    "Run this cell to perform the <code>br_pre_no_sort.cpp</code> equivalent"
   ]
  },
  {
   "cell_type": "code",
   "execution_count": 8,
   "id": "4a6502c8",
   "metadata": {},
   "outputs": [
    {
     "name": "stdout",
     "output_type": "stream",
     "text": [
      "4min 19s ± 0 ns per loop (mean ± std. dev. of 1 run, 1 loop each)\n"
     ]
    }
   ],
   "source": [
    "data = get_data(arraySize)\n",
    "\n",
    "%timeit -r1 time_loop_no_sort( data, arraySize, 100000 )"
   ]
  },
  {
   "cell_type": "markdown",
   "id": "5f645ca3",
   "metadata": {},
   "source": [
    "### Test Cell 5\n",
    "\n",
    "Run this cell to perform the <code>br_pre_no_sort.cpp</code> equivalent"
   ]
  },
  {
   "cell_type": "code",
   "execution_count": 11,
   "id": "68457c04",
   "metadata": {},
   "outputs": [
    {
     "name": "stdout",
     "output_type": "stream",
     "text": [
      "4min 5s ± 0 ns per loop (mean ± std. dev. of 1 run, 1 loop each)\n"
     ]
    }
   ],
   "source": [
    "data = get_data(arraySize)\n",
    "data_sort = sorted(data)\n",
    "\n",
    "%timeit -r1 time_loop_no_sort( data_sort, arraySize, 100000 )"
   ]
  },
  {
   "cell_type": "markdown",
   "id": "06578d00",
   "metadata": {},
   "source": [
    "### Test Cell 6\n",
    "\n",
    "Run this cell to perform the <code>br_pre_both.cpp</code> equivalent"
   ]
  },
  {
   "cell_type": "code",
   "execution_count": 10,
   "id": "0b845f63",
   "metadata": {},
   "outputs": [
    {
     "name": "stdout",
     "output_type": "stream",
     "text": [
      "4min 8s ± 0 ns per loop (mean ± std. dev. of 1 run, 1 loop each)\n"
     ]
    }
   ],
   "source": [
    "data = get_data(arraySize)\n",
    "\n",
    "%timeit -r1 time_loop_sort( data, arraySize, 100000 )"
   ]
  }
 ],
 "metadata": {
  "kernelspec": {
   "display_name": "Python 3 (ipykernel)",
   "language": "python",
   "name": "python3"
  },
  "language_info": {
   "codemirror_mode": {
    "name": "ipython",
    "version": 3
   },
   "file_extension": ".py",
   "mimetype": "text/x-python",
   "name": "python",
   "nbconvert_exporter": "python",
   "pygments_lexer": "ipython3",
   "version": "3.9.13"
  }
 },
 "nbformat": 4,
 "nbformat_minor": 5
}
