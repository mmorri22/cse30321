{
 "cells": [
  {
   "cell_type": "markdown",
   "id": "46220d6b",
   "metadata": {},
   "source": [
    "## Lecture 12 Python Code\n",
    "\n",
    "We will run the logically equivalent loop in Python to the <a href = \"https://github.com/mmorri22/cse30321/blob/main/inclass/lec12/code/br_pre_no_sort.cpp\">br_pre_no_sort.cpp</a>, <a href = \"https://github.com/mmorri22/cse30321/blob/main/inclass/lec12/code/br_pre_sort.cpp\">br_pre_sort.cpp</a>, and <a href = \"https://github.com/mmorri22/cse30321/blob/main/inclass/lec12/code/br_pre_both.cpp\">br_pre_both.cpp</a> C++ programs.\n",
    "\n",
    "> <b>Note</b>: This is presented in class in comparison to the C++ benchmarks."
   ]
  },
  {
   "cell_type": "markdown",
   "id": "f4b1fc45",
   "metadata": {},
   "source": [
    "### Setup Cell\n",
    "\n",
    "Run this cell before running any of the test cells below. The reason is that the tests will have a new set of random integers instead of a re-sorted array. By resetting the array, you will get the best time comparisons."
   ]
  },
  {
   "cell_type": "code",
   "execution_count": 1,
   "id": "2cb249bd",
   "metadata": {},
   "outputs": [],
   "source": [
    "import random"
   ]
  },
  {
   "cell_type": "code",
   "execution_count": 2,
   "id": "84f9a771",
   "metadata": {},
   "outputs": [],
   "source": [
    "def get_data( arraySize ):\n",
    "\n",
    "    data = []\n",
    "\n",
    "    for c in range(0, arraySize):\n",
    "\n",
    "        data.append( random.randint(0,256) )\n",
    "        \n",
    "    return data"
   ]
  },
  {
   "cell_type": "code",
   "execution_count": 3,
   "id": "0a0b77fa",
   "metadata": {},
   "outputs": [],
   "source": [
    "def time_loop_no_sort( data, arraySize ):\n",
    "    \n",
    "    sum = 0\n",
    "    \n",
    "    for i in range(0, 100000):\n",
    "        \n",
    "        for c in range(0, arraySize):\n",
    "            \n",
    "            if data[c] >= 128:\n",
    "                \n",
    "                sum += data[c]"
   ]
  },
  {
   "cell_type": "code",
   "execution_count": 4,
   "id": "ec0ba03d",
   "metadata": {},
   "outputs": [],
   "source": [
    "def time_loop_sort( data, arraySize ):\n",
    "    \n",
    "    data_sort = sorted(data)\n",
    "    \n",
    "    sum = 0\n",
    "    \n",
    "    for i in range(0, 100000):\n",
    "        \n",
    "        for c in range(0, arraySize):\n",
    "            \n",
    "            if data[c] >= 128:\n",
    "                \n",
    "                sum += data[c]"
   ]
  },
  {
   "cell_type": "markdown",
   "id": "ed755013",
   "metadata": {},
   "source": [
    "### Test Cell 1\n",
    "\n",
    "Run this cell to perform the <code>br_pre_no_sort.cpp</code> equivalent"
   ]
  },
  {
   "cell_type": "code",
   "execution_count": null,
   "id": "584ce3fc",
   "metadata": {},
   "outputs": [],
   "source": [
    "data = get_data(32768)\n",
    "\n",
    "%timeit time_loop_no_sort( data, 32768 )"
   ]
  },
  {
   "cell_type": "markdown",
   "id": "f96e09c4",
   "metadata": {},
   "source": [
    "### Test Cell 2\n",
    "\n",
    "Re-Run the first cell, and then run this cell to perform the <code>br_pre_no_sort.cpp</code> equivalent"
   ]
  },
  {
   "cell_type": "code",
   "execution_count": null,
   "id": "26bb3a11",
   "metadata": {},
   "outputs": [],
   "source": [
    "data = get_data(32768)\n",
    "data_sort = sorted(data)\n",
    "\n",
    "%timeit time_loop_no_sort( data_sort, 32768 )"
   ]
  },
  {
   "cell_type": "markdown",
   "id": "86d3e3ec",
   "metadata": {},
   "source": [
    "### Test Cell 3\n",
    "\n",
    "Re-Run the first cell, and then run this cell to perform the <code>br_pre_both.cpp</code> equivalent"
   ]
  },
  {
   "cell_type": "code",
   "execution_count": null,
   "id": "2d6cc02c",
   "metadata": {},
   "outputs": [],
   "source": [
    "data = get_data(32768)\n",
    "\n",
    "%timeit time_loop_sort( data, arraySize )"
   ]
  }
 ],
 "metadata": {
  "kernelspec": {
   "display_name": "Python 3 (ipykernel)",
   "language": "python",
   "name": "python3"
  },
  "language_info": {
   "codemirror_mode": {
    "name": "ipython",
    "version": 3
   },
   "file_extension": ".py",
   "mimetype": "text/x-python",
   "name": "python",
   "nbconvert_exporter": "python",
   "pygments_lexer": "ipython3",
   "version": "3.9.13"
  }
 },
 "nbformat": 4,
 "nbformat_minor": 5
}
