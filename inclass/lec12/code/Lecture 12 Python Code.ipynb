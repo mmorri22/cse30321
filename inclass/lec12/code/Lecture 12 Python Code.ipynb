{
 "cells": [
  {
   "cell_type": "markdown",
   "id": "393960dc",
   "metadata": {},
   "source": [
    "## Lecture 12 Python Code\n",
    "\n",
    "We will run the logically equivalent loop in Python to the <a href = \"https://github.com/mmorri22/cse30321/blob/main/inclass/lec12/code/br_pre_no_sort.cpp\">br_pre_no_sort.cpp</a>, <a href = \"https://github.com/mmorri22/cse30321/blob/main/inclass/lec12/code/br_pre_sort.cpp\">br_pre_sort.cpp</a>, and <a href = \"https://github.com/mmorri22/cse30321/blob/main/inclass/lec12/code/br_pre_both.cpp\">br_pre_both.cpp</a> C++ programs.\n",
    "\n",
    "> <b>Note</b>: This is presented in class in comparison to the C++ benchmarks."
   ]
  },
  {
   "cell_type": "markdown",
   "id": "45050fa6",
   "metadata": {},
   "source": [
    "### Setup Cell\n",
    "\n",
    "Run this cell before running any of the test cells below. The reason is that the tests will have a new set of random integers instead of a re-sorted array. By resetting the array, you will get the best time comparisons."
   ]
  },
  {
   "cell_type": "code",
   "execution_count": 1,
   "id": "f01339ec",
   "metadata": {},
   "outputs": [],
   "source": [
    "import random\n",
    "import timeit\n",
    "\n",
    "arraySize = 32768"
   ]
  },
  {
   "cell_type": "code",
   "execution_count": 2,
   "id": "5cd89387",
   "metadata": {},
   "outputs": [],
   "source": [
    "def get_data( arraySize ):\n",
    "\n",
    "    data = []\n",
    "\n",
    "    for c in range(0, arraySize):\n",
    "\n",
    "        data.append( random.randint(0,256) )\n",
    "        \n",
    "    return data"
   ]
  },
  {
   "cell_type": "code",
   "execution_count": 3,
   "id": "55c84e4d",
   "metadata": {},
   "outputs": [],
   "source": [
    "def time_loop_no_sort( data, arraySize, num_loops ):\n",
    "    \n",
    "    sum = 0\n",
    "    \n",
    "    for i in range(0, num_loops):\n",
    "        \n",
    "        for c in range(0, arraySize):\n",
    "            \n",
    "            if data[c] >= 128:\n",
    "                \n",
    "                sum += data[c]"
   ]
  },
  {
   "cell_type": "code",
   "execution_count": 4,
   "id": "998fbec7",
   "metadata": {},
   "outputs": [],
   "source": [
    "def time_loop_sort( data, arraySize, num_loops ):\n",
    "    \n",
    "    data_sort = sorted(data)\n",
    "    \n",
    "    sum = 0\n",
    "    \n",
    "    for i in range(0, num_loops):\n",
    "        \n",
    "        for c in range(0, arraySize):\n",
    "            \n",
    "            if data[c] >= 128:\n",
    "                \n",
    "                sum += data[c]"
   ]
  },
  {
   "cell_type": "markdown",
   "id": "2697bb3b",
   "metadata": {},
   "source": [
    "## Lower Number of Loops\n",
    "\n",
    "When the number of loops is lows (1000), we see that the sort tends to dominate the run time"
   ]
  },
  {
   "cell_type": "markdown",
   "id": "f0715c5c",
   "metadata": {},
   "source": [
    "### Test Cell 1\n",
    "\n",
    "Run this cell to perform the <code>br_pre_no_sort.cpp</code> equivalent"
   ]
  },
  {
   "cell_type": "code",
   "execution_count": 5,
   "id": "b4e0c5a6",
   "metadata": {},
   "outputs": [
    {
     "name": "stdout",
     "output_type": "stream",
     "text": [
      "1.45 s ± 0 ns per loop (mean ± std. dev. of 1 run, 1 loop each)\n"
     ]
    }
   ],
   "source": [
    "data = get_data(arraySize)\n",
    "\n",
    "%timeit -r1 time_loop_no_sort( data, arraySize, 1000 )"
   ]
  },
  {
   "cell_type": "markdown",
   "id": "a7d22d83",
   "metadata": {},
   "source": [
    "### Test Cell 2\n",
    "\n",
    "Run this cell to perform the <code>br_pre_no_sort.cpp</code> equivalent"
   ]
  },
  {
   "cell_type": "code",
   "execution_count": 6,
   "id": "9ebf2dda",
   "metadata": {},
   "outputs": [
    {
     "name": "stdout",
     "output_type": "stream",
     "text": [
      "1.22 s ± 0 ns per loop (mean ± std. dev. of 1 run, 1 loop each)\n"
     ]
    }
   ],
   "source": [
    "data = get_data(arraySize)\n",
    "data_sort = sorted(data)\n",
    "\n",
    "%timeit -r1 time_loop_no_sort( data_sort, arraySize, 1000 )"
   ]
  },
  {
   "cell_type": "markdown",
   "id": "f3ef353c",
   "metadata": {},
   "source": [
    "### Test Cell 3\n",
    "\n",
    "Run this cell to perform the <code>br_pre_both.cpp</code> equivalent"
   ]
  },
  {
   "cell_type": "code",
   "execution_count": 7,
   "id": "076455a2",
   "metadata": {},
   "outputs": [
    {
     "name": "stdout",
     "output_type": "stream",
     "text": [
      "2.31 s ± 0 ns per loop (mean ± std. dev. of 1 run, 1 loop each)\n"
     ]
    }
   ],
   "source": [
    "data = get_data(arraySize)\n",
    "\n",
    "%timeit -r1 time_loop_sort( data, arraySize, 1000 )"
   ]
  },
  {
   "cell_type": "markdown",
   "id": "c1dcb5dc",
   "metadata": {},
   "source": [
    "## Higher Number of Loops\n",
    "\n",
    "When the number of loops is lows (10000), we see that the branch prediction tends to dominate"
   ]
  },
  {
   "cell_type": "markdown",
   "id": "546b8be9",
   "metadata": {},
   "source": [
    "### Test Cell 4\n",
    "\n",
    "Run this cell to perform the <code>br_pre_no_sort.cpp</code> equivalent"
   ]
  },
  {
   "cell_type": "code",
   "execution_count": 8,
   "id": "f027dbd0",
   "metadata": {},
   "outputs": [
    {
     "name": "stdout",
     "output_type": "stream",
     "text": [
      "4min 19s ± 0 ns per loop (mean ± std. dev. of 1 run, 1 loop each)\n"
     ]
    }
   ],
   "source": [
    "data = get_data(arraySize)\n",
    "\n",
    "%timeit -r1 time_loop_no_sort( data, arraySize, 100000 )"
   ]
  },
  {
   "cell_type": "markdown",
   "id": "c9328e79",
   "metadata": {},
   "source": [
    "### Test Cell 5\n",
    "\n",
    "Run this cell to perform the <code>br_pre_no_sort.cpp</code> equivalent"
   ]
  },
  {
   "cell_type": "code",
   "execution_count": null,
   "id": "7d88a5cc",
   "metadata": {},
   "outputs": [],
   "source": [
    "data = get_data(arraySize)\n",
    "data_sort = sorted(data)\n",
    "\n",
    "%timeit -r1 time_loop_no_sort( data_sort, arraySize, 100000 )"
   ]
  },
  {
   "cell_type": "markdown",
   "id": "789148e3",
   "metadata": {},
   "source": [
    "### Test Cell 6\n",
    "\n",
    "Run this cell to perform the <code>br_pre_both.cpp</code> equivalent"
   ]
  },
  {
   "cell_type": "code",
   "execution_count": 10,
   "id": "fe85e749",
   "metadata": {},
   "outputs": [
    {
     "name": "stdout",
     "output_type": "stream",
     "text": [
      "4min 8s ± 0 ns per loop (mean ± std. dev. of 1 run, 1 loop each)\n"
     ]
    }
   ],
   "source": [
    "data = get_data(arraySize)\n",
    "\n",
    "%timeit -r1 time_loop_sort( data, arraySize, 100000 )"
   ]
  }
 ],
 "metadata": {
  "kernelspec": {
   "display_name": "Python 3 (ipykernel)",
   "language": "python",
   "name": "python3"
  },
  "language_info": {
   "codemirror_mode": {
    "name": "ipython",
    "version": 3
   },
   "file_extension": ".py",
   "mimetype": "text/x-python",
   "name": "python",
   "nbconvert_exporter": "python",
   "pygments_lexer": "ipython3",
   "version": "3.9.13"
  }
 },
 "nbformat": 4,
 "nbformat_minor": 5
}
