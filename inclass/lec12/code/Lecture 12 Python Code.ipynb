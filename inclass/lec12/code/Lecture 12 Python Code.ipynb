{
 "cells": [
  {
   "cell_type": "markdown",
   "id": "8471d51a",
   "metadata": {},
   "source": [
    "## Lecture 12 Python Code\n",
    "\n",
    "We will run the logically equivalent loop in Python to the <a href = \"https://github.com/mmorri22/cse30321/blob/main/inclass/lec12/code/br_pre_no_sort.cpp\">br_pre_no_sort.cpp</a>, <a href = \"https://github.com/mmorri22/cse30321/blob/main/inclass/lec12/code/br_pre_sort.cpp\">br_pre_sort.cpp</a>, and <a href = \"https://github.com/mmorri22/cse30321/blob/main/inclass/lec12/code/br_pre_both.cpp\">br_pre_both.cpp</a> C++ programs.\n",
    "\n",
    "> <b>Note</b>: This is presented in class in comparison to the C++ benchmarks."
   ]
  },
  {
   "cell_type": "markdown",
   "id": "3f6db446",
   "metadata": {},
   "source": [
    "### Setup Cell\n",
    "\n",
    "Run this cell before running any of the test cells below. The reason is that the tests will have a new set of random integers instead of a re-sorted array. By resetting the array, you will get the best time comparisons."
   ]
  },
  {
   "cell_type": "code",
   "execution_count": 1,
   "id": "43950564",
   "metadata": {},
   "outputs": [],
   "source": [
    "import random\n",
    "import timeit\n",
    "\n",
    "arraySize = 32768"
   ]
  },
  {
   "cell_type": "code",
   "execution_count": 2,
   "id": "4b38dc6c",
   "metadata": {},
   "outputs": [],
   "source": [
    "def get_data( arraySize ):\n",
    "\n",
    "    data = []\n",
    "\n",
    "    for c in range(0, arraySize):\n",
    "\n",
    "        data.append( random.randint(0,256) )\n",
    "        \n",
    "    return data"
   ]
  },
  {
   "cell_type": "code",
   "execution_count": 3,
   "id": "3f72b4c4",
   "metadata": {},
   "outputs": [],
   "source": [
    "def time_loop_no_sort( data, arraySize, num_loops ):\n",
    "    \n",
    "    sum = 0\n",
    "    \n",
    "    for i in range(0, num_loops):\n",
    "        \n",
    "        for c in range(0, arraySize):\n",
    "            \n",
    "            if data[c] >= 128:\n",
    "                \n",
    "                sum += data[c]"
   ]
  },
  {
   "cell_type": "code",
   "execution_count": 4,
   "id": "0d4e6729",
   "metadata": {},
   "outputs": [],
   "source": [
    "def time_loop_sort( data, arraySize, num_loops ):\n",
    "    \n",
    "    data_sort = sorted(data)\n",
    "    \n",
    "    sum = 0\n",
    "    \n",
    "    for i in range(0, num_loops):\n",
    "        \n",
    "        for c in range(0, arraySize):\n",
    "            \n",
    "            if data[c] >= 128:\n",
    "                \n",
    "                sum += data[c]"
   ]
  },
  {
   "cell_type": "markdown",
   "id": "88c4f498",
   "metadata": {},
   "source": [
    "## Lower Number of Loops\n",
    "\n",
    "When the number of loops is lows (1000), we see that the sort tends to dominate the run time"
   ]
  },
  {
   "cell_type": "markdown",
   "id": "8b707fff",
   "metadata": {},
   "source": [
    "### Test Cell 1\n",
    "\n",
    "Run this cell to perform the <code>br_pre_no_sort.cpp</code> equivalent"
   ]
  },
  {
   "cell_type": "code",
   "execution_count": 5,
   "id": "12190f4d",
   "metadata": {},
   "outputs": [
    {
     "name": "stdout",
     "output_type": "stream",
     "text": [
      "1.45 s ± 0 ns per loop (mean ± std. dev. of 1 run, 1 loop each)\n"
     ]
    }
   ],
   "source": [
    "data = get_data(arraySize)\n",
    "\n",
    "%timeit -r1 time_loop_no_sort( data, arraySize, 1000 )"
   ]
  },
  {
   "cell_type": "markdown",
   "id": "df6ddbec",
   "metadata": {},
   "source": [
    "### Test Cell 2\n",
    "\n",
    "Run this cell to perform the <code>br_pre_no_sort.cpp</code> equivalent"
   ]
  },
  {
   "cell_type": "code",
   "execution_count": 6,
   "id": "1d3ae7ae",
   "metadata": {},
   "outputs": [
    {
     "name": "stdout",
     "output_type": "stream",
     "text": [
      "1.22 s ± 0 ns per loop (mean ± std. dev. of 1 run, 1 loop each)\n"
     ]
    }
   ],
   "source": [
    "data = get_data(arraySize)\n",
    "data_sort = sorted(data)\n",
    "\n",
    "%timeit -r1 time_loop_no_sort( data_sort, arraySize, 1000 )"
   ]
  },
  {
   "cell_type": "markdown",
   "id": "496cf958",
   "metadata": {},
   "source": [
    "### Test Cell 3\n",
    "\n",
    "Run this cell to perform the <code>br_pre_both.cpp</code> equivalent"
   ]
  },
  {
   "cell_type": "code",
   "execution_count": 7,
   "id": "a6e99b69",
   "metadata": {},
   "outputs": [
    {
     "name": "stdout",
     "output_type": "stream",
     "text": [
      "2.31 s ± 0 ns per loop (mean ± std. dev. of 1 run, 1 loop each)\n"
     ]
    }
   ],
   "source": [
    "data = get_data(arraySize)\n",
    "\n",
    "%timeit -r1 time_loop_sort( data, arraySize, 1000 )"
   ]
  },
  {
   "cell_type": "markdown",
   "id": "b028a877",
   "metadata": {},
   "source": [
    "## Higher Number of Loops\n",
    "\n",
    "When the number of loops is lows (10000), we see that the branch prediction tends to dominate"
   ]
  },
  {
   "cell_type": "markdown",
   "id": "097640ab",
   "metadata": {},
   "source": [
    "### Test Cell 4\n",
    "\n",
    "Run this cell to perform the <code>br_pre_no_sort.cpp</code> equivalent"
   ]
  },
  {
   "cell_type": "code",
   "execution_count": 8,
   "id": "c10da825",
   "metadata": {},
   "outputs": [
    {
     "name": "stdout",
     "output_type": "stream",
     "text": [
      "4min 19s ± 0 ns per loop (mean ± std. dev. of 1 run, 1 loop each)\n"
     ]
    }
   ],
   "source": [
    "data = get_data(arraySize)\n",
    "\n",
    "%timeit -r1 time_loop_no_sort( data, arraySize, 100000 )"
   ]
  },
  {
   "cell_type": "markdown",
   "id": "126e49f5",
   "metadata": {},
   "source": [
    "### Test Cell 5\n",
    "\n",
    "Run this cell to perform the <code>br_pre_no_sort.cpp</code> equivalent"
   ]
  },
  {
   "cell_type": "code",
   "execution_count": 9,
   "id": "4818d339",
   "metadata": {},
   "outputs": [
    {
     "name": "stdout",
     "output_type": "stream",
     "text": [
      "4min 19s ± 0 ns per loop (mean ± std. dev. of 1 run, 1 loop each)\n"
     ]
    }
   ],
   "source": [
    "data = get_data(arraySize)\n",
    "data_sort = sorted(data)\n",
    "\n",
    "%timeit -r1 time_loop_no_sort( data_sort, arraySize, 100000 )"
   ]
  },
  {
   "cell_type": "markdown",
   "id": "2474b405",
   "metadata": {},
   "source": [
    "### Test Cell 6\n",
    "\n",
    "Run this cell to perform the <code>br_pre_both.cpp</code> equivalent"
   ]
  },
  {
   "cell_type": "code",
   "execution_count": 10,
   "id": "681c37fd",
   "metadata": {},
   "outputs": [
    {
     "name": "stdout",
     "output_type": "stream",
     "text": [
      "4min 8s ± 0 ns per loop (mean ± std. dev. of 1 run, 1 loop each)\n"
     ]
    }
   ],
   "source": [
    "data = get_data(arraySize)\n",
    "\n",
    "%timeit -r1 time_loop_sort( data, arraySize, 100000 )"
   ]
  }
 ],
 "metadata": {
  "kernelspec": {
   "display_name": "Python 3 (ipykernel)",
   "language": "python",
   "name": "python3"
  },
  "language_info": {
   "codemirror_mode": {
    "name": "ipython",
    "version": 3
   },
   "file_extension": ".py",
   "mimetype": "text/x-python",
   "name": "python",
   "nbconvert_exporter": "python",
   "pygments_lexer": "ipython3",
   "version": "3.9.13"
  }
 },
 "nbformat": 4,
 "nbformat_minor": 5
}
