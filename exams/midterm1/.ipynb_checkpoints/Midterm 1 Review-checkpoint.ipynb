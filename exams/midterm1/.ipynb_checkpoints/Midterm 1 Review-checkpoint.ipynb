{
 "cells": [
  {
   "cell_type": "markdown",
   "id": "4e321917",
   "metadata": {},
   "source": [
    "# Midterm 1 Review\n",
    "\n",
    "<b>Date</b>: Thursday, 2/15/2024 <br>\n",
    "<b>Time Frame</b>: 11:00am - 12:15pm<br>\n",
    "<b>Location</b>: DeBartolo 116<br>"
   ]
  },
  {
   "cell_type": "markdown",
   "id": "6ee06c3e",
   "metadata": {},
   "source": [
    "## Administrative Details\n",
    "\n",
    "Read these administrative notes regarding the Exam carefully.\n",
    "\n",
    "<ol>\n",
    "    <li><b>Closed</b> book, laptop, cellphone, notes, <s>mind</s>.</li>\n",
    "    <li>You will be permitted the use of a <b>calculator</b> <u>for the Performance question only</u>. It is possible to earn full credit on the Problem without the use of a calculator. Memory <i>must be cleared</i> prior to the start of the Exam.</li>\n",
    "    <li>You will be provided a fresh copy of the <a href = \"https://github.com/mmorri22/cse30321/blob/main/documents/Minimized%20Green%20Sheet%20for%20Exam%201%20Questions.pdf\">Miminized RISC-V Green Sheet</a> identical to the one we reviewed in lecture. You may keep or dispose of the sheet after the Exam however you wish.</li>\n",
    "    <li>The exam will begin once everyone has <b>all unauthorized materials put away at 11:00am</b>. They must be transparent to the exam taker, not visible.</li>\n",
    "    <li>Yes, that was a lame Computer Architecture/Organization joke</li>\n",
    "    <li>The exam period will be <b>concluded promptly at 12:15pm</b>. No extensions may be granted other than through the <a href = \"https://supportandcare.nd.edu/for-students/\">Sara Bea Accessibility Services center</a>.</li>\n",
    "</ol>"
   ]
  },
  {
   "cell_type": "markdown",
   "id": "467cb73c",
   "metadata": {},
   "source": [
    "## Exam Coverage\n",
    "\n",
    "Midterm Exam 1 <b>will</b> cover the following content from <a href = \"https://canvas.nd.edu/courses/82217/pages/lecture-notes-and-schedule\">Lecture Notes and Schedule</a> page:\n",
    "<ul>\n",
    "    <li>Lectures 00 - 07</li>\n",
    "    <li>Reading Assignments 01 - 04</li>\n",
    "</ul>\n",
    "\n",
    "Midterm Exam 1 <b>not</b> cover Lecture 08 (Singly-Linked List design) nor Reading 05 (Introduction to Pipelining)."
   ]
  },
  {
   "cell_type": "markdown",
   "id": "96018ef1",
   "metadata": {},
   "source": [
    "## Exam Content\n",
    "\n",
    "In these exam reviews, I will detail critical information about the content which you will be evaluated. You will be responsible for developing review problem solutions for your own studies (meaning I will not be posting a \"Review Key\").\n",
    "\n",
    "These details include:\n",
    "\n",
    "<ul>\n",
    "    <li>The <b>scope</b> of the question(s)</li>\n",
    "    <li><b>Previous examples</b> we have covered in class or the homework assignments that will prepare you for the problem(s)</li>\n",
    "    <li>Any <b>notes</b>, <b>requirements</b>, or <b>hints</b> that will be provided on the Exam so you know the verbatim expectations</li>\n",
    "    <li><b>Key insights</b> into the objectives and methods of the examination</li>\n",
    "</ul>"
   ]
  },
  {
   "cell_type": "markdown",
   "id": "2a1c67ec",
   "metadata": {},
   "source": [
    "## Part 1 - Reading and Lecture Review\n",
    "\n",
    "<b>Scope</b>: Word problems where students demonstrate fundamental understanding of Computer Architecture concepts.\n",
    "\n",
    "<b>Previous Examples</b>:\n",
    "\n",
    "Part 1 will be a <i>subset</i> of the following concepts.\n",
    "\n",
    "<ul>\n",
    "    <li>Homework 1 - Problem 1</li>\n",
    "    <li>Homework 1 - Problem 3</li>\n",
    "    <li>Homework 1 - Problem 5</li>\n",
    "    <li>Homework 2 - Problem 1</li>\n",
    "    <li>Homework 2 - Problem 2</li>\n",
    "    <li>Homework 3 - Problem 1</li>\n",
    "    <li>Homework 3 - Problem 3</li>\n",
    "</ul>\n",
    "\n",
    "<b>Notes, Requirements, or Hints</b>:\n",
    "\n",
    "<ul>\n",
    "    <li>Problem statements with <b>\"in your own words\"</b> will be part of this statement \"<b>Concisely describe</b> in your own words, <b>in no more than 2-3 sentences</b>, ...\". This statement is to indicate that you do not need to write several paragraphs to answer.</li> \n",
    "</ul>\n",
    "\n",
    "<b>Key Insights</b>: \n",
    "<ul>\n",
    "    <li>Focus on <b>understanding</b> the ideas. A problem like Homework 1 - Problem 1 is good to memorize just because there is a clear right answer. For a problem like Homework 3 - Problem 3, focus your efforts on conveying your understanding concisely. Simple demonstration of understanding is sufficient for credit in these cases.</li>\n",
    "    <li>Be sure to focus on conciseness so you can focus your other efforts on other Exam problems.</li>\n",
    "</ul>\n"
   ]
  },
  {
   "cell_type": "markdown",
   "id": "c3589b9d",
   "metadata": {},
   "source": [
    "## Part 2 - Computing Performance\n",
    "\n",
    "<b>Scope</b>: There will be a comprehensive problem where students will calculate the performance of a computer architecture based on a set of key metrics.\n",
    "\n",
    "<b>Previous Examples</b>:\n",
    "<ul>\n",
    "    <li>Practicing the basics: In-Class Lecture 04 Solutions</li>\n",
    "    <li>Lecture 02 - Computing Performance - Problem 4</li>\n",
    "    <li>Lecture 02 - Computing Performance - Problem 6</li>\n",
    "    <li>Homework 2 - Problem 4</li>\n",
    "    <li>Homework 2 - Problem 5</li>\n",
    "</ul>\n",
    "\n",
    "<b>Notes, Requirements, or Hints</b>:\n",
    "<ul>\n",
    "    <li></li>\n",
    "</ul>\n",
    "\n",
    "<b>Key Insights</b>: \n",
    "<ul>\n",
    "    <li>Remember the importance of Amdahl's Law, that improving the performance of a portion of the ISA does not mean the entire performance is improved by the same amount.</li>\n",
    "    <li>The focus of the grading is on your demonstration of understanding of the set up of the equations. Fewer points are for producing the exact numeric result. If you forget your calculator on the day of the Exam, it is still possible to earn full credit</li>\n",
    "</ul>"
   ]
  },
  {
   "cell_type": "markdown",
   "id": "c375c2c0",
   "metadata": {},
   "source": [
    "## Part 3 - RISC-V Assembly Language Fundamentals\n",
    "\n",
    "<b>Scope</b>:\n",
    "\n",
    "<b>Previous Examples</b>:\n",
    "<ul>\n",
    "    <li>Homework 2 - Problem 7</li>\n",
    "    <li>Homework 2 - Problem 8</li>\n",
    "</ul>\n",
    "\n",
    "<b>Notes, Requirements, or Hints</b>:\n",
    "<ul>\n",
    "    <li>For the exam, converting to encoding will not be required</li>\n",
    "    <li>For this problem, the statement \"You are required to calculate the byte offset for branching instructions for this problem. The use of labels will not be granted credit by themselves.\"</li>\n",
    "</ul>\n",
    "\n",
    "<b>Key Insights</b>: \n",
    "<ul>\n",
    "    <li>You will be evaluated on your understanding of RISC-</li>\n",
    "    <li>Practice for this problem using the Reduced RISC-V Green Sheet on the Documents page. All information you would need to solve the problem is provided on the Green Sheet.</li>\n",
    "    <li>Practice using <code># comments</code>, particulary when keeping track of which temporary registers are being used for a specific purpose. This approach will help the grader <b>understand your intent</b>, ensuring grading that reflects your understanding with minimal regrading.</li> \n",
    "</ul>"
   ]
  },
  {
   "cell_type": "markdown",
   "id": "a296bd9f",
   "metadata": {},
   "source": [
    "## Part 4 - RISC-V Assembly Language and Procedures\n",
    "\n",
    "<b>Scope</b>:\n",
    "\n",
    "<b>Previous Examples</b>:\n",
    "<ul>\n",
    "    <li></li>\n",
    "</ul>\n",
    "\n",
    "<b>Notes, Requirements, or Hints</b>:\n",
    "<ul>\n",
    "    <li>For the exam, converting to encoding will not be required</li>\n",
    "</ul>\n",
    "\n",
    "<b>Key Insights</b>: \n",
    "<ul>\n",
    "    <li>For this problem, the statement \"You are permitted to use labels for this problem involving RISC-V procedures. You are not required to calculate the byte offset for branching instructions for this problem.\"</li>\n",
    "    <li>Practice for this problem using the Reduced RISC-V Green Sheet on the Documents page. All information you would need to solve the problem is provided on the Green Sheet.</li>\n",
    "    <li>Practice using <code># comments</code>, particulary when keeping track of which temporary registers are being used for a specific purpose. This approach will help the grader <b>understand your intent</b>, ensuring grading that reflects your understanding with minimal regrading.</li> \n",
    "</ul> "
   ]
  },
  {
   "cell_type": "markdown",
   "id": "3264b316",
   "metadata": {},
   "source": [
    "## Part 5 - C Struct Alignment Problem\n",
    "\n",
    "<b>Scope</b>:\n",
    "\n",
    "<b>Previous Examples</b>:\n",
    "<ul>\n",
    "    <li>In-Class Lecture 05 C Struct Optimization Solution</li>\n",
    "    <li>Homework 03 - Problem 7</li>\n",
    "</ul>\n",
    "\n",
    "<b>Notes, Requirements, or Hints</b>:\n",
    "<ul>\n",
    "    <li>The details of <code>gcc</code>, the <code>x86</code> architecture, and the Ubuntu 22.02 operating systems in the problem are included to maintain consistency with the examples from class and the homework assignment, and to reinforce the concepts of knowledgable performance benchmarking. They will not be different on the Exam.</li>\n",
    "</ul>\n",
    "\n",
    "<b>Key Insights</b>: \n",
    "<ul>\n",
    "    <li>The objective of this problem is to give the student the opportunity to demonstrate their understanding of how the <b>Principle of Locality</b> impacts computing performance at <i>both</i> the <b>architectural</b> and <b>operating systems</b> <u>levels of abstraction</u>.</li>\n",
    "</ul> "
   ]
  },
  {
   "cell_type": "markdown",
   "id": "faa35544",
   "metadata": {},
   "source": [
    "## Part 6 - RISC-V Single Cycle Propagation of Signals\n",
    "\n",
    "<b>Scope</b>:\n",
    "\n",
    "<b>Previous Examples</b>:\n",
    "<ul>\n",
    "    <li>Lecture 06 - R-Type (add) Single Cycle Example Solution</li>\n",
    "    <li>Lecture 07 - Single Cycle In-Class Solutions</li>\n",
    "</ul>\n",
    "\n",
    "<b>Notes, Requirements, or Hints</b>:\n",
    "<ul>\n",
    "    <li>For any <b>R-type</b> instruction version of this problem, you are welcome to put <b>don't care</b> values <b>(X)</b> in boxes 8, 13, and 14, since those values require a detailed design understanding of the Immediate Generate and ALU, which is outside the scope of this course.</li>\n",
    "    <li>For any <b>I-type</b>, or <b>SB-type</b> instruction version of this problem, you are welcome to put <b>don't care</b> values <b>(X)</b> in boxes 13 and 14, since you are not evaluating branch. You should still fill out box 8 to indicate the value of the immediate (which will be the same as the immediate for the instruction).</li>\n",
    "</ul>\n",
    "\n",
    "<b>Key Insights</b>: \n",
    "<ul>\n",
    "    <li>The objective of showing the flow of data in these problems, is to give the student the opportunity to demonstrate their understanding of the <b>four design principles</b>, specifically that using control signals to decide between to created results promotes <b>simplicity favoring regularity</b> and for ALUOp and the 4-bit signal that <b>making the common case fast</b>.</li>\n",
    "    <li>Practice for this problem using the Reduced RISC-V Green Sheet on the Documents page. All information you would need to solve the problem is provided on the Green Sheet.</li>\n",
    "</ul>"
   ]
  },
  {
   "cell_type": "code",
   "execution_count": null,
   "id": "31046349",
   "metadata": {},
   "outputs": [],
   "source": []
  }
 ],
 "metadata": {
  "kernelspec": {
   "display_name": "Python 3 (ipykernel)",
   "language": "python",
   "name": "python3"
  },
  "language_info": {
   "codemirror_mode": {
    "name": "ipython",
    "version": 3
   },
   "file_extension": ".py",
   "mimetype": "text/x-python",
   "name": "python",
   "nbconvert_exporter": "python",
   "pygments_lexer": "ipython3",
   "version": "3.9.13"
  }
 },
 "nbformat": 4,
 "nbformat_minor": 5
}
