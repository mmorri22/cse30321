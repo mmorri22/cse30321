{
 "cells": [
  {
   "cell_type": "markdown",
   "id": "4e321917",
   "metadata": {},
   "source": [
    "# Midterm 1 Review\n",
    "\n",
    "<b>Date</b>: Thursday, 2/15/2024 <br>\n",
    "<b>Time Frame</b>: 11:00am - 12:15pm<br>\n",
    "<b>Location</b>: DeBartolo 116<br>"
   ]
  },
  {
   "cell_type": "markdown",
   "id": "6ee06c3e",
   "metadata": {},
   "source": [
    "## Administrative Details\n",
    "\n",
    "Read these administrative notes regarding the Exam carefully.\n",
    "\n",
    "<ol>\n",
    "    <li><b>Closed</b> book, laptop, cellphone, notes, <s>mind</s>.</li>\n",
    "    <li>You will be permitted the use of a <b>calculator</b> <u>for the Performance question only</u>. It is possible to earn full credit on the Problem without the use of a calculator. Memory <i>must be cleared</i> prior to the start of the Exam.</li>\n",
    "    <li>You will be provided a fresh copy of the <a href = \"https://github.com/mmorri22/cse30321/blob/main/documents/Minimized%20Green%20Sheet%20for%20Exam%201%20Questions.pdf\">Miminized RISC-V Green Sheet</a> identical to the one we reviewed in lecture. You may keep or dispose of the sheet after the Exam however you wish.</li>\n",
    "    <li>The exam will begin once everyone has <b>all unauthorized materials put away at 11:00am</b>. They must be transparent to the exam taker, not visible.</li>\n",
    "    <li>Yes, that was a lame Computer Architecture/Organization joke</li>\n",
    "    <li>The exam period will be <b>concluded promptly at 12:15pm</b>. No extensions may be granted other than through the <a href = \"https://supportandcare.nd.edu/for-students/\">Sara Bea Accessibility Services center</a>.</li>\n",
    "</ol>"
   ]
  },
  {
   "cell_type": "markdown",
   "id": "96018ef1",
   "metadata": {},
   "source": [
    "## Exam Content\n",
    "\n",
    "In these exam reviews, I will detail critical information about the content which you will be evaluated. You will be responsible for developing review problem solutions for your own studies (meaning I will not be posting a \"Review Key\").\n",
    "\n",
    "These details include:\n",
    "\n",
    "<ul>\n",
    "    <li>The <b>scope</b> of the question(s)</li>\n",
    "    <li><b>Previous examples</b> we have covered in class or the homework assignments that will prepare you for the problem(s)</li>\n",
    "    <li>Any <b>notes</b>, <b>requirements</b>, or <b>hints</b> that will be provided on the Exam so you know the verbatim expectations</li>\n",
    "    <li><b>Key insights</b> into the objectives and methods of the examination</li>\n",
    "</ul>"
   ]
  },
  {
   "cell_type": "markdown",
   "id": "2a1c67ec",
   "metadata": {},
   "source": [
    "## Part 1 - Reading and Lecture Review\n",
    "\n",
    "<b>Scope</b>:\n",
    "\n",
    "<b>Previous Examples</b>:\n",
    "\n",
    "<ul>\n",
    "    <li></li>\n",
    "</ul>\n",
    "\n",
    "<b>Notes, Requirements, or Hints</b>:\n",
    "\n",
    "<b>Key Insights</b>: "
   ]
  },
  {
   "cell_type": "markdown",
   "id": "c3589b9d",
   "metadata": {},
   "source": [
    "## Part 2 - Computing Performance\n",
    "\n",
    "<b>Scope</b>:\n",
    "\n",
    "<b>Previous Examples</b>:\n",
    "\n",
    "<ul>\n",
    "    <li></li>\n",
    "</ul>\n",
    "\n",
    "<b>Notes, Requirements, or Hints</b>:\n",
    "\n",
    "<b>Key Insights</b>: "
   ]
  },
  {
   "cell_type": "markdown",
   "id": "c375c2c0",
   "metadata": {},
   "source": [
    "## Part 3 - RISC-V Assembly Language and Encoding\n",
    "\n",
    "<b>Scope</b>:\n",
    "\n",
    "<b>Previous Examples</b>:\n",
    "\n",
    "<ul>\n",
    "    <li></li>\n",
    "</ul>\n",
    "\n",
    "<b>Notes, Requirements, or Hints</b>:\n",
    "\n",
    "<b>Key Insights</b>: "
   ]
  },
  {
   "cell_type": "markdown",
   "id": "a296bd9f",
   "metadata": {},
   "source": [
    "## Part 4 - RISC-V Assembly Language and Procedures\n",
    "\n",
    "<b>Scope</b>:\n",
    "\n",
    "<b>Previous Examples</b>:\n",
    "\n",
    "<ul>\n",
    "    <li></li>\n",
    "</ul>\n",
    "\n",
    "<b>Notes, Requirements, or Hints</b>:\n",
    "\n",
    "<b>Key Insights</b>: "
   ]
  },
  {
   "cell_type": "markdown",
   "id": "faa35544",
   "metadata": {},
   "source": [
    "## Part 5 - RISC-V Single Cycle Propagation of Signals\n",
    "\n",
    "<b>Scope</b>:\n",
    "\n",
    "<b>Previous Examples</b>:\n",
    "\n",
    "<ul>\n",
    "    <li></li>\n",
    "</ul>\n",
    "\n",
    "<b>Notes, Requirements, or Hints</b>:\n",
    "\n",
    "<b>Key Insights</b>: "
   ]
  }
 ],
 "metadata": {
  "kernelspec": {
   "display_name": "Python 3 (ipykernel)",
   "language": "python",
   "name": "python3"
  },
  "language_info": {
   "codemirror_mode": {
    "name": "ipython",
    "version": 3
   },
   "file_extension": ".py",
   "mimetype": "text/x-python",
   "name": "python",
   "nbconvert_exporter": "python",
   "pygments_lexer": "ipython3",
   "version": "3.9.13"
  }
 },
 "nbformat": 4,
 "nbformat_minor": 5
}
