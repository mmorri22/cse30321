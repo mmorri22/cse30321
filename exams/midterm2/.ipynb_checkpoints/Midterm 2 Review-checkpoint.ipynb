{
 "cells": [
  {
   "cell_type": "markdown",
   "id": "4e321917",
   "metadata": {},
   "source": [
    "# Midterm 2 Review - <font color = \"red\">Under Construction</font>\n",
    "\n",
    "<b>Date</b>: Thursday, 3/28/2024 <br>\n",
    "<b>Time Frame</b>: 11:00am - 12:15pm<br>\n",
    "<b>Location</b>: DeBartolo 116<br>"
   ]
  },
  {
   "cell_type": "markdown",
   "id": "6ee06c3e",
   "metadata": {},
   "source": [
    "## Administrative Details\n",
    "\n",
    "Read these administrative notes regarding the Exam carefully.\n",
    "\n",
    "<ol>\n",
    "    <li><b>Closed</b> book, laptop, cellphone, notes, <s>mind</s>.</li>\n",
    "    <li>You will be permitted the use of a calculator for <b>Performance question calculations</b> <i>only</i>. It is possible to earn full credit on these problems without the use of a calculator. Memory <i>must be cleared</i> prior to the start of the Exam. Referencing information in a calculator for any other portion of the Exam will result in a 0 on the Exam and referral to the University Honor Committee.</li>\n",
    "    <li>The exam will begin once everyone has <b>all unauthorized materials put away at 11:00am</b>. They must be transparent to the exam taker, not visible.</li>\n",
    "    <li>Yes, that was a lame Computer Architecture/Organization joke</li>\n",
    "    <li>The exam period will be <b>concluded promptly at 12:15pm</b>. No extensions may be granted other than through the <a href = \"https://supportandcare.nd.edu/for-students/\">Sara Bea Accessibility Services center</a>.</li>\n",
    "</ol>"
   ]
  },
  {
   "cell_type": "markdown",
   "id": "f230a99f",
   "metadata": {},
   "source": [
    "## Exam Coverage\n",
    "\n",
    "Midterm Exam 2 <b>will</b> cover the following content from <a href = \"https://canvas.nd.edu/courses/82217/pages/lecture-notes-and-schedule\">Lecture Notes and Schedule</a> page:\n",
    "<ul>\n",
    "    <li>Lectures 10 - 17</li>\n",
    "    <li>Reading Assignments 05 - 09</li>\n",
    "</ul>\n",
    "\n",
    "Midterm Exam 2 will not <b>not</b> cover Lecture 18 (Virtual Memory) nor Reading 10 (Virtual Memory Introduction). These concepts will be on the Final Exam.\n",
    "\n",
    "Midterm Exam 2 is <b>not cumulative</b>, so topics covered in Midterm Exam 1 (Lectures 00-09) will not be asked."
   ]
  },
  {
   "cell_type": "markdown",
   "id": "96018ef1",
   "metadata": {},
   "source": [
    "## Exam Content\n",
    "\n",
    "In these exam reviews, I will detail critical information about the content which you will be evaluated. You will be responsible for developing review problem solutions for your own studies (meaning I will not be posting a \"Review Key\").\n",
    "\n",
    "These details include:\n",
    "\n",
    "<ul>\n",
    "    <li>The <b>scope</b> of the question(s)</li>\n",
    "    <li><b>Previous examples</b> we have covered in class or the homework assignments that will prepare you for the problem(s)</li>\n",
    "    <li>Any <b>notes</b>, <b>requirements</b>, or <b>hints</b> that will be provided on the Exam so you know the verbatim expectations</li>\n",
    "    <li><b>Key insights</b> into the objectives and methods of the examination</li>\n",
    "</ul>"
   ]
  },
  {
   "cell_type": "markdown",
   "id": "2a1c67ec",
   "metadata": {},
   "source": [
    "## Part 1 - Reading and Lecture Review\n",
    "\n",
    "<b>Scope</b>: Word problems where students <b>demonstrate fundamental understanding</b> of Computer Architecture concepts.\n",
    "\n",
    "<b>Previous Examples</b>:\n",
    "\n",
    "Part 1 will be a <i>subset</i> of the following concepts.\n",
    "\n",
    "<ul>\n",
    "    <li>Homework 5 - Problem 1</li>\n",
    "    <li>Homework 5 - Problem 3</li>\n",
    "    <li>Homework 6 - Problem 1</li>\n",
    "    <li>Homework 6 - Problem 2</li>\n",
    "    <li>Homework 6 - Problem 3</li>\n",
    "</ul>\n",
    "\n",
    "<b>Notes, Requirements, or Hints</b>:\n",
    "\n",
    "<ul>\n",
    "    <li>Problem statements with <b>\"in your own words\"</b> will be part of this statement \"<b>Concisely describe</b> in your own words, <b>in no more than 1-2 sentences</b>, ...\". This statement is to indicate that you do not need to write several paragraphs to answer.</li> \n",
    "</ul>\n",
    "\n",
    "<b>Key Insights</b>: \n",
    "<ul>\n",
    "    <li>Focus on <b>understanding</b> the ideas.</li>\n",
    "    <li>Be sure to focus on conciseness so you can dedicate more of your efforts on other Exam problems.</li>\n",
    "</ul>\n"
   ]
  },
  {
   "cell_type": "markdown",
   "id": "c3589b9d",
   "metadata": {},
   "source": [
    "## Part 2 - Pipelining\n",
    "\n",
    "<b>Scope</b>: There will be two comprehensive problems where students will <b>identify pipeline hazards</b>, insert stalls for a pipeline <b>without data forwarding</b>, insert stalls for a pipeline hazard <b>with data forwarding</b>, <b>rearrange the instructions to minimize the need for stalls</b>, and account for <b>looping</b>.\n",
    "\n",
    "<b>Previous Examples</b>:\n",
    "<ul>\n",
    "    <li>Lecture 12 - In Class Problems</li> \n",
    "    <li>Homework 05 - Problem 5</li>\n",
    "    <li>Homework 05 - Problem 6</li>\n",
    "    <li>Homework 05 - Problem 9</li>\n",
    "</ul>\n",
    "\n",
    "<b>Notes, Requirements, or Hints</b>:\n",
    "<ul>\n",
    "    <li>Be careful to pay attention to the details in the problem statements. For example, be sure to properly differentiate between when data forwarding does and does not exist.</li>\n",
    "    <li>For the pipelining looping problem, review the key. Note that the branching representation accounted for <b>stalls</b>, and that the flushed instructions were not there. This is to ensure relative simplicity of the solution and to represent the final operation as viewed by the programmer.</li>\n",
    "</ul>\n",
    "\n",
    "<b>Key Insights</b>: \n",
    "<ul>\n",
    "    <li>For the pipelining looping problem, you will demonstrate the capability of processing information at architectural level while considering the impacts of delays and branch predictions on operations by computing cycle.</li> \n",
    "</ul>"
   ]
  },
  {
   "cell_type": "markdown",
   "id": "c375c2c0",
   "metadata": {},
   "source": [
    "## Part 3 - Branch Prediction\n",
    "\n",
    "<b>Scope</b>: Students will demonstrate their understanding of how branch prediction <b>improves performance</b> as well as the process of implementing <b>branch prediction algorithms</b> such as <b>correlating branch prediction</b>\n",
    "\n",
    "<b>Previous Examples</b>:\n",
    "<ul>\n",
    "    <li>In-Class Lecture 13 Problem 2</li>\n",
    "    <li>Homework 5 - Problem 7</li>\n",
    "</ul>\n",
    "\n",
    "<b>Notes, Requirements, or Hints</b>:\n",
    "<ul>\n",
    "    <li>When practicing the problem, be sure to leave space for keeping track of steps. The reason the steps were included in lecture is so that - in the event you make a mistake - partial credit (aka \"Error Carried Forward\") may be given if your subsequent steps are correct.</li>\n",
    "</ul>\n",
    "\n",
    "<b>Key Insights</b>: \n",
    "<ul>\n",
    "    <li>One of the reasons to understand branch prediction will be in implementing multiprocessing and multithreading. As the scope of the architecture grows, the benefits of correlating branch prediction will become clearer.</li>  \n",
    "</ul>"
   ]
  },
  {
   "cell_type": "markdown",
   "id": "d9dd72ea",
   "metadata": {},
   "source": [
    "## Part 4 - Memory Hierarchy\n",
    "\n",
    "<b>Scope</b>: Given the construction of a database entry and a number of elements, calculate the <b>amount of memory consumed on a disk</b> for both segmentation and paging, and then draw the layouts of each block. Replicate the result when rearranging the C struct alignment to improve disk storage.\n",
    "    \n",
    "<b>Previous Examples</b>:\n",
    "<ul>\n",
    "    <li>In-Class Lecture 14 Problem</li>\n",
    "    <li>Homework 06 - Problem 5</li>\n",
    "</ul>\n",
    "\n",
    "<b>Notes, Requirements, or Hints</b>:\n",
    "<ul>\n",
    "    <li>Understanding how disk accessing works will help for both the memory storage calculations.</li>\n",
    "    <li>Just like Homework 06 - Problem 5, you will not be required to draw the improved memory layout since you've already demonstrated understanding by successfully drawing it the first time. For Part 2, the improvement in memory savings for both is critical for success.</li>\n",
    "</ul>\n",
    "\n",
    "<b>Key Insights</b>: \n",
    "<ul>\n",
    "    <li>Recall that, while segmentation will use less memory - at first - than paging, that splitting the memory element across disk blocks requires a second disk access for each read, write, or delete operation. So the tradeoff is <b>memory</b> and <b>disk access performance</b>.</li>\n",
    "    <li>Remember the demo in Lecture 16 where the access time really slowed down? That is where segmentation has flaws, since we \n",
    "</ul> "
   ]
  },
  {
   "cell_type": "markdown",
   "id": "faa35544",
   "metadata": {},
   "source": [
    "## Part 5 - Direct and Set Associativity Caching\n",
    "\n",
    "<b>Scope</b>: You will be given a set of cache memory accesses. You will draw the layout and operations for Direct and Set Associative Caches.\n",
    "\n",
    "<b>Previous Examples</b>:\n",
    "<ul>\n",
    "    <li>Lecture 16 - In-Class Problem 1</li>\n",
    "    <li>Homework 03 - Problem 6</li>\n",
    "</ul>\n",
    "\n",
    "<b>Notes, Requirements, or Hints</b>:\n",
    "<ul>\n",
    "    <li>Recall how the size of the <b>tag</b> and <b>index</b> are calculated.</li>\n",
    "    <li>Convert the numbers to binary first, and then perform the problem</li>\n",
    "</ul>\n",
    "\n",
    "<b>Key Insights</b>: \n",
    "<ul>\n",
    "    <li>Set Associativity is beneficial as accesses improve. Combining Set Associativity with Correlating Branch Prediction was a critical innovation to make multiprocessing in Python possible.</li>\n",
    "</ul>"
   ]
  },
  {
   "cell_type": "markdown",
   "id": "6acb8269",
   "metadata": {},
   "source": [
    "## Part 6 - Cache and Disk-Aware Programming and Data Structures\n",
    "\n",
    "<b>Scope</b>: You will be asked to demonstrate how to change programs and leverage data structures to improve programming performance and storage.\n",
    "\n",
    "<b>Previous Examples</b>:\n",
    "<ul>\n",
    "    <li>Lecture 16 - In-Class Problem 3</li>\n",
    "    <li>Lecture 17 - In-Class Problem 1</li>\n",
    "    <li>Lecture 17 - In-Class Problem 2</li>\n",
    "</ul>\n",
    "\n",
    "<b>Notes, Requirements, or Hints</b>:\n",
    "<ul>\n",
    "    <li>You can practice Splay Tree problems at <a href = \"https://www.cs.usfca.edu/~galles/visualization/SplayTree.html\">https://www.cs.usfca.edu/~galles/visualization/SplayTree.html</a></li>\n",
    "    <li>You can practice B-Tree problems at <a href = \"https://www.cs.usfca.edu/~galles/visualization/BTree.html\">https://www.cs.usfca.edu/~galles/visualization/BTree.html</a>. To simplify your studies, the B-Tree problem will be a Max Degree of 3 problem.</li>\n",
    "    <li>For the Cache-Aware Programming problem, go through the <a href = \"https://canvas.nd.edu/courses/82217/files/3426372/download\">PPTX</a> for Lecture 16 in order to gain understanding. The code is provided to help you gain an intuitive understanding of how these code optimizations improve performance. Seeing for yourself will help simplify the problem.</li>\n",
    "</ul>"
   ]
  }
 ],
 "metadata": {
  "kernelspec": {
   "display_name": "Python 3 (ipykernel)",
   "language": "python",
   "name": "python3"
  },
  "language_info": {
   "codemirror_mode": {
    "name": "ipython",
    "version": 3
   },
   "file_extension": ".py",
   "mimetype": "text/x-python",
   "name": "python",
   "nbconvert_exporter": "python",
   "pygments_lexer": "ipython3",
   "version": "3.9.13"
  }
 },
 "nbformat": 4,
 "nbformat_minor": 5
}
