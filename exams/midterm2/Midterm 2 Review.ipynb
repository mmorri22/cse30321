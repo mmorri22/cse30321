{
 "cells": [
  {
   "cell_type": "markdown",
   "id": "4e321917",
   "metadata": {},
   "source": [
    "# Midterm 2 Review - <font color = \"red\">Under Construction</font>\n",
    "\n",
    "<b>Date</b>: Thursday, 3/28/2024 <br>\n",
    "<b>Time Frame</b>: 11:00am - 12:15pm<br>\n",
    "<b>Location</b>: DeBartolo 116<br>"
   ]
  },
  {
   "cell_type": "markdown",
   "id": "6ee06c3e",
   "metadata": {},
   "source": [
    "## Administrative Details\n",
    "\n",
    "Read these administrative notes regarding the Exam carefully.\n",
    "\n",
    "<ol>\n",
    "    <li><b>Closed</b> book, laptop, cellphone, notes, <s>mind</s>.</li>\n",
    "    <li>You will be permitted the use of a calculator for <b>Performance question calculations</b> <i>only</i>. It is possible to earn full credit on these problems without the use of a calculator. Memory <i>must be cleared</i> prior to the start of the Exam. Referencing information in a calculator for any other portion of the Exam will result in a 0 on the Exam and referral to the University Honor Committee.</li>\n",
    "    <li>The exam will begin once everyone has <b>all unauthorized materials put away at 11:00am</b>. They must be transparent to the exam taker, not visible.</li>\n",
    "    <li>Yes, that was a lame Computer Architecture/Organization joke</li>\n",
    "    <li>The exam period will be <b>concluded promptly at 12:15pm</b>. No extensions may be granted other than through the <a href = \"https://supportandcare.nd.edu/for-students/\">Sara Bea Accessibility Services center</a>.</li>\n",
    "</ol>"
   ]
  },
  {
   "cell_type": "markdown",
   "id": "f230a99f",
   "metadata": {},
   "source": [
    "## Exam Coverage\n",
    "\n",
    "Midterm Exam 2 <b>will</b> cover the following content from <a href = \"https://canvas.nd.edu/courses/82217/pages/lecture-notes-and-schedule\">Lecture Notes and Schedule</a> page:\n",
    "<ul>\n",
    "    <li>Lectures 10 - 17</li>\n",
    "    <li>Reading Assignments 05 - 09</li>\n",
    "</ul>\n",
    "\n",
    "Midterm Exam 2 <b>not</b> cover Lecture 18 (Virtual Memory) nor Reading 10 (Virtual Memory Introduction). These concepts will be on the Final Exam."
   ]
  },
  {
   "cell_type": "markdown",
   "id": "96018ef1",
   "metadata": {},
   "source": [
    "## Exam Content\n",
    "\n",
    "In these exam reviews, I will detail critical information about the content which you will be evaluated. You will be responsible for developing review problem solutions for your own studies (meaning I will not be posting a \"Review Key\").\n",
    "\n",
    "These details include:\n",
    "\n",
    "<ul>\n",
    "    <li>The <b>scope</b> of the question(s)</li>\n",
    "    <li><b>Previous examples</b> we have covered in class or the homework assignments that will prepare you for the problem(s)</li>\n",
    "    <li>Any <b>notes</b>, <b>requirements</b>, or <b>hints</b> that will be provided on the Exam so you know the verbatim expectations</li>\n",
    "    <li><b>Key insights</b> into the objectives and methods of the examination</li>\n",
    "</ul>"
   ]
  },
  {
   "cell_type": "markdown",
   "id": "2a1c67ec",
   "metadata": {},
   "source": [
    "## Part 1 - Reading and Lecture Review\n",
    "\n",
    "<b>Scope</b>: Word problems where students <b>demonstrate fundamental understanding</b> of Computer Architecture concepts.\n",
    "\n",
    "<b>Previous Examples</b>:\n",
    "\n",
    "Part 1 will be a <i>subset</i> of the following concepts.\n",
    "\n",
    "<ul>\n",
    "    <li>Homework 5 - Problem 1</li>\n",
    "    <li>Homework 5 - Problem 3</li>\n",
    "    <li>Homework 6 - Problem 1</li>\n",
    "    <li>Homework 6 - Problem 2</li>\n",
    "    <li>Homework 6 - Problem 3</li>\n",
    "</ul>\n",
    "\n",
    "<b>Notes, Requirements, or Hints</b>:\n",
    "\n",
    "<ul>\n",
    "    <li>Problem statements with <b>\"in your own words\"</b> will be part of this statement \"<b>Concisely describe</b> in your own words, <b>in no more than 1-2 sentences</b>, ...\". This statement is to indicate that you do not need to write several paragraphs to answer.</li> \n",
    "</ul>\n",
    "\n",
    "<b>Key Insights</b>: \n",
    "<ul>\n",
    "    <li>Focus on <b>understanding</b> the ideas.</li>\n",
    "    <li>Be sure to focus on conciseness so you can dedicate more of your efforts on other Exam problems.</li>\n",
    "</ul>\n"
   ]
  },
  {
   "cell_type": "markdown",
   "id": "c3589b9d",
   "metadata": {},
   "source": [
    "## Part 2 - Pipelining\n",
    "\n",
    "<b>Scope</b>: There will be two comprehensive problems where students will <b>identify pipeline hazards</b>, <b>insert stalls for a pipeline without data forwarding</b>, <b>insert stalls for a pipeline hazard with data forwarding</b>, <b>rearrange the instructions to minimize the need for stalls</b>, and account for <b>looping</b>.\n",
    "\n",
    "<b>Previous Examples</b>:\n",
    "<ul>\n",
    "    <li>Lecture 12 - In Class Problems</li> \n",
    "    <li>Homework 05 - Problem 5</li>\n",
    "    <li>Homework 05 - Problem 6</li>\n",
    "    <li>Homework 05 - Problem 9</li>\n",
    "</ul>\n",
    "\n",
    "<b>Notes, Requirements, or Hints</b>:\n",
    "<ul>\n",
    "    <li>Be careful to pay attention to the details in the problem statements. For example, be sure to properly differentiate between when data forwarding does and does not exist.</li>\n",
    "</ul>\n",
    "\n",
    "<b>Key Insights</b>: \n",
    "<ul>\n",
    "    <li>For the pipelining looping problem, you will demonstrate the capability of processing information at architectural level while considering the impacts of delays and branch predictions on operations by computing cycle.</li> \n",
    "</ul>"
   ]
  },
  {
   "cell_type": "markdown",
   "id": "c375c2c0",
   "metadata": {},
   "source": [
    "## Part 3 - Branch Prediction\n",
    "\n",
    "<b>Scope</b>: Students will demonstrate their understanding of how branch prediction <b>improves performance</b> as well as the process of implementing <b>branch prediction algorithms</b>. \n",
    "\n",
    "For this section, <b>converting to encoding will not be required</b>. You will do this in Part 5. Note in the list of previous examples, I have included the previous problem statements with the encoding portions crossed out to show you the difference for the Exam so you can focus your studies appropriately.\n",
    "\n",
    "<b>Previous Examples</b>:\n",
    "<ul>\n",
    "    <li>In-Class Lecture 13 Problem 2</li>\n",
    "    <li>Homework 7 - Problem 7</li>\n",
    "</ul>\n",
    "\n",
    "<b>Notes, Requirements, or Hints</b>:\n",
    "<ul>\n",
    "    <li>When practicing the problem, be sure to leave space for keeping track of steps. The reason the steps were included in lecture is so that - in the event you make a mistake - partial credit (aka \"Error Carried Forward\") may be given if your subsequent steps are correct.</li>\n",
    "</ul>\n",
    "\n",
    "<b>Key Insights</b>: \n",
    "<ul>\n",
    "    <li>One of the reasons to understand branch prediction will be in implementing multiprocessing and multithreading. As the scope of the architecture grows, the benefits of correlating branch prediction will become clearer.</li>  \n",
    "</ul>"
   ]
  },
  {
   "cell_type": "markdown",
   "id": "d9dd72ea",
   "metadata": {},
   "source": [
    "## Part 4 - Computer Architecture Memory Alignment\n",
    "\n",
    "<b>Scope</b>: Given a C struct, students will calculate the size consumed in memory based on their understanding of <b>memory alignment</b> in computer architectures. Then, they will re-write the C struct to <b>improve</b> the memory consumption, justifying their design by calculating the new size.\n",
    "\n",
    "<b>Previous Examples</b>:\n",
    "<ul>\n",
    "    <li>In-Class Lecture 05 C Struct Optimization Solution</li>\n",
    "    <li>Homework 03 - Problem 7</li>\n",
    "</ul>\n",
    "\n",
    "<b>Notes, Requirements, or Hints</b>:\n",
    "<ul>\n",
    "    <li>The details of <code>gcc</code>, the <code>x86</code> architecture, and the Ubuntu 22.02 operating systems in the problem are included to <b>maintain consistency</b> with the examples from class and the homework assignment, and to reinforce the concepts of knowledgable performance benchmarking. They will not be different on the Exam.</li>\n",
    "</ul>\n",
    "\n",
    "<b>Key Insights</b>: \n",
    "<ul>\n",
    "    <li>The objective of this problem is to give the student the opportunity to demonstrate their understanding of how the <b>Principle of Locality</b> impacts computing performance at <i>both</i> the <b>architectural</b> and <b>operating systems</b> <u>levels of abstraction</u>.</li>\n",
    "    <li>I've found students understand the concept easier if I have them sort by float and then int, since double comes first. The best explanation I can give for the way I teach it is, eventually, more students will produce the right answer on the exams that way.</li>\n",
    "</ul> "
   ]
  },
  {
   "cell_type": "markdown",
   "id": "faa35544",
   "metadata": {},
   "source": [
    "## Part 5 - RISC-V Single Cycle Datapath Operation\n",
    "\n",
    "<b>Scope</b>: You will be given an instruction. You will convert the instruction to a binary encoding, and then show the propagation of the digital signals through the instruction\n",
    "\n",
    "In class, we covered R-type, lw, sw, addi, beq, and bne. Part 5 will be a <i>subset</i> of those concepts, and there will be three such problems on the Exam.\n",
    "\n",
    "<b>Previous Examples</b>:\n",
    "<ul>\n",
    "    <li>Lecture 06 - R-Type (add) Single Cycle Example Solution, plus encoding</li>\n",
    "    <li>Lecture 07 - Single Cycle In-Class Solutions, plus encoding</li>\n",
    "</ul>\n",
    "\n",
    "<b>Example problem phrasing</b>: Given the following RISC-V instruction and register / data memory values, perform the following tasks. First, translate the given RISC-V instruction to its binary encoding. Second, show the propagation of signals through the reduced Single-Cycle datapath that calculate the result of the instruction. You are permitted and encouraged to refer to the RISC-V Green sheet while completing the problem. The values of the registers / memory are the values at the beginning of the instruction.\n",
    "\n",
    "<b>Template:</b> The blank template to develop your own problems may be found at this link: <b><a href = \"https://github.com/mmorri22/cse30321/blob/main/exams/midterm1/RISC-V%20Single%20Cycle%20Blank%20Template.pdf\">RISC-V Single Cycle Blank Template</a></b>\n",
    "\n",
    "<b>Notes, Requirements, or Hints</b>:\n",
    "<ul>\n",
    "    <li>For any <b>R-type</b> instruction version of this problem, you are welcome to put <b>don't care</b> values <b>(X)</b> in boxes <b>8</b>, <b>13</b>, and <b>14</b>, since those values require a detailed design understanding of the Immediate Generate and ALU branch bit calculation, which are outside the scope of this course in hex.</li>\n",
    "    <li>Be able to do any fundamental R-Type instructions, such as <code>add</code>, <code>sub</code>, <code>and</code>, and <code>or</code>. This includes being able to AND/OR the output of the ALU.</li>\n",
    "    <li>For any <b>I-type</b>, or <b>S-type</b> instruction version of this problem, you are welcome to put <b>don't care</b> values <b>(X)</b> in boxes <b>13</b>, <b>14</b>, and <b>19</b> since you are not evaluating a branch, and the RD2 value is referred to by an irrelevant data value. You <b>must</b> still fill out box <b>8</b> to indicate the value of the immediate (which will be the same as the immediate for the instruction).</li>\n",
    "    <li>For a <b>sw</b> instruction, you are welcome to put <b>don't care</b> values <b>(X)</b> in boxes <b>22</b>, and <b>23</b>, since the value written back is irrelevant.</li>\n",
    "    <li>For an <b>SB-Type</b> instruction, you are welcome to put <b>don't care</b> values <b>(X)</b> in boxes <b>5</b>, <b>22</b>, and <b>23</b>, since there is no rd, and the value written back is irrelevant.</li>\n",
    "</ul>\n",
    "\n",
    "<b>Key Insights</b>: \n",
    "<ul>\n",
    "    <li>The objective of showing the flow of data in these problems, is to give the student the opportunity to demonstrate their understanding of the <b>four design principles</b>, specifically that using control signals to decide between to created results promotes <b>simplicity favoring regularity</b> and for ALUOp and the 4-bit signal into the ALU promoting <b>making the common case fast</b>.</li>\n",
    "    <li>Practice for this problem using the Reduced RISC-V Green Sheet on the Documents page. All information you would need to solve the problem is provided on the Green Sheet.</li>\n",
    "    <li>Remember for <b>branch</b> instructions that the operation performed by the ALU is a <b>subtraction</b>, so use the corresponding ALU Output for subtraction</li>\n",
    "    <li>The requirement to produce <b>hexadecimal calculatoe results</b> on the output of the ALU and adders is an opportunity for the student to demonstrate mastery of logic design concepts by applying them at an advanced stage.</li>\n",
    "</ul>"
   ]
  }
 ],
 "metadata": {
  "kernelspec": {
   "display_name": "Python 3 (ipykernel)",
   "language": "python",
   "name": "python3"
  },
  "language_info": {
   "codemirror_mode": {
    "name": "ipython",
    "version": 3
   },
   "file_extension": ".py",
   "mimetype": "text/x-python",
   "name": "python",
   "nbconvert_exporter": "python",
   "pygments_lexer": "ipython3",
   "version": "3.9.13"
  }
 },
 "nbformat": 4,
 "nbformat_minor": 5
}
